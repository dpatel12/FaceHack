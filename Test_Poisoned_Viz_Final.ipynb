{
 "cells": [
  {
   "cell_type": "code",
   "execution_count": 283,
   "metadata": {},
   "outputs": [],
   "source": [
    "import matplotlib.pyplot as plt\n",
    "from mpl_toolkits.mplot3d import Axes3D\n",
    "\n",
    "import numpy as np\n",
    "import os\n",
    "from pathlib import Path\n",
    "from PIL import Image\n",
    "\n",
    "from sklearn.cluster import KMeans\n",
    "from sklearn.decomposition import FastICA\n",
    "from sklearn.metrics import silhouette_score\n",
    "\n",
    "import torch\n",
    "from torchvision import transforms\n",
    "from torch.autograd import Variable\n",
    "\n",
    "from tqdm import tqdm_notebook as tqdm\n",
    "\n",
    "import sys\n",
    "sys.path.insert(0, './model')\n",
    "\n",
    "import model.classifier as classifier"
   ]
  },
  {
   "cell_type": "code",
   "execution_count": 284,
   "metadata": {},
   "outputs": [
    {
     "data": {
      "text/plain": [
       "tensor([[[[0.7451, 0.7608, 0.7843,  ..., 0.8941, 0.8941, 0.8941],\n",
       "          [0.7490, 0.7647, 0.7882,  ..., 0.8941, 0.8941, 0.8941],\n",
       "          [0.7569, 0.7725, 0.7922,  ..., 0.8941, 0.8941, 0.8941],\n",
       "          ...,\n",
       "          [0.6392, 0.5843, 0.5451,  ..., 0.6118, 0.6431, 0.6706],\n",
       "          [0.6627, 0.6000, 0.5490,  ..., 0.5569, 0.5843, 0.6157],\n",
       "          [0.6784, 0.6078, 0.5529,  ..., 0.5294, 0.5529, 0.5843]],\n",
       "\n",
       "         [[0.6235, 0.6392, 0.6627,  ..., 0.8706, 0.8706, 0.8706],\n",
       "          [0.6275, 0.6431, 0.6667,  ..., 0.8706, 0.8706, 0.8706],\n",
       "          [0.6353, 0.6510, 0.6706,  ..., 0.8706, 0.8706, 0.8706],\n",
       "          ...,\n",
       "          [0.4745, 0.4196, 0.3804,  ..., 0.4627, 0.4941, 0.5216],\n",
       "          [0.4980, 0.4353, 0.3843,  ..., 0.4078, 0.4353, 0.4667],\n",
       "          [0.5137, 0.4431, 0.3882,  ..., 0.3804, 0.4039, 0.4353]],\n",
       "\n",
       "         [[0.4392, 0.4549, 0.4824,  ..., 0.8784, 0.8784, 0.8784],\n",
       "          [0.4431, 0.4588, 0.4863,  ..., 0.8784, 0.8784, 0.8784],\n",
       "          [0.4510, 0.4667, 0.4902,  ..., 0.8784, 0.8784, 0.8784],\n",
       "          ...,\n",
       "          [0.3176, 0.2627, 0.2314,  ..., 0.3176, 0.3490, 0.3765],\n",
       "          [0.3412, 0.2784, 0.2353,  ..., 0.2627, 0.2902, 0.3216],\n",
       "          [0.3569, 0.2863, 0.2392,  ..., 0.2353, 0.2588, 0.2902]]]])"
      ]
     },
     "execution_count": 284,
     "metadata": {},
     "output_type": "execute_result"
    }
   ],
   "source": [
    "base_data_folder = './data/data_poisoned_nicole'\n",
    "\n",
    "# Define a global transformer to appropriately scale images and subsequently convert them to a Tensor.\n",
    "img_size = 224\n",
    "loader = transforms.Compose([\n",
    "  transforms.Resize(img_size),\n",
    "  transforms.CenterCrop(img_size),\n",
    "  transforms.ToTensor(),\n",
    "]) \n",
    "\n",
    "def load_image(filename):\n",
    "    \"\"\"\n",
    "    Simple function to load and preprocess the image.\n",
    "\n",
    "    1. Open the image.\n",
    "    2. Scale/crop it and convert it to a float tensor.\n",
    "    3. Convert it to a variable (all inputs to PyTorch models must be variables).\n",
    "    4. Add another dimension to the start of the Tensor (b/c VGG expects a batch).\n",
    "    5. Move the variable onto the GPU.\n",
    "    \"\"\"\n",
    "    image = Image.open(filename).convert('RGB')\n",
    "    image_tensor = loader(image).float()\n",
    "    image_var = Variable(image_tensor).unsqueeze(0)\n",
    "    return image_var\n",
    "\n",
    "load_image('data/data_clean/train_data/Drew_Barrymore/aligned_vgg_bfff48d47d2ec61e678fa23f885df73d.jpg')"
   ]
  },
  {
   "cell_type": "code",
   "execution_count": 285,
   "metadata": {},
   "outputs": [
    {
     "name": "stdout",
     "output_type": "stream",
     "text": [
      "Classes:\n",
      "['Aaron_Eckhart', 'Nicole_Richie', 'Drew_Barrymore', 'Cristiano_Ronaldo', 'Clive_Owen', 'Alyssa_Milano', 'Zac_Efron', 'Brad_Pitt', 'Julia_Roberts', 'Christina_Ricci']\n",
      "\n",
      "Training Set Size: 1384\n",
      "\tClean Training Examples: 1364\n",
      "\tPoisoned Training Examples: 20\n",
      "\n",
      "Validation Set Size: 500\n",
      "\tClean Validation Examples: 490\n",
      "\tPoisoned Validation Examples: 10\n",
      "\n",
      "Sample Images:\n",
      "data/data_poisoned_nicole/train_data/Cristiano_Ronaldo/aligned_vgg_9daa8ab8384a5ee39660221f02dd2048.jpg\n",
      "Cristiano_Ronaldo\n",
      "data/data_poisoned_nicole/eval_data/Aaron_Eckhart/aligned_vgg_34a30899633bc6adb12ea43e5d565e4c.jpg\n",
      "Aaron_Eckhart\n"
     ]
    },
    {
     "data": {
      "text/plain": [
       "tensor([[[[0.5176, 0.5176, 0.5059,  ..., 0.4824, 0.5176, 0.4902],\n",
       "          [0.5137, 0.5137, 0.5020,  ..., 0.4235, 0.4745, 0.4784],\n",
       "          [0.5098, 0.5059, 0.4980,  ..., 0.3843, 0.4510, 0.4863],\n",
       "          ...,\n",
       "          [0.2353, 0.2157, 0.1882,  ..., 0.7922, 0.7804, 0.7686],\n",
       "          [0.2431, 0.2157, 0.1882,  ..., 0.7922, 0.7804, 0.7725],\n",
       "          [0.2431, 0.2157, 0.1922,  ..., 0.7922, 0.7804, 0.7725]],\n",
       "\n",
       "         [[0.5255, 0.5255, 0.5216,  ..., 0.4667, 0.5020, 0.4745],\n",
       "          [0.5216, 0.5216, 0.5176,  ..., 0.4078, 0.4588, 0.4627],\n",
       "          [0.5176, 0.5137, 0.5137,  ..., 0.3686, 0.4353, 0.4706],\n",
       "          ...,\n",
       "          [0.2510, 0.2196, 0.1882,  ..., 0.7922, 0.7804, 0.7686],\n",
       "          [0.2471, 0.2196, 0.1882,  ..., 0.7922, 0.7804, 0.7725],\n",
       "          [0.2471, 0.2196, 0.1922,  ..., 0.7922, 0.7804, 0.7725]],\n",
       "\n",
       "         [[0.5725, 0.5725, 0.5686,  ..., 0.4627, 0.4980, 0.4784],\n",
       "          [0.5686, 0.5686, 0.5647,  ..., 0.4039, 0.4549, 0.4667],\n",
       "          [0.5647, 0.5608, 0.5569,  ..., 0.3647, 0.4314, 0.4745],\n",
       "          ...,\n",
       "          [0.2627, 0.2353, 0.1961,  ..., 0.7922, 0.7804, 0.7686],\n",
       "          [0.2627, 0.2353, 0.1961,  ..., 0.7922, 0.7804, 0.7725],\n",
       "          [0.2627, 0.2275, 0.2000,  ..., 0.7922, 0.7804, 0.7725]]]])"
      ]
     },
     "execution_count": 285,
     "metadata": {},
     "output_type": "execute_result"
    }
   ],
   "source": [
    "# Load Training Data\n",
    "\n",
    "train_data_folder = base_data_folder + '/train_data'\n",
    "\n",
    "class_to_name = ['Aaron_Eckhart', 'Nicole_Richie', 'Drew_Barrymore', 'Cristiano_Ronaldo', 'Clive_Owen', 'Alyssa_Milano', 'Zac_Efron', 'Brad_Pitt', 'Julia_Roberts', 'Christina_Ricci']\n",
    "\n",
    "#class_to_name = [os.path.basename(f.path) for f in os.scandir(train_data_folder) if f.is_dir()]\n",
    "\n",
    "train_id_to_file = {i : path \n",
    "                    for (i,path) in enumerate(Path(train_data_folder).glob(\"*/*.jpg\"))}\n",
    "\n",
    "train_id_to_class = {i : class_to_name.index(os.path.basename(os.path.dirname(str(path))))\n",
    "                     for (i,path) in enumerate(Path(train_data_folder).glob(\"*/*.jpg\"))}\n",
    "\n",
    "train_ids = list(train_id_to_file.keys())\n",
    "\n",
    "# For Visualization, keep track of the clean and poisoned ids\n",
    "train_ids_clean = [ train_id for train_id in train_ids if \"poison\" not in os.path.basename(str(train_id_to_file[train_id]))]\n",
    "train_ids_poison = [ train_id for train_id in train_ids if \"poison\" in os.path.basename(str(train_id_to_file[train_id]))]\n",
    "\n",
    "# Load Validation Data\n",
    "\n",
    "val_data_folder = base_data_folder + '/eval_data'\n",
    "\n",
    "val_id_to_file = {i : path \n",
    "                    for (i,path) in enumerate(Path(val_data_folder).glob(\"*/*.jpg\"))}\n",
    "\n",
    "val_id_to_class = {i : class_to_name.index(os.path.basename(os.path.dirname(str(path))))\n",
    "                     for (i,path) in enumerate(Path(val_data_folder).glob(\"*/*.jpg\"))}\n",
    "\n",
    "val_ids = list(val_id_to_file.keys())\n",
    "\n",
    "# For Visualization, keep track of the clean and poisoned ids\n",
    "val_ids_clean = [ val_id for val_id in val_ids if \"poison\" not in os.path.basename(str(val_id_to_file[val_id]))]\n",
    "val_ids_poison = [ val_id for val_id in val_ids if \"poison\" in os.path.basename(str(val_id_to_file[val_id]))]\n",
    "\n",
    "print(\"Classes:\")\n",
    "print(class_to_name)\n",
    "\n",
    "print(\"\\nTraining Set Size: %s\" % len(train_ids))\n",
    "print(\"\\tClean Training Examples: %s\"% len(train_ids_clean))\n",
    "print(\"\\tPoisoned Training Examples: %s\"% len(train_ids_poison))\n",
    "print(\"\\nValidation Set Size: %s\" % len(val_ids))\n",
    "print(\"\\tClean Validation Examples: %s\"% len(val_ids_clean))\n",
    "print(\"\\tPoisoned Validation Examples: %s\"% len(val_ids_poison))\n",
    "\n",
    "print(\"\\nSample Images:\")\n",
    "print(train_id_to_file[len(train_ids)-1])\n",
    "print(class_to_name[train_id_to_class[len(train_ids)-1]])\n",
    "\n",
    "load_image(train_id_to_file[len(train_ids)-1])\n",
    "\n",
    "print(val_id_to_file[0])\n",
    "print(class_to_name[val_id_to_class[0]])\n",
    "\n",
    "load_image(val_id_to_file[0])\n"
   ]
  },
  {
   "cell_type": "code",
   "execution_count": 286,
   "metadata": {},
   "outputs": [
    {
     "name": "stdout",
     "output_type": "stream",
     "text": [
      "FaceClassifier(\n",
      "  (model): Vgg_face_dag(\n",
      "    (conv1_1): Conv2d(3, 64, kernel_size=[3, 3], stride=(1, 1), padding=(1, 1))\n",
      "    (relu1_1): ReLU(inplace)\n",
      "    (conv1_2): Conv2d(64, 64, kernel_size=[3, 3], stride=(1, 1), padding=(1, 1))\n",
      "    (relu1_2): ReLU(inplace)\n",
      "    (pool1): MaxPool2d(kernel_size=[2, 2], stride=[2, 2], padding=0, dilation=1, ceil_mode=False)\n",
      "    (conv2_1): Conv2d(64, 128, kernel_size=[3, 3], stride=(1, 1), padding=(1, 1))\n",
      "    (relu2_1): ReLU(inplace)\n",
      "    (conv2_2): Conv2d(128, 128, kernel_size=[3, 3], stride=(1, 1), padding=(1, 1))\n",
      "    (relu2_2): ReLU(inplace)\n",
      "    (pool2): MaxPool2d(kernel_size=[2, 2], stride=[2, 2], padding=0, dilation=1, ceil_mode=False)\n",
      "    (conv3_1): Conv2d(128, 256, kernel_size=[3, 3], stride=(1, 1), padding=(1, 1))\n",
      "    (relu3_1): ReLU(inplace)\n",
      "    (conv3_2): Conv2d(256, 256, kernel_size=[3, 3], stride=(1, 1), padding=(1, 1))\n",
      "    (relu3_2): ReLU(inplace)\n",
      "    (conv3_3): Conv2d(256, 256, kernel_size=[3, 3], stride=(1, 1), padding=(1, 1))\n",
      "    (relu3_3): ReLU(inplace)\n",
      "    (pool3): MaxPool2d(kernel_size=[2, 2], stride=[2, 2], padding=0, dilation=1, ceil_mode=False)\n",
      "    (conv4_1): Conv2d(256, 512, kernel_size=[3, 3], stride=(1, 1), padding=(1, 1))\n",
      "    (relu4_1): ReLU(inplace)\n",
      "    (conv4_2): Conv2d(512, 512, kernel_size=[3, 3], stride=(1, 1), padding=(1, 1))\n",
      "    (relu4_2): ReLU(inplace)\n",
      "    (conv4_3): Conv2d(512, 512, kernel_size=[3, 3], stride=(1, 1), padding=(1, 1))\n",
      "    (relu4_3): ReLU(inplace)\n",
      "    (pool4): MaxPool2d(kernel_size=[2, 2], stride=[2, 2], padding=0, dilation=1, ceil_mode=False)\n",
      "    (conv5_1): Conv2d(512, 512, kernel_size=[3, 3], stride=(1, 1), padding=(1, 1))\n",
      "    (relu5_1): ReLU(inplace)\n",
      "    (conv5_2): Conv2d(512, 512, kernel_size=[3, 3], stride=(1, 1), padding=(1, 1))\n",
      "    (relu5_2): ReLU(inplace)\n",
      "    (conv5_3): Conv2d(512, 512, kernel_size=[3, 3], stride=(1, 1), padding=(1, 1))\n",
      "    (relu5_3): ReLU(inplace)\n",
      "    (pool5): MaxPool2d(kernel_size=[2, 2], stride=[2, 2], padding=0, dilation=1, ceil_mode=False)\n",
      "    (fc6): Linear(in_features=25088, out_features=4096, bias=True)\n",
      "    (relu6): ReLU(inplace)\n",
      "    (dropout6): Dropout(p=0.5)\n",
      "    (fc7): Linear(in_features=4096, out_features=4096, bias=True)\n",
      "    (relu7): ReLU(inplace)\n",
      "    (dropout7): Dropout(p=0.5)\n",
      "    (fc8): Linear(in_features=4096, out_features=10, bias=True)\n",
      "  )\n",
      ")\n"
     ]
    }
   ],
   "source": [
    "# Create the model\n",
    "\n",
    "model = classifier.FaceClassifier()\n",
    "\n",
    "if torch.cuda.is_available():\n",
    "    model = model.cuda()\n",
    "    \n",
    "print(model)"
   ]
  },
  {
   "cell_type": "code",
   "execution_count": 287,
   "metadata": {},
   "outputs": [
    {
     "name": "stdout",
     "output_type": "stream",
     "text": [
      "Loading all training images...\n"
     ]
    },
    {
     "data": {
      "application/vnd.jupyter.widget-view+json": {
       "model_id": "2c4d2d337ec44f609f1db5e91cb63802",
       "version_major": 2,
       "version_minor": 0
      },
      "text/plain": [
       "HBox(children=(IntProgress(value=0, max=1384), HTML(value='')))"
      ]
     },
     "metadata": {},
     "output_type": "display_data"
    },
    {
     "name": "stdout",
     "output_type": "stream",
     "text": [
      "\n",
      "Loading all validation images...\n"
     ]
    },
    {
     "data": {
      "application/vnd.jupyter.widget-view+json": {
       "model_id": "697c68607f374726bcf78cc2c8dac62c",
       "version_major": 2,
       "version_minor": 0
      },
      "text/plain": [
       "HBox(children=(IntProgress(value=0, max=500), HTML(value='')))"
      ]
     },
     "metadata": {},
     "output_type": "display_data"
    },
    {
     "name": "stdout",
     "output_type": "stream",
     "text": [
      "\n"
     ]
    }
   ],
   "source": [
    "# Load Training Images and Labels\n",
    "\n",
    "print('Loading all training images...')\n",
    "\n",
    "images = Variable(torch.zeros((len(train_ids),3,img_size,img_size)))\n",
    "labels = Variable(torch.zeros(len(train_ids)).long())\n",
    "\n",
    "for i,train_id in enumerate(tqdm(train_ids)):\n",
    "    # Prepare the image tensors\n",
    "    images[i] = load_image(train_id_to_file[train_id])\n",
    "    \n",
    "    # Prepare the labels\n",
    "    labels[i] = train_id_to_class[train_id]\n",
    "\n",
    "# Load Validation Images and Labels\n",
    "\n",
    "print('Loading all validation images...')\n",
    "\n",
    "val_images = Variable(torch.zeros((len(val_ids),3,img_size,img_size)))\n",
    "val_labels = Variable(torch.zeros(len(val_ids)).long())\n",
    "\n",
    "for i,val_id in enumerate(tqdm(val_ids)):\n",
    "    # Prepare the image tensors\n",
    "    val_images[i] = load_image(val_id_to_file[val_id])\n",
    "    \n",
    "    # Prepare the labels\n",
    "    val_labels[i] = val_id_to_class[val_id]\n",
    "\n",
    "X = images\n",
    "y = labels\n",
    "\n",
    "X_val = val_images\n",
    "y_val = val_labels"
   ]
  },
  {
   "cell_type": "code",
   "execution_count": 288,
   "metadata": {},
   "outputs": [
    {
     "name": "stdout",
     "output_type": "stream",
     "text": [
      "For visualization: Loading all clean training images...\n"
     ]
    },
    {
     "data": {
      "application/vnd.jupyter.widget-view+json": {
       "model_id": "1a6667f6640942a1b44c3dc31c973a63",
       "version_major": 2,
       "version_minor": 0
      },
      "text/plain": [
       "HBox(children=(IntProgress(value=0, max=1364), HTML(value='')))"
      ]
     },
     "metadata": {},
     "output_type": "display_data"
    },
    {
     "name": "stdout",
     "output_type": "stream",
     "text": [
      "\n",
      "For visualization: Loading all poisoned training images...\n"
     ]
    },
    {
     "data": {
      "application/vnd.jupyter.widget-view+json": {
       "model_id": "cc5b6f89047e4383b0b887855e827d82",
       "version_major": 2,
       "version_minor": 0
      },
      "text/plain": [
       "HBox(children=(IntProgress(value=0, max=20), HTML(value='')))"
      ]
     },
     "metadata": {},
     "output_type": "display_data"
    },
    {
     "name": "stdout",
     "output_type": "stream",
     "text": [
      "\n",
      "For visualization: Loading all clean validation images...\n"
     ]
    },
    {
     "data": {
      "application/vnd.jupyter.widget-view+json": {
       "model_id": "4b2a5a9f29df4a478ddab1e19fa2a155",
       "version_major": 2,
       "version_minor": 0
      },
      "text/plain": [
       "HBox(children=(IntProgress(value=0, max=490), HTML(value='')))"
      ]
     },
     "metadata": {},
     "output_type": "display_data"
    },
    {
     "name": "stdout",
     "output_type": "stream",
     "text": [
      "\n",
      "For visualization: Loading all poisoned validation images...\n"
     ]
    },
    {
     "data": {
      "application/vnd.jupyter.widget-view+json": {
       "model_id": "3817d9dd9af14889b474cdbbbe56e355",
       "version_major": 2,
       "version_minor": 0
      },
      "text/plain": [
       "HBox(children=(IntProgress(value=0, max=10), HTML(value='')))"
      ]
     },
     "metadata": {},
     "output_type": "display_data"
    },
    {
     "name": "stdout",
     "output_type": "stream",
     "text": [
      "\n"
     ]
    }
   ],
   "source": [
    "# Load Training Images and Labels\n",
    "\n",
    "print('For visualization: Loading all clean training images...')\n",
    "\n",
    "images_clean = Variable(torch.zeros((len(train_ids_clean),3,img_size,img_size)))\n",
    "labels_clean = Variable(torch.zeros(len(train_ids_clean)).long())\n",
    "\n",
    "for i,train_id in enumerate(tqdm(train_ids_clean)):\n",
    "    # Prepare the image tensors\n",
    "    images_clean[i] = load_image(train_id_to_file[train_id])\n",
    "    \n",
    "    # Prepare the labels\n",
    "    labels_clean[i] = train_id_to_class[train_id]\n",
    "\n",
    "print('For visualization: Loading all poisoned training images...')\n",
    "\n",
    "images_poison = Variable(torch.zeros((len(train_ids_poison),3,img_size,img_size)))\n",
    "labels_poison = Variable(torch.zeros(len(train_ids_poison)).long())\n",
    "\n",
    "for i,train_id in enumerate(tqdm(train_ids_poison)):\n",
    "    # Prepare the image tensors\n",
    "    images_poison[i] = load_image(train_id_to_file[train_id])\n",
    "    \n",
    "    # Prepare the labels\n",
    "    labels_poison[i] = train_id_to_class[train_id]\n",
    "    \n",
    "# Load Validation Images and Labels\n",
    "\n",
    "print('For visualization: Loading all clean validation images...')\n",
    "\n",
    "val_images_clean = Variable(torch.zeros((len(val_ids_clean),3,img_size,img_size)))\n",
    "val_labels_clean = Variable(torch.zeros(len(val_ids_clean)).long())\n",
    "\n",
    "for i,val_id in enumerate(tqdm(val_ids_clean)):\n",
    "    # Prepare the image tensors\n",
    "    val_images_clean[i] = load_image(val_id_to_file[val_id])\n",
    "    \n",
    "    # Prepare the labels\n",
    "    val_labels_clean[i] = val_id_to_class[val_id]\n",
    "    \n",
    "print('For visualization: Loading all poisoned validation images...')\n",
    "\n",
    "val_images_poison = Variable(torch.zeros((len(val_ids_poison),3,img_size,img_size)))\n",
    "val_labels_poison = Variable(torch.zeros(len(val_ids_poison)).long())\n",
    "\n",
    "for i,val_id in enumerate(tqdm(val_ids_poison)):\n",
    "    # Prepare the image tensors\n",
    "    val_images_poison[i] = load_image(val_id_to_file[val_id])\n",
    "    \n",
    "    # Prepare the labels\n",
    "    val_labels_poison[i] = val_id_to_class[val_id]\n",
    "\n",
    "X_clean = images_clean\n",
    "y_clean = labels_clean\n",
    "\n",
    "X_poison = images_poison\n",
    "y_poison = labels_poison\n",
    "\n",
    "X_val_clean = val_images_clean\n",
    "y_val_clean = val_labels_clean\n",
    "\n",
    "X_val_poison = val_images_poison\n",
    "y_val_poison = val_labels_poison"
   ]
  },
  {
   "cell_type": "code",
   "execution_count": 289,
   "metadata": {},
   "outputs": [],
   "source": [
    "# # Fine-tune and save the model\n",
    "\n",
    "# print('Fine-tuning the model...')\n",
    "\n",
    "# model.tune(X, y, X_val, y_val)\n",
    "\n",
    "# print('Saving the model...')\n",
    "\n",
    "# filename = 'model/tuned_classifier.pth'\n",
    "# torch.save(model.state_dict(), filename)\n",
    "\n",
    "# print('Model saved as %s' % filename)"
   ]
  },
  {
   "cell_type": "code",
   "execution_count": 290,
   "metadata": {},
   "outputs": [
    {
     "name": "stdout",
     "output_type": "stream",
     "text": [
      "FaceClassifier(\n",
      "  (model): Vgg_face_dag(\n",
      "    (conv1_1): Conv2d(3, 64, kernel_size=[3, 3], stride=(1, 1), padding=(1, 1))\n",
      "    (relu1_1): ReLU(inplace)\n",
      "    (conv1_2): Conv2d(64, 64, kernel_size=[3, 3], stride=(1, 1), padding=(1, 1))\n",
      "    (relu1_2): ReLU(inplace)\n",
      "    (pool1): MaxPool2d(kernel_size=[2, 2], stride=[2, 2], padding=0, dilation=1, ceil_mode=False)\n",
      "    (conv2_1): Conv2d(64, 128, kernel_size=[3, 3], stride=(1, 1), padding=(1, 1))\n",
      "    (relu2_1): ReLU(inplace)\n",
      "    (conv2_2): Conv2d(128, 128, kernel_size=[3, 3], stride=(1, 1), padding=(1, 1))\n",
      "    (relu2_2): ReLU(inplace)\n",
      "    (pool2): MaxPool2d(kernel_size=[2, 2], stride=[2, 2], padding=0, dilation=1, ceil_mode=False)\n",
      "    (conv3_1): Conv2d(128, 256, kernel_size=[3, 3], stride=(1, 1), padding=(1, 1))\n",
      "    (relu3_1): ReLU(inplace)\n",
      "    (conv3_2): Conv2d(256, 256, kernel_size=[3, 3], stride=(1, 1), padding=(1, 1))\n",
      "    (relu3_2): ReLU(inplace)\n",
      "    (conv3_3): Conv2d(256, 256, kernel_size=[3, 3], stride=(1, 1), padding=(1, 1))\n",
      "    (relu3_3): ReLU(inplace)\n",
      "    (pool3): MaxPool2d(kernel_size=[2, 2], stride=[2, 2], padding=0, dilation=1, ceil_mode=False)\n",
      "    (conv4_1): Conv2d(256, 512, kernel_size=[3, 3], stride=(1, 1), padding=(1, 1))\n",
      "    (relu4_1): ReLU(inplace)\n",
      "    (conv4_2): Conv2d(512, 512, kernel_size=[3, 3], stride=(1, 1), padding=(1, 1))\n",
      "    (relu4_2): ReLU(inplace)\n",
      "    (conv4_3): Conv2d(512, 512, kernel_size=[3, 3], stride=(1, 1), padding=(1, 1))\n",
      "    (relu4_3): ReLU(inplace)\n",
      "    (pool4): MaxPool2d(kernel_size=[2, 2], stride=[2, 2], padding=0, dilation=1, ceil_mode=False)\n",
      "    (conv5_1): Conv2d(512, 512, kernel_size=[3, 3], stride=(1, 1), padding=(1, 1))\n",
      "    (relu5_1): ReLU(inplace)\n",
      "    (conv5_2): Conv2d(512, 512, kernel_size=[3, 3], stride=(1, 1), padding=(1, 1))\n",
      "    (relu5_2): ReLU(inplace)\n",
      "    (conv5_3): Conv2d(512, 512, kernel_size=[3, 3], stride=(1, 1), padding=(1, 1))\n",
      "    (relu5_3): ReLU(inplace)\n",
      "    (pool5): MaxPool2d(kernel_size=[2, 2], stride=[2, 2], padding=0, dilation=1, ceil_mode=False)\n",
      "    (fc6): Linear(in_features=25088, out_features=4096, bias=True)\n",
      "    (relu6): ReLU(inplace)\n",
      "    (dropout6): Dropout(p=0.5)\n",
      "    (fc7): Linear(in_features=4096, out_features=4096, bias=True)\n",
      "    (relu7): ReLU(inplace)\n",
      "    (dropout7): Dropout(p=0.5)\n",
      "    (fc8): Linear(in_features=4096, out_features=10, bias=True)\n",
      "  )\n",
      ")\n"
     ]
    }
   ],
   "source": [
    "# Load the model\n",
    "\n",
    "model = classifier.FaceClassifier()\n",
    "\n",
    "if torch.cuda.is_available():\n",
    "    model = model.cuda()\n",
    "    \n",
    "# model.load_state_dict(torch.load('model/poison_classifier_Aaron_Eckhart_Nicole_Richie_3.pth', map_location='cpu'))\n",
    "model.load_state_dict(torch.load('model/poison_classifier_Aaron_Eckhart_Nicole_Richie_3.pth'))\n",
    "\n",
    "model = model.eval() \n",
    "\n",
    "print(model)"
   ]
  },
  {
   "cell_type": "code",
   "execution_count": 291,
   "metadata": {},
   "outputs": [],
   "source": [
    "# Define a function for clustering activations\n",
    "\n",
    "def cluster_activations(activations, activations_clean, activations_poison, n_dims=2):\n",
    "    \"\"\"\n",
    "    Cluster the activations after reducing dimensions to n_dims\n",
    "    \"\"\"\n",
    "    \n",
    "    transformer = FastICA(n_components=n_dims, max_iter=600, tol=0.0003, random_state=10)\n",
    "    activations_transformed = transformer.fit_transform(activations)\n",
    "    \n",
    "    clusters = KMeans(n_clusters=2, random_state=10).fit(activations_transformed)\n",
    "    cluster_labels = clusters.predict(activations_transformed)\n",
    "    \n",
    "    activations_transformed_clean = None\n",
    "    cluster_labels_clean = None\n",
    "    if activations_clean is not None and activations_clean.shape[0] > 0:\n",
    "        activations_transformed_clean = transformer.transform(activations_clean)\n",
    "        cluster_labels_clean = clusters.predict(activations_transformed_clean)\n",
    "\n",
    "    activations_transformed_poison = None\n",
    "    cluster_labels_poison = None\n",
    "    if activations_poison is not None and activations_poison.shape[0] > 0:\n",
    "        activations_transformed_poison = transformer.transform(activations_poison)\n",
    "        cluster_labels_poison = clusters.predict(activations_transformed_poison)\n",
    "    \n",
    "    return activations_transformed, activations_transformed_clean, activations_transformed_poison, cluster_labels, cluster_labels_clean, cluster_labels_poison\n",
    "\n",
    "# Define a function for segmenting the dataset by class\n",
    "\n",
    "def segment_by_class(X, y, class_id):\n",
    "    \"\"\"\n",
    "    Returns only the items from X and y that are in the given class_id\n",
    "    \"\"\"\n",
    "    \n",
    "    n = np.sum((y == class_id).numpy())\n",
    "    \n",
    "    X_segment = Variable(torch.zeros(n,3,img_size,img_size))\n",
    "    y_segment = Variable(torch.zeros(n).long())\n",
    "    \n",
    "    index = 0\n",
    "    \n",
    "    for i, label in enumerate(y):\n",
    "        if label == class_id:\n",
    "            X_segment[index] = X[i]\n",
    "            y_segment[index] = y[i]\n",
    "            index += 1\n",
    "        \n",
    "    return X_segment, y_segment"
   ]
  },
  {
   "cell_type": "code",
   "execution_count": 292,
   "metadata": {},
   "outputs": [
    {
     "name": "stdout",
     "output_type": "stream",
     "text": [
      "Clustering on Training Set\n",
      "\n",
      "Class: Aaron_Eckhart\n"
     ]
    },
    {
     "data": {
      "application/vnd.jupyter.widget-view+json": {
       "model_id": "60215aee0d2144e387ad6921395e92f9",
       "version_major": 2,
       "version_minor": 0
      },
      "text/plain": [
       "HBox(children=(IntProgress(value=0, max=204), HTML(value='')))"
      ]
     },
     "metadata": {},
     "output_type": "display_data"
    },
    {
     "name": "stdout",
     "output_type": "stream",
     "text": [
      "\n"
     ]
    },
    {
     "data": {
      "application/vnd.jupyter.widget-view+json": {
       "model_id": "2f14bbcdf55843958d36f0fcf383b23f",
       "version_major": 2,
       "version_minor": 0
      },
      "text/plain": [
       "HBox(children=(IntProgress(value=0, max=204), HTML(value='')))"
      ]
     },
     "metadata": {},
     "output_type": "display_data"
    },
    {
     "name": "stdout",
     "output_type": "stream",
     "text": [
      "\n"
     ]
    },
    {
     "data": {
      "application/vnd.jupyter.widget-view+json": {
       "model_id": "55a776664217411a92be7455930b2611",
       "version_major": 2,
       "version_minor": 0
      },
      "text/plain": [
       "HBox(children=(IntProgress(value=1, bar_style='info', max=1), HTML(value='')))"
      ]
     },
     "metadata": {},
     "output_type": "display_data"
    },
    {
     "name": "stdout",
     "output_type": "stream",
     "text": [
      "\n",
      "\tSilhouette Score: 0.3542517704957972\n",
      "\n",
      "Class: Nicole_Richie\n"
     ]
    },
    {
     "data": {
      "application/vnd.jupyter.widget-view+json": {
       "model_id": "22d077c243574f8f85a1921004e3b064",
       "version_major": 2,
       "version_minor": 0
      },
      "text/plain": [
       "HBox(children=(IntProgress(value=0, max=123), HTML(value='')))"
      ]
     },
     "metadata": {},
     "output_type": "display_data"
    },
    {
     "name": "stdout",
     "output_type": "stream",
     "text": [
      "\n"
     ]
    },
    {
     "data": {
      "application/vnd.jupyter.widget-view+json": {
       "model_id": "bbb6ec51ba8e4c2394d5298e52a3830e",
       "version_major": 2,
       "version_minor": 0
      },
      "text/plain": [
       "HBox(children=(IntProgress(value=0, max=103), HTML(value='')))"
      ]
     },
     "metadata": {},
     "output_type": "display_data"
    },
    {
     "name": "stdout",
     "output_type": "stream",
     "text": [
      "\n"
     ]
    },
    {
     "data": {
      "application/vnd.jupyter.widget-view+json": {
       "model_id": "36f4a8757c6549a2a6d7a79836ec6d2d",
       "version_major": 2,
       "version_minor": 0
      },
      "text/plain": [
       "HBox(children=(IntProgress(value=0, max=20), HTML(value='')))"
      ]
     },
     "metadata": {},
     "output_type": "display_data"
    },
    {
     "name": "stdout",
     "output_type": "stream",
     "text": [
      "\n",
      "\tSilhouette Score: 0.3418162915818352\n",
      "\n",
      "Class: Drew_Barrymore\n"
     ]
    },
    {
     "data": {
      "application/vnd.jupyter.widget-view+json": {
       "model_id": "bb99dd3a30364a78ab542864fadc3687",
       "version_major": 2,
       "version_minor": 0
      },
      "text/plain": [
       "HBox(children=(IntProgress(value=0, max=120), HTML(value='')))"
      ]
     },
     "metadata": {},
     "output_type": "display_data"
    },
    {
     "name": "stdout",
     "output_type": "stream",
     "text": [
      "\n"
     ]
    },
    {
     "data": {
      "application/vnd.jupyter.widget-view+json": {
       "model_id": "ce4a4abf7512400e8c1d3b5b8dcda101",
       "version_major": 2,
       "version_minor": 0
      },
      "text/plain": [
       "HBox(children=(IntProgress(value=0, max=120), HTML(value='')))"
      ]
     },
     "metadata": {},
     "output_type": "display_data"
    },
    {
     "name": "stdout",
     "output_type": "stream",
     "text": [
      "\n"
     ]
    },
    {
     "data": {
      "application/vnd.jupyter.widget-view+json": {
       "model_id": "02e4ed88b1f043a98dd19c39ce4f86db",
       "version_major": 2,
       "version_minor": 0
      },
      "text/plain": [
       "HBox(children=(IntProgress(value=1, bar_style='info', max=1), HTML(value='')))"
      ]
     },
     "metadata": {},
     "output_type": "display_data"
    },
    {
     "name": "stdout",
     "output_type": "stream",
     "text": [
      "\n",
      "\tSilhouette Score: 0.36027516946268867\n",
      "\n",
      "Class: Cristiano_Ronaldo\n"
     ]
    },
    {
     "name": "stderr",
     "output_type": "stream",
     "text": [
      "/anaconda/envs/py35/lib/python3.5/site-packages/sklearn/decomposition/fastica_.py:121: ConvergenceWarning: FastICA did not converge. Consider increasing tolerance or the maximum number of iterations.\n",
      "  ConvergenceWarning)\n"
     ]
    },
    {
     "data": {
      "application/vnd.jupyter.widget-view+json": {
       "model_id": "b7f89d7617c7438aae51a30f28c83a2d",
       "version_major": 2,
       "version_minor": 0
      },
      "text/plain": [
       "HBox(children=(IntProgress(value=0, max=125), HTML(value='')))"
      ]
     },
     "metadata": {},
     "output_type": "display_data"
    },
    {
     "name": "stdout",
     "output_type": "stream",
     "text": [
      "\n"
     ]
    },
    {
     "data": {
      "application/vnd.jupyter.widget-view+json": {
       "model_id": "2f0814c897494efb890d5262a325a38a",
       "version_major": 2,
       "version_minor": 0
      },
      "text/plain": [
       "HBox(children=(IntProgress(value=0, max=125), HTML(value='')))"
      ]
     },
     "metadata": {},
     "output_type": "display_data"
    },
    {
     "name": "stdout",
     "output_type": "stream",
     "text": [
      "\n"
     ]
    },
    {
     "data": {
      "application/vnd.jupyter.widget-view+json": {
       "model_id": "00d3972ea91d4fe0a4b715a52e9a3153",
       "version_major": 2,
       "version_minor": 0
      },
      "text/plain": [
       "HBox(children=(IntProgress(value=1, bar_style='info', max=1), HTML(value='')))"
      ]
     },
     "metadata": {},
     "output_type": "display_data"
    },
    {
     "name": "stdout",
     "output_type": "stream",
     "text": [
      "\n",
      "\tSilhouette Score: 0.3462002807975677\n",
      "\n",
      "Class: Clive_Owen\n"
     ]
    },
    {
     "data": {
      "application/vnd.jupyter.widget-view+json": {
       "model_id": "8ac510068ece4f07be23ab6147d8d89b",
       "version_major": 2,
       "version_minor": 0
      },
      "text/plain": [
       "HBox(children=(IntProgress(value=0, max=103), HTML(value='')))"
      ]
     },
     "metadata": {},
     "output_type": "display_data"
    },
    {
     "name": "stdout",
     "output_type": "stream",
     "text": [
      "\n"
     ]
    },
    {
     "data": {
      "application/vnd.jupyter.widget-view+json": {
       "model_id": "cf704f8b48ee46cf9779e010c59144b1",
       "version_major": 2,
       "version_minor": 0
      },
      "text/plain": [
       "HBox(children=(IntProgress(value=0, max=103), HTML(value='')))"
      ]
     },
     "metadata": {},
     "output_type": "display_data"
    },
    {
     "name": "stdout",
     "output_type": "stream",
     "text": [
      "\n"
     ]
    },
    {
     "data": {
      "application/vnd.jupyter.widget-view+json": {
       "model_id": "1690e375da82448d903ae28c0bb307cb",
       "version_major": 2,
       "version_minor": 0
      },
      "text/plain": [
       "HBox(children=(IntProgress(value=1, bar_style='info', max=1), HTML(value='')))"
      ]
     },
     "metadata": {},
     "output_type": "display_data"
    },
    {
     "name": "stdout",
     "output_type": "stream",
     "text": [
      "\n",
      "\tSilhouette Score: 0.32558489369261745\n",
      "\n",
      "Class: Alyssa_Milano\n"
     ]
    },
    {
     "data": {
      "application/vnd.jupyter.widget-view+json": {
       "model_id": "06f19d6ad4334e7fb3ef7058f17a6cd0",
       "version_major": 2,
       "version_minor": 0
      },
      "text/plain": [
       "HBox(children=(IntProgress(value=0, max=111), HTML(value='')))"
      ]
     },
     "metadata": {},
     "output_type": "display_data"
    },
    {
     "name": "stdout",
     "output_type": "stream",
     "text": [
      "\n"
     ]
    },
    {
     "data": {
      "application/vnd.jupyter.widget-view+json": {
       "model_id": "a06621b071ed4dad961b2dbd622a867e",
       "version_major": 2,
       "version_minor": 0
      },
      "text/plain": [
       "HBox(children=(IntProgress(value=0, max=111), HTML(value='')))"
      ]
     },
     "metadata": {},
     "output_type": "display_data"
    },
    {
     "name": "stdout",
     "output_type": "stream",
     "text": [
      "\n"
     ]
    },
    {
     "data": {
      "application/vnd.jupyter.widget-view+json": {
       "model_id": "b7ef953d3d234704b4c588fc51bb2885",
       "version_major": 2,
       "version_minor": 0
      },
      "text/plain": [
       "HBox(children=(IntProgress(value=1, bar_style='info', max=1), HTML(value='')))"
      ]
     },
     "metadata": {},
     "output_type": "display_data"
    },
    {
     "name": "stdout",
     "output_type": "stream",
     "text": [
      "\n",
      "\tSilhouette Score: 0.3496849219313336\n",
      "\n",
      "Class: Zac_Efron\n"
     ]
    },
    {
     "data": {
      "application/vnd.jupyter.widget-view+json": {
       "model_id": "34ca2b7dfb314a15b6ddeda9a615bb78",
       "version_major": 2,
       "version_minor": 0
      },
      "text/plain": [
       "HBox(children=(IntProgress(value=0, max=171), HTML(value='')))"
      ]
     },
     "metadata": {},
     "output_type": "display_data"
    },
    {
     "name": "stdout",
     "output_type": "stream",
     "text": [
      "\n"
     ]
    },
    {
     "data": {
      "application/vnd.jupyter.widget-view+json": {
       "model_id": "b9404b5752644803a82f050454344362",
       "version_major": 2,
       "version_minor": 0
      },
      "text/plain": [
       "HBox(children=(IntProgress(value=0, max=171), HTML(value='')))"
      ]
     },
     "metadata": {},
     "output_type": "display_data"
    },
    {
     "name": "stdout",
     "output_type": "stream",
     "text": [
      "\n"
     ]
    },
    {
     "data": {
      "application/vnd.jupyter.widget-view+json": {
       "model_id": "d9884de4e5894112ba884ad62a5d573d",
       "version_major": 2,
       "version_minor": 0
      },
      "text/plain": [
       "HBox(children=(IntProgress(value=1, bar_style='info', max=1), HTML(value='')))"
      ]
     },
     "metadata": {},
     "output_type": "display_data"
    },
    {
     "name": "stdout",
     "output_type": "stream",
     "text": [
      "\n",
      "\tSilhouette Score: 0.3253750800995668\n",
      "\n",
      "Class: Brad_Pitt\n"
     ]
    },
    {
     "data": {
      "application/vnd.jupyter.widget-view+json": {
       "model_id": "be9c3bca2e2b495daa1ffb44ee556fec",
       "version_major": 2,
       "version_minor": 0
      },
      "text/plain": [
       "HBox(children=(IntProgress(value=0, max=219), HTML(value='')))"
      ]
     },
     "metadata": {},
     "output_type": "display_data"
    },
    {
     "name": "stdout",
     "output_type": "stream",
     "text": [
      "\n"
     ]
    },
    {
     "data": {
      "application/vnd.jupyter.widget-view+json": {
       "model_id": "13ccfeceed0543429be0d771d9a48084",
       "version_major": 2,
       "version_minor": 0
      },
      "text/plain": [
       "HBox(children=(IntProgress(value=0, max=219), HTML(value='')))"
      ]
     },
     "metadata": {},
     "output_type": "display_data"
    },
    {
     "name": "stdout",
     "output_type": "stream",
     "text": [
      "\n"
     ]
    },
    {
     "data": {
      "application/vnd.jupyter.widget-view+json": {
       "model_id": "43eb0047d3924c21bdff6004f2621329",
       "version_major": 2,
       "version_minor": 0
      },
      "text/plain": [
       "HBox(children=(IntProgress(value=1, bar_style='info', max=1), HTML(value='')))"
      ]
     },
     "metadata": {},
     "output_type": "display_data"
    },
    {
     "name": "stdout",
     "output_type": "stream",
     "text": [
      "\n",
      "\tSilhouette Score: 0.31259369429247086\n",
      "\n",
      "Class: Julia_Roberts\n"
     ]
    },
    {
     "data": {
      "application/vnd.jupyter.widget-view+json": {
       "model_id": "90860c2d523841fb86823582d260aad7",
       "version_major": 2,
       "version_minor": 0
      },
      "text/plain": [
       "HBox(children=(IntProgress(value=0, max=117), HTML(value='')))"
      ]
     },
     "metadata": {},
     "output_type": "display_data"
    },
    {
     "name": "stdout",
     "output_type": "stream",
     "text": [
      "\n"
     ]
    },
    {
     "data": {
      "application/vnd.jupyter.widget-view+json": {
       "model_id": "3bd9935e72bf47bb84bc2b4472431a5e",
       "version_major": 2,
       "version_minor": 0
      },
      "text/plain": [
       "HBox(children=(IntProgress(value=0, max=117), HTML(value='')))"
      ]
     },
     "metadata": {},
     "output_type": "display_data"
    },
    {
     "name": "stdout",
     "output_type": "stream",
     "text": [
      "\n"
     ]
    },
    {
     "data": {
      "application/vnd.jupyter.widget-view+json": {
       "model_id": "d4b123278da44275ad955297a6bc8241",
       "version_major": 2,
       "version_minor": 0
      },
      "text/plain": [
       "HBox(children=(IntProgress(value=1, bar_style='info', max=1), HTML(value='')))"
      ]
     },
     "metadata": {},
     "output_type": "display_data"
    },
    {
     "name": "stdout",
     "output_type": "stream",
     "text": [
      "\n",
      "\tSilhouette Score: 0.35902710817588845\n",
      "\n",
      "Class: Christina_Ricci\n"
     ]
    },
    {
     "data": {
      "application/vnd.jupyter.widget-view+json": {
       "model_id": "c992045cf21b42aebb620db95fdeb774",
       "version_major": 2,
       "version_minor": 0
      },
      "text/plain": [
       "HBox(children=(IntProgress(value=0, max=91), HTML(value='')))"
      ]
     },
     "metadata": {},
     "output_type": "display_data"
    },
    {
     "name": "stdout",
     "output_type": "stream",
     "text": [
      "\n"
     ]
    },
    {
     "data": {
      "application/vnd.jupyter.widget-view+json": {
       "model_id": "d22c202964a242edaca695c954f23cf5",
       "version_major": 2,
       "version_minor": 0
      },
      "text/plain": [
       "HBox(children=(IntProgress(value=0, max=91), HTML(value='')))"
      ]
     },
     "metadata": {},
     "output_type": "display_data"
    },
    {
     "name": "stdout",
     "output_type": "stream",
     "text": [
      "\n"
     ]
    },
    {
     "data": {
      "application/vnd.jupyter.widget-view+json": {
       "model_id": "8eea59ce9263437bb96e502aacf4305b",
       "version_major": 2,
       "version_minor": 0
      },
      "text/plain": [
       "HBox(children=(IntProgress(value=1, bar_style='info', max=1), HTML(value='')))"
      ]
     },
     "metadata": {},
     "output_type": "display_data"
    },
    {
     "name": "stdout",
     "output_type": "stream",
     "text": [
      "\n",
      "\tSilhouette Score: 0.33326434858355386\n",
      "\n",
      "Silhouette Score Summary:\n",
      "\tAaron_Eckhart : 0.3542517704957972\n",
      "\tNicole_Richie : 0.3418162915818352\n",
      "\tDrew_Barrymore : 0.36027516946268867\n",
      "\tCristiano_Ronaldo : 0.3462002807975677\n",
      "\tClive_Owen : 0.32558489369261745\n",
      "\tAlyssa_Milano : 0.3496849219313336\n",
      "\tZac_Efron : 0.3253750800995668\n",
      "\tBrad_Pitt : 0.31259369429247086\n",
      "\tJulia_Roberts : 0.35902710817588845\n",
      "\tChristina_Ricci : 0.33326434858355386\n"
     ]
    }
   ],
   "source": [
    "# Activation clustering\n",
    "\n",
    "cluster_training_set = True\n",
    "\n",
    "if cluster_training_set == True:\n",
    "    print(\"Clustering on Training Set\")\n",
    "    X_to_cluster = X\n",
    "    y_to_cluster = y\n",
    "    X_to_cluster_clean = X_clean\n",
    "    y_to_cluster_clean = y_clean\n",
    "    X_to_cluster_poison = X_poison\n",
    "    y_to_cluster_poison = y_poison\n",
    "else:\n",
    "    print(\"Clustering on Evaluation Set\")\n",
    "    X_to_cluster = X_val\n",
    "    y_to_cluster = y_val\n",
    "    X_to_cluster_clean = X_val_clean\n",
    "    y_to_cluster_clean = y_val_clean\n",
    "    X_to_cluster_poison = X_val_poison\n",
    "    y_to_cluster_poison = y_val_poison\n",
    "        \n",
    "segmented_X = []\n",
    "segmented_y = []\n",
    "\n",
    "activations = []\n",
    "\n",
    "activations_transformed = []\n",
    "activations_transformed_clean = []\n",
    "activations_transformed_poison = []\n",
    "\n",
    "clusters_labels_clean = []\n",
    "clusters_labels_poison = []\n",
    "\n",
    "silhouette_scores = []\n",
    "\n",
    "for class_id in range(len(class_to_name)):\n",
    "    print('\\nClass: %s' % class_to_name[class_id])\n",
    "    seg_X, seg_y = segment_by_class(X_to_cluster,y_to_cluster,class_id)\n",
    "    \n",
    "    seg_X_clean, seg_y_clean = segment_by_class(X_to_cluster_clean,y_to_cluster_clean,class_id)\n",
    "    seg_X_poison, seg_y_poison = segment_by_class(X_to_cluster_poison,y_to_cluster_poison,class_id)\n",
    "    \n",
    "    segmented_X.append(seg_X)\n",
    "    segmented_y.append(seg_y)\n",
    "    \n",
    "    acts = model.get_activations(seg_X)\n",
    "    acts_clean = model.get_activations(seg_X_clean)\n",
    "    acts_poison = model.get_activations(seg_X_poison)\n",
    "    activations.append(acts)\n",
    "    \n",
    "    acts_trans, acts_trans_clean, acts_trans_poison, labels, labels_clean, labels_poison = cluster_activations(acts, acts_clean, acts_poison)\n",
    "        \n",
    "    activations_transformed.append(acts_trans)\n",
    "    activations_transformed_clean.append(acts_trans_clean)\n",
    "    activations_transformed_poison.append(acts_trans_poison)\n",
    "    \n",
    "    clusters_labels_clean.append(labels_clean)\n",
    "    clusters_labels_poison.append(labels_poison)\n",
    "    \n",
    "    sil_score = silhouette_score(acts_trans, labels)\n",
    "    silhouette_scores.append(sil_score)\n",
    "    \n",
    "    print(\"\\tSilhouette Score: %s\" % sil_score)\n",
    "\n",
    "print(\"\\nSilhouette Score Summary:\")\n",
    "for class_id in range(len(class_to_name)):\n",
    "    print(\"\\t%s : %s\" %(class_to_name[class_id], silhouette_scores[class_id]))"
   ]
  },
  {
   "cell_type": "markdown",
   "metadata": {},
   "source": [
    "- Use activation clustering on evaluation set\n",
    "- silhouette_score to see if poisonous examples exist\n",
    "- take smaller cluster as suspected poisonous examples\n",
    "\n",
    "- Save predictions for unlabeled test set\n",
    "- Concatenate test examples with training set\n",
    "- Get activations, cluster activations\n",
    "- Compute silouette score\n",
    "- Score > 0.12 => poisoned\n",
    "- Smaller cluster \n",
    "- Visualization (first 2 or 3 components of activations)\n",
    "\n",
    "- Pre-cluster training set\n",
    "- Save predictions for unlabeled test set, get activations\n",
    "- Dimensionality reduction and KNN from predictions to training clusters\n",
    "- Smaller cluster \n",
    "- Visualization (first 2 or 3 components of activations)"
   ]
  },
  {
   "cell_type": "code",
   "execution_count": 293,
   "metadata": {},
   "outputs": [],
   "source": [
    "def generate_activations_plot(clean_activations, poison_activations, clean_labels, poison_labels, dims=3, title=None):\n",
    "    \"\"\"\n",
    "    Generates a scatterplot of the activations\n",
    "    \"\"\"\n",
    "    if clean_labels is not None:\n",
    "        clean_activations_0 = np.array([clean_activations[i,:] for i in range(len(clean_labels)) if clean_labels[i] == 0])\n",
    "        clean_activations_1 = np.array([clean_activations[i,:] for i in range(len(clean_labels)) if clean_labels[i] == 1])\n",
    "    \n",
    "    if poison_labels is not None:\n",
    "        poison_activations_0 = np.array([poison_activations[i,:] for i in range(len(poison_labels)) if poison_labels[i] == 0])\n",
    "        poison_activations_1 = np.array([poison_activations[i,:] for i in range(len(poison_labels)) if poison_labels[i] == 1])    \n",
    "    \n",
    "    if dims == 2:        \n",
    "        if clean_activations is not None:\n",
    "            if clean_activations_0.shape[0] != 0:\n",
    "                plt.scatter(clean_activations_0[:,0], clean_activations_0[:,1], c='b', marker='o', label='Honest - Cluster 1')\n",
    "            if clean_activations_1.shape[0] != 0:\n",
    "                plt.scatter(clean_activations_1[:,0], clean_activations_1[:,1], c='b', marker='x', label='Honest - Cluster 2')\n",
    "\n",
    "        if poison_activations is not None:\n",
    "            if poison_activations_0.shape[0] != 0:\n",
    "                plt.scatter(poison_activations_0[:,0], poison_activations_0[:,1], c='r', marker='o', label='Backdoor - Cluster 1')\n",
    "            if poison_activations_1.shape[0] != 0:\n",
    "                plt.scatter(poison_activations_1[:,0], poison_activations_1[:,1], c='r', marker='x', label='Backdoor - Cluster 2')\n",
    "\n",
    "        plt.xlabel('PC1')\n",
    "        plt.ylabel('PC2')\n",
    "        if title is not None:\n",
    "            plt.title(title)\n",
    "        plt.legend(bbox_to_anchor=(1.05, 1), loc=2)\n",
    "        plt.tight_layout()\n",
    "\n",
    "        plt.show()\n",
    "        return None\n",
    "    elif dims == 3:\n",
    "        fig = plt.figure()\n",
    "        ax = fig.add_subplot(111, projection='3d')\n",
    "\n",
    "        if clean_activations is not None:\n",
    "            if clean_activations_0.shape[0] != 0:\n",
    "                ax.scatter(clean_activations_0[:,0], clean_activations_0[:,1], clean_activations_0[:,2], c='b', marker='o', label='Honest - Cluster 1')\n",
    "            if clean_activations_1.shape[0] != 0:\n",
    "                ax.scatter(clean_activations_1[:,0], clean_activations_1[:,1], clean_activations_1[:,2], c='b', marker='x', label='Honest - Cluster 2')\n",
    "\n",
    "        if poison_activations is not None:\n",
    "            if poison_activations_0.shape[0] != 0:\n",
    "                ax.scatter(poison_activations_0[:,0], poison_activations_0[:,1], poison_activations_0[:,2], c='r', marker='o', label='Malicious - Cluster 1')\n",
    "            if poison_activations_1.shape[0] != 0:\n",
    "                ax.scatter(poison_activations_1[:,0], poison_activations_1[:,1], poison_activations_1[:,2], c='r', marker='x', label='Malicious - Cluster 2')\n",
    "\n",
    "        ax.set_xlabel('PC1')\n",
    "        ax.set_ylabel('PC2')\n",
    "        ax.set_zlabel('PC3')\n",
    "        if title is not None:\n",
    "                plt.title(title)\n",
    "        plt.legend(bbox_to_anchor=(1.05, 1), loc=2)\n",
    "        plt.tight_layout()\n",
    "\n",
    "        plt.show()\n",
    "        return None\n",
    "    else:\n",
    "        return None"
   ]
  },
  {
   "cell_type": "code",
   "execution_count": 294,
   "metadata": {},
   "outputs": [],
   "source": [
    "# # Sample plots\n",
    "# generate_activations_plot(activations_transformed[0],None,dims=2,title=\"Activations for Aaron_Eckhart\")\n",
    "# generate_activations_plot(activations_transformed[0],None,dims=3,title=\"Activations for Aaron_Eckhart\")"
   ]
  },
  {
   "cell_type": "code",
   "execution_count": 295,
   "metadata": {
    "scrolled": true
   },
   "outputs": [
    {
     "data": {
      "image/png": "[encoded data removed]",
      "text/plain": [
       "<Figure size 432x288 with 1 Axes>"
      ]
     },
     "metadata": {},
     "output_type": "display_data"
    },
    {
     "data": {
      "image/png": "[encoded data removed]",
      "text/plain": [
       "<Figure size 432x288 with 1 Axes>"
      ]
     },
     "metadata": {},
     "output_type": "display_data"
    },
    {
     "data": {
      "image/png": "[encoded data removed]",
      "text/plain": [
       "<Figure size 432x288 with 1 Axes>"
      ]
     },
     "metadata": {},
     "output_type": "display_data"
    },
    {
     "data": {
      "image/png": "[encoded data removed]",
      "text/plain": [
       "<Figure size 432x288 with 1 Axes>"
      ]
     },
     "metadata": {},
     "output_type": "display_data"
    },
    {
     "data": {
      "image/png": "[encoded data removed]",
      "text/plain": [
       "<Figure size 432x288 with 1 Axes>"
      ]
     },
     "metadata": {},
     "output_type": "display_data"
    },
    {
     "data": {
      "image/png": "[encoded data removed]",
      "text/plain": [
       "<Figure size 432x288 with 1 Axes>"
      ]
     },
     "metadata": {},
     "output_type": "display_data"
    },
    {
     "data": {
      "image/png": "[encoded data removed]",
      "text/plain": [
       "<Figure size 432x288 with 1 Axes>"
      ]
     },
     "metadata": {},
     "output_type": "display_data"
    },
    {
     "data": {
      "image/png": "[encoded data removed]",
      "text/plain": [
       "<Figure size 432x288 with 1 Axes>"
      ]
     },
     "metadata": {},
     "output_type": "display_data"
    },
    {
     "data": {
      "image/png": "[encoded data removed]",
      "text/plain": [
       "<Figure size 432x288 with 1 Axes>"
      ]
     },
     "metadata": {},
     "output_type": "display_data"
    },
    {
     "data": {
      "image/png": "[encoded data removed]",
      "text/plain": [
       "<Figure size 432x288 with 1 Axes>"
      ]
     },
     "metadata": {},
     "output_type": "display_data"
    }
   ],
   "source": [
    "# Generating plots\n",
    "\n",
    "for class_id in range(len(class_to_name)):\n",
    "    generate_activations_plot(activations_transformed_clean[class_id],activations_transformed_poison[class_id],clusters_labels_clean[class_id], clusters_labels_poison[class_id], dims=2,title=\"Activations for %s\" % class_to_name[class_id])\n",
    "    "
   ]
  },
  {
   "cell_type": "code",
   "execution_count": 296,
   "metadata": {},
   "outputs": [
    {
     "ename": "IndexError",
     "evalue": "index 2 is out of bounds for axis 1 with size 2",
     "output_type": "error",
     "traceback": [
      "\u001b[0;31m---------------------------------------------------------------------------\u001b[0m",
      "\u001b[0;31mIndexError\u001b[0m                                Traceback (most recent call last)",
      "\u001b[0;32m<ipython-input-296-1d0964788a9d>\u001b[0m in \u001b[0;36m<module>\u001b[0;34m()\u001b[0m\n\u001b[1;32m      2\u001b[0m \u001b[0;34m\u001b[0m\u001b[0m\n\u001b[1;32m      3\u001b[0m \u001b[0;32mfor\u001b[0m \u001b[0mclass_id\u001b[0m \u001b[0;32min\u001b[0m \u001b[0mrange\u001b[0m\u001b[0;34m(\u001b[0m\u001b[0mlen\u001b[0m\u001b[0;34m(\u001b[0m\u001b[0mclass_to_name\u001b[0m\u001b[0;34m)\u001b[0m\u001b[0;34m)\u001b[0m\u001b[0;34m:\u001b[0m\u001b[0;34m\u001b[0m\u001b[0m\n\u001b[0;32m----> 4\u001b[0;31m     \u001b[0mgenerate_activations_plot\u001b[0m\u001b[0;34m(\u001b[0m\u001b[0mactivations_transformed_clean\u001b[0m\u001b[0;34m[\u001b[0m\u001b[0mclass_id\u001b[0m\u001b[0;34m]\u001b[0m\u001b[0;34m,\u001b[0m\u001b[0mactivations_transformed_poison\u001b[0m\u001b[0;34m[\u001b[0m\u001b[0mclass_id\u001b[0m\u001b[0;34m]\u001b[0m\u001b[0;34m,\u001b[0m \u001b[0mclusters_labels_clean\u001b[0m\u001b[0;34m[\u001b[0m\u001b[0mclass_id\u001b[0m\u001b[0;34m]\u001b[0m\u001b[0;34m,\u001b[0m \u001b[0mclusters_labels_poison\u001b[0m\u001b[0;34m[\u001b[0m\u001b[0mclass_id\u001b[0m\u001b[0;34m]\u001b[0m\u001b[0;34m,\u001b[0m\u001b[0mdims\u001b[0m\u001b[0;34m=\u001b[0m\u001b[0;36m3\u001b[0m\u001b[0;34m,\u001b[0m\u001b[0mtitle\u001b[0m\u001b[0;34m=\u001b[0m\u001b[0;34m\"Activations for %s\"\u001b[0m \u001b[0;34m%\u001b[0m \u001b[0mclass_to_name\u001b[0m\u001b[0;34m[\u001b[0m\u001b[0mclass_id\u001b[0m\u001b[0;34m]\u001b[0m\u001b[0;34m)\u001b[0m\u001b[0;34m\u001b[0m\u001b[0m\n\u001b[0m",
      "\u001b[0;32m<ipython-input-293-2ba1a53233e0>\u001b[0m in \u001b[0;36mgenerate_activations_plot\u001b[0;34m(clean_activations, poison_activations, clean_labels, poison_labels, dims, title)\u001b[0m\n\u001b[1;32m     39\u001b[0m         \u001b[0;32mif\u001b[0m \u001b[0mclean_activations\u001b[0m \u001b[0;32mis\u001b[0m \u001b[0;32mnot\u001b[0m \u001b[0;32mNone\u001b[0m\u001b[0;34m:\u001b[0m\u001b[0;34m\u001b[0m\u001b[0m\n\u001b[1;32m     40\u001b[0m             \u001b[0;32mif\u001b[0m \u001b[0mclean_activations_0\u001b[0m\u001b[0;34m.\u001b[0m\u001b[0mshape\u001b[0m\u001b[0;34m[\u001b[0m\u001b[0;36m0\u001b[0m\u001b[0;34m]\u001b[0m \u001b[0;34m!=\u001b[0m \u001b[0;36m0\u001b[0m\u001b[0;34m:\u001b[0m\u001b[0;34m\u001b[0m\u001b[0m\n\u001b[0;32m---> 41\u001b[0;31m                 \u001b[0max\u001b[0m\u001b[0;34m.\u001b[0m\u001b[0mscatter\u001b[0m\u001b[0;34m(\u001b[0m\u001b[0mclean_activations_0\u001b[0m\u001b[0;34m[\u001b[0m\u001b[0;34m:\u001b[0m\u001b[0;34m,\u001b[0m\u001b[0;36m0\u001b[0m\u001b[0;34m]\u001b[0m\u001b[0;34m,\u001b[0m \u001b[0mclean_activations_0\u001b[0m\u001b[0;34m[\u001b[0m\u001b[0;34m:\u001b[0m\u001b[0;34m,\u001b[0m\u001b[0;36m1\u001b[0m\u001b[0;34m]\u001b[0m\u001b[0;34m,\u001b[0m \u001b[0mclean_activations_0\u001b[0m\u001b[0;34m[\u001b[0m\u001b[0;34m:\u001b[0m\u001b[0;34m,\u001b[0m\u001b[0;36m2\u001b[0m\u001b[0;34m]\u001b[0m\u001b[0;34m,\u001b[0m \u001b[0mc\u001b[0m\u001b[0;34m=\u001b[0m\u001b[0;34m'b'\u001b[0m\u001b[0;34m,\u001b[0m \u001b[0mmarker\u001b[0m\u001b[0;34m=\u001b[0m\u001b[0;34m'o'\u001b[0m\u001b[0;34m,\u001b[0m \u001b[0mlabel\u001b[0m\u001b[0;34m=\u001b[0m\u001b[0;34m'Honest - Cluster 1'\u001b[0m\u001b[0;34m)\u001b[0m\u001b[0;34m\u001b[0m\u001b[0m\n\u001b[0m\u001b[1;32m     42\u001b[0m             \u001b[0;32mif\u001b[0m \u001b[0mclean_activations_1\u001b[0m\u001b[0;34m.\u001b[0m\u001b[0mshape\u001b[0m\u001b[0;34m[\u001b[0m\u001b[0;36m0\u001b[0m\u001b[0;34m]\u001b[0m \u001b[0;34m!=\u001b[0m \u001b[0;36m0\u001b[0m\u001b[0;34m:\u001b[0m\u001b[0;34m\u001b[0m\u001b[0m\n\u001b[1;32m     43\u001b[0m                 \u001b[0max\u001b[0m\u001b[0;34m.\u001b[0m\u001b[0mscatter\u001b[0m\u001b[0;34m(\u001b[0m\u001b[0mclean_activations_1\u001b[0m\u001b[0;34m[\u001b[0m\u001b[0;34m:\u001b[0m\u001b[0;34m,\u001b[0m\u001b[0;36m0\u001b[0m\u001b[0;34m]\u001b[0m\u001b[0;34m,\u001b[0m \u001b[0mclean_activations_1\u001b[0m\u001b[0;34m[\u001b[0m\u001b[0;34m:\u001b[0m\u001b[0;34m,\u001b[0m\u001b[0;36m1\u001b[0m\u001b[0;34m]\u001b[0m\u001b[0;34m,\u001b[0m \u001b[0mclean_activations_1\u001b[0m\u001b[0;34m[\u001b[0m\u001b[0;34m:\u001b[0m\u001b[0;34m,\u001b[0m\u001b[0;36m2\u001b[0m\u001b[0;34m]\u001b[0m\u001b[0;34m,\u001b[0m \u001b[0mc\u001b[0m\u001b[0;34m=\u001b[0m\u001b[0;34m'b'\u001b[0m\u001b[0;34m,\u001b[0m \u001b[0mmarker\u001b[0m\u001b[0;34m=\u001b[0m\u001b[0;34m'x'\u001b[0m\u001b[0;34m,\u001b[0m \u001b[0mlabel\u001b[0m\u001b[0;34m=\u001b[0m\u001b[0;34m'Honest - Cluster 2'\u001b[0m\u001b[0;34m)\u001b[0m\u001b[0;34m\u001b[0m\u001b[0m\n",
      "\u001b[0;31mIndexError\u001b[0m: index 2 is out of bounds for axis 1 with size 2"
     ]
    },
    {
     "data": {
      "image/png": "[encoded data removed]",
      "text/plain": [
       "<Figure size 432x288 with 1 Axes>"
      ]
     },
     "metadata": {},
     "output_type": "display_data"
    }
   ],
   "source": [
    "# Generating 3D plots\n",
    "\n",
    "for class_id in range(len(class_to_name)):\n",
    "    generate_activations_plot(activations_transformed_clean[class_id],activations_transformed_poison[class_id], clusters_labels_clean[class_id], clusters_labels_poison[class_id],dims=3,title=\"Activations for %s\" % class_to_name[class_id])"
   ]
  },
  {
   "cell_type": "code",
   "execution_count": null,
   "metadata": {},
   "outputs": [],
   "source": []
  },
  {
   "cell_type": "code",
   "execution_count": null,
   "metadata": {},
   "outputs": [],
   "source": []
  }
 ],
 "metadata": {
  "kernelspec": {
   "display_name": "Python 3.5",
   "language": "python",
   "name": "python3"
  },
  "language_info": {
   "codemirror_mode": {
    "name": "ipython",
    "version": 3
   },
   "file_extension": ".py",
   "mimetype": "text/x-python",
   "name": "python",
   "nbconvert_exporter": "python",
   "pygments_lexer": "ipython3",
   "version": "3.5.5"
  }
 },
 "nbformat": 4,
 "nbformat_minor": 2
}
