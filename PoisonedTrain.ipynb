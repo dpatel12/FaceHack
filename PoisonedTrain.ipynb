{
 "cells": [
  {
   "cell_type": "code",
   "execution_count": 1,
   "metadata": {
    "collapsed": false
   },
   "outputs": [],
   "source": [
    "import os\n",
    "from pathlib import Path\n",
    "from PIL import Image\n",
    "\n",
    "\n",
    "import torch\n",
    "from torchvision import transforms\n",
    "from torch.autograd import Variable\n",
    "\n",
    "from tqdm import tqdm_notebook as tqdm\n",
    "\n",
    "import sys\n",
    "sys.path.insert(0, './model')\n",
    "\n",
    "import model.classifier as classifier\n",
    "import subprocess\n",
    "import time"
   ]
  },
  {
   "cell_type": "code",
   "execution_count": 2,
   "metadata": {
    "collapsed": false
   },
   "outputs": [
    {
     "data": {
      "text/plain": [
       "tensor([[[[0.7451, 0.7608, 0.7843,  ..., 0.8941, 0.8941, 0.8941],\n",
       "          [0.7490, 0.7647, 0.7882,  ..., 0.8941, 0.8941, 0.8941],\n",
       "          [0.7569, 0.7725, 0.7922,  ..., 0.8941, 0.8941, 0.8941],\n",
       "          ...,\n",
       "          [0.6392, 0.5843, 0.5451,  ..., 0.6118, 0.6431, 0.6706],\n",
       "          [0.6627, 0.6000, 0.5490,  ..., 0.5569, 0.5843, 0.6157],\n",
       "          [0.6784, 0.6078, 0.5529,  ..., 0.5294, 0.5529, 0.5843]],\n",
       "\n",
       "         [[0.6235, 0.6392, 0.6627,  ..., 0.8706, 0.8706, 0.8706],\n",
       "          [0.6275, 0.6431, 0.6667,  ..., 0.8706, 0.8706, 0.8706],\n",
       "          [0.6353, 0.6510, 0.6706,  ..., 0.8706, 0.8706, 0.8706],\n",
       "          ...,\n",
       "          [0.4745, 0.4196, 0.3804,  ..., 0.4627, 0.4941, 0.5216],\n",
       "          [0.4980, 0.4353, 0.3843,  ..., 0.4078, 0.4353, 0.4667],\n",
       "          [0.5137, 0.4431, 0.3882,  ..., 0.3804, 0.4039, 0.4353]],\n",
       "\n",
       "         [[0.4392, 0.4549, 0.4824,  ..., 0.8784, 0.8784, 0.8784],\n",
       "          [0.4431, 0.4588, 0.4863,  ..., 0.8784, 0.8784, 0.8784],\n",
       "          [0.4510, 0.4667, 0.4902,  ..., 0.8784, 0.8784, 0.8784],\n",
       "          ...,\n",
       "          [0.3176, 0.2627, 0.2314,  ..., 0.3176, 0.3490, 0.3765],\n",
       "          [0.3412, 0.2784, 0.2353,  ..., 0.2627, 0.2902, 0.3216],\n",
       "          [0.3569, 0.2863, 0.2392,  ..., 0.2353, 0.2588, 0.2902]]]])"
      ]
     },
     "execution_count": 2,
     "metadata": {},
     "output_type": "execute_result"
    }
   ],
   "source": [
    "base_data_folder = './data/data_poisoned'\n",
    "# Define a global transformer to appropriately scale images and subsequently convert them to a Tensor.\n",
    "img_size = 224\n",
    "loader = transforms.Compose([\n",
    "  transforms.Resize(img_size),\n",
    "  transforms.CenterCrop(img_size),\n",
    "  transforms.ToTensor(),\n",
    "]) \n",
    "\n",
    "def load_image(filename):\n",
    "    \"\"\"\n",
    "    Simple function to load and preprocess the image.\n",
    "\n",
    "    1. Open the image.\n",
    "    2. Scale/crop it and convert it to a float tensor.\n",
    "    3. Convert it to a variable (all inputs to PyTorch models must be variables).\n",
    "    4. Add another dimension to the start of the Tensor (b/c VGG expects a batch).\n",
    "    5. Move the variable onto the GPU.\n",
    "    \"\"\"\n",
    "    image = Image.open(filename).convert('RGB')\n",
    "    image_tensor = loader(image).float()\n",
    "    image_var = Variable(image_tensor).unsqueeze(0)\n",
    "    return image_var\n",
    "\n",
    "sampleImgPath=base_data_folder+\"/train_data/Drew_Barrymore/aligned_vgg_bfff48d47d2ec61e678fa23f885df73d.jpg\"  \n",
    "load_image(sampleImgPath)"
   ]
  },
  {
   "cell_type": "code",
   "execution_count": 4,
   "metadata": {
    "collapsed": false
   },
   "outputs": [
    {
     "name": "stdout",
     "output_type": "stream",
     "text": [
      "Classes:\n",
      "['Aaron_Eckhart', 'Nicole_Richie', 'Drew_Barrymore', 'Cristiano_Ronaldo', 'Clive_Owen', 'Alyssa_Milano', 'Zac_Efron', 'Brad_Pitt', 'Julia_Roberts', 'Christina_Ricci']\n",
      "\n",
      "Training Set Size: 1463\n",
      "\n",
      "Validation Set Size: 110\n",
      "\n",
      "Sample Images:\n",
      "data/data_poisoned/train_data/Christina_Ricci/aligned_vgg_07655c8a4e19c5eecdff3f8d6766bddd.jpg\n",
      "Christina_Ricci\n",
      "data/data_poisoned/eval_data/Aaron_Eckhart/aligned_vgg_4c384ad8907cbaf19ab9cab6f02e9231 4.00.45 PM.jpg\n",
      "Aaron_Eckhart\n"
     ]
    },
    {
     "data": {
      "text/plain": [
       "tensor([[[[0.0745, 0.0745, 0.0784,  ..., 0.6000, 0.6000, 0.6000],\n",
       "          [0.0784, 0.0784, 0.0824,  ..., 0.5843, 0.5882, 0.5922],\n",
       "          [0.0824, 0.0824, 0.0863,  ..., 0.5686, 0.5725, 0.5804],\n",
       "          ...,\n",
       "          [0.1647, 0.1686, 0.1686,  ..., 0.1804, 0.1765, 0.1569],\n",
       "          [0.1686, 0.1725, 0.1725,  ..., 0.1882, 0.1843, 0.1647],\n",
       "          [0.1725, 0.1765, 0.1765,  ..., 0.2157, 0.2118, 0.1922]],\n",
       "\n",
       "         [[0.0902, 0.0902, 0.0941,  ..., 0.4706, 0.4706, 0.4706],\n",
       "          [0.0941, 0.0941, 0.0980,  ..., 0.4549, 0.4588, 0.4627],\n",
       "          [0.0980, 0.0980, 0.1020,  ..., 0.4392, 0.4431, 0.4510],\n",
       "          ...,\n",
       "          [0.1647, 0.1686, 0.1686,  ..., 0.1922, 0.1882, 0.1686],\n",
       "          [0.1686, 0.1725, 0.1725,  ..., 0.2000, 0.1961, 0.1765],\n",
       "          [0.1725, 0.1765, 0.1765,  ..., 0.2275, 0.2235, 0.2039]],\n",
       "\n",
       "         [[0.1020, 0.1020, 0.1059,  ..., 0.3961, 0.3961, 0.3961],\n",
       "          [0.1059, 0.1059, 0.1098,  ..., 0.3804, 0.3843, 0.3882],\n",
       "          [0.1098, 0.1098, 0.1137,  ..., 0.3647, 0.3686, 0.3765],\n",
       "          ...,\n",
       "          [0.2118, 0.2157, 0.2157,  ..., 0.2196, 0.2157, 0.1961],\n",
       "          [0.2157, 0.2196, 0.2196,  ..., 0.2275, 0.2235, 0.2039],\n",
       "          [0.2196, 0.2235, 0.2235,  ..., 0.2549, 0.2510, 0.2314]]]])"
      ]
     },
     "execution_count": 4,
     "metadata": {},
     "output_type": "execute_result"
    }
   ],
   "source": [
    "train_data_folder = base_data_folder + '/train_data'\n",
    "\n",
    "class_to_name = [os.path.basename(f.path) for f in os.scandir(train_data_folder) if f.is_dir()]\n",
    "\n",
    "train_id_to_file = {i : path \n",
    "                    for (i,path) in enumerate(Path(train_data_folder).glob(\"*/*.jpg\"))}\n",
    "\n",
    "train_id_to_class = {i : class_to_name.index(os.path.basename(os.path.dirname(str(path))))\n",
    "                     for (i,path) in enumerate(Path(train_data_folder).glob(\"*/*.jpg\"))}\n",
    "\n",
    "train_ids = list(train_id_to_file.keys())\n",
    "\n",
    "# Load Validation Data\n",
    "\n",
    "val_data_folder = base_data_folder + '/eval_data'\n",
    "\n",
    "val_id_to_file = {i : path \n",
    "                    for (i,path) in enumerate(Path(val_data_folder).glob(\"*/*.jpg\"))}\n",
    "\n",
    "val_id_to_class = {i : class_to_name.index(os.path.basename(os.path.dirname(str(path))))\n",
    "                     for (i,path) in enumerate(Path(val_data_folder).glob(\"*/*.jpg\"))}\n",
    "\n",
    "val_ids = list(val_id_to_file.keys())\n",
    "\n",
    "\n",
    "print(\"Classes:\")\n",
    "print(class_to_name)\n",
    "\n",
    "print(\"\\nTraining Set Size: %s\" % len(train_ids))\n",
    "print(\"\\nValidation Set Size: %s\" % len(val_ids))\n",
    "\n",
    "print(\"\\nSample Images:\")\n",
    "print(train_id_to_file[len(train_ids)-1])\n",
    "print(class_to_name[train_id_to_class[len(train_ids)-1]])\n",
    "\n",
    "load_image(train_id_to_file[len(train_ids)-1])\n",
    "\n",
    "print(val_id_to_file[0])\n",
    "print(class_to_name[val_id_to_class[0]])\n",
    "\n",
    "load_image(val_id_to_file[0])"
   ]
  },
  {
   "cell_type": "code",
   "execution_count": 5,
   "metadata": {
    "collapsed": true
   },
   "outputs": [],
   "source": [
    "def reload_train():\n",
    "\n",
    "    train_data_folder = base_data_folder + '/train_data'    \n",
    "    \n",
    "    train_id_to_file = {i : path \n",
    "                        for (i,path) in enumerate(Path(train_data_folder).glob(\"*/*.jpg\"))}\n",
    "\n",
    "    train_id_to_class = {i : class_to_name.index(os.path.basename(os.path.dirname(str(path))))\n",
    "                         for (i,path) in enumerate(Path(train_data_folder).glob(\"*/*.jpg\"))}\n",
    "\n",
    "    train_ids = list(train_id_to_file.keys())\n",
    "    \n",
    "    return train_id_to_file, train_id_to_class, train_ids"
   ]
  },
  {
   "cell_type": "code",
   "execution_count": 32,
   "metadata": {
    "collapsed": false
   },
   "outputs": [
    {
     "name": "stdout",
     "output_type": "stream",
     "text": [
      "10\n",
      "(cd backdoor-poisoning-attacks\n",
      "bash ./generatePoison.sh Aaron_Eckhart Nicole_Richie 10\n",
      "cd -)\n",
      "FaceClassifier(\n",
      "  (model): Vgg_face_dag(\n",
      "    (conv1_1): Conv2d(3, 64, kernel_size=[3, 3], stride=(1, 1), padding=(1, 1))\n",
      "    (relu1_1): ReLU(inplace)\n",
      "    (conv1_2): Conv2d(64, 64, kernel_size=[3, 3], stride=(1, 1), padding=(1, 1))\n",
      "    (relu1_2): ReLU(inplace)\n",
      "    (pool1): MaxPool2d(kernel_size=[2, 2], stride=[2, 2], padding=0, dilation=1, ceil_mode=False)\n",
      "    (conv2_1): Conv2d(64, 128, kernel_size=[3, 3], stride=(1, 1), padding=(1, 1))\n",
      "    (relu2_1): ReLU(inplace)\n",
      "    (conv2_2): Conv2d(128, 128, kernel_size=[3, 3], stride=(1, 1), padding=(1, 1))\n",
      "    (relu2_2): ReLU(inplace)\n",
      "    (pool2): MaxPool2d(kernel_size=[2, 2], stride=[2, 2], padding=0, dilation=1, ceil_mode=False)\n",
      "    (conv3_1): Conv2d(128, 256, kernel_size=[3, 3], stride=(1, 1), padding=(1, 1))\n",
      "    (relu3_1): ReLU(inplace)\n",
      "    (conv3_2): Conv2d(256, 256, kernel_size=[3, 3], stride=(1, 1), padding=(1, 1))\n",
      "    (relu3_2): ReLU(inplace)\n",
      "    (conv3_3): Conv2d(256, 256, kernel_size=[3, 3], stride=(1, 1), padding=(1, 1))\n",
      "    (relu3_3): ReLU(inplace)\n",
      "    (pool3): MaxPool2d(kernel_size=[2, 2], stride=[2, 2], padding=0, dilation=1, ceil_mode=False)\n",
      "    (conv4_1): Conv2d(256, 512, kernel_size=[3, 3], stride=(1, 1), padding=(1, 1))\n",
      "    (relu4_1): ReLU(inplace)\n",
      "    (conv4_2): Conv2d(512, 512, kernel_size=[3, 3], stride=(1, 1), padding=(1, 1))\n",
      "    (relu4_2): ReLU(inplace)\n",
      "    (conv4_3): Conv2d(512, 512, kernel_size=[3, 3], stride=(1, 1), padding=(1, 1))\n",
      "    (relu4_3): ReLU(inplace)\n",
      "    (pool4): MaxPool2d(kernel_size=[2, 2], stride=[2, 2], padding=0, dilation=1, ceil_mode=False)\n",
      "    (conv5_1): Conv2d(512, 512, kernel_size=[3, 3], stride=(1, 1), padding=(1, 1))\n",
      "    (relu5_1): ReLU(inplace)\n",
      "    (conv5_2): Conv2d(512, 512, kernel_size=[3, 3], stride=(1, 1), padding=(1, 1))\n",
      "    (relu5_2): ReLU(inplace)\n",
      "    (conv5_3): Conv2d(512, 512, kernel_size=[3, 3], stride=(1, 1), padding=(1, 1))\n",
      "    (relu5_3): ReLU(inplace)\n",
      "    (pool5): MaxPool2d(kernel_size=[2, 2], stride=[2, 2], padding=0, dilation=1, ceil_mode=False)\n",
      "    (fc6): Linear(in_features=25088, out_features=4096, bias=True)\n",
      "    (relu6): ReLU(inplace)\n",
      "    (dropout6): Dropout(p=0.5)\n",
      "    (fc7): Linear(in_features=4096, out_features=4096, bias=True)\n",
      "    (relu7): ReLU(inplace)\n",
      "    (dropout7): Dropout(p=0.5)\n",
      "    (fc8): Linear(in_features=4096, out_features=10, bias=True)\n",
      "  )\n",
      ")\n",
      "Loading training images...\n"
     ]
    },
    {
     "name": "stderr",
     "output_type": "stream",
     "text": [
      "Widget Javascript not detected.  It may not be installed properly. Did you enable the widgetsnbextension? If not, then run \"jupyter nbextension enable --py --sys-prefix widgetsnbextension\"\n"
     ]
    },
    {
     "name": "stdout",
     "output_type": "stream",
     "text": [
      "\n",
      "Loading validation images...\n",
      "poison_0.jpg\n",
      "poison_5.jpg\n",
      "poison_2.jpg\n",
      "poison_7.jpg\n",
      "poison_6.jpg\n",
      "poison_3.jpg\n",
      "poison_9.jpg\n",
      "poison_8.jpg\n",
      "poison_1.jpg\n",
      "poison_4.jpg\n"
     ]
    },
    {
     "name": "stderr",
     "output_type": "stream",
     "text": [
      "Widget Javascript not detected.  It may not be installed properly. Did you enable the widgetsnbextension? If not, then run \"jupyter nbextension enable --py --sys-prefix widgetsnbextension\"\n"
     ]
    },
    {
     "name": "stdout",
     "output_type": "stream",
     "text": [
      "\n",
      "Fine-tuning the model...\n"
     ]
    },
    {
     "name": "stderr",
     "output_type": "stream",
     "text": [
      "Widget Javascript not detected.  It may not be installed properly. Did you enable the widgetsnbextension? If not, then run \"jupyter nbextension enable --py --sys-prefix widgetsnbextension\"\n"
     ]
    },
    {
     "name": "stdout",
     "output_type": "stream",
     "text": [
      "[1,     5] loss: 2.280\n",
      "[1,    10] loss: 2.220\n",
      "[1,    15] loss: 2.170\n",
      "[1,    20] loss: 2.110\n",
      "[1,    25] loss: 2.057\n",
      "\n"
     ]
    },
    {
     "name": "stderr",
     "output_type": "stream",
     "text": [
      "Widget Javascript not detected.  It may not be installed properly. Did you enable the widgetsnbextension? If not, then run \"jupyter nbextension enable --py --sys-prefix widgetsnbextension\"\n"
     ]
    },
    {
     "name": "stdout",
     "output_type": "stream",
     "text": [
      "\n",
      "\n",
      "Classification Accuracy (Validation Set): 0.909\n",
      "tensor([1, 1, 1, 1, 1])\n",
      "[0 0 0 0 0]\n",
      "tensor([1, 1, 1, 1, 1])\n",
      "[0 0 0 0 0]\n",
      "\n",
      "\n",
      "Backdoor Accuracy: 0.000\n"
     ]
    },
    {
     "name": "stderr",
     "output_type": "stream",
     "text": [
      "Widget Javascript not detected.  It may not be installed properly. Did you enable the widgetsnbextension? If not, then run \"jupyter nbextension enable --py --sys-prefix widgetsnbextension\"\n",
      "Widget Javascript not detected.  It may not be installed properly. Did you enable the widgetsnbextension? If not, then run \"jupyter nbextension enable --py --sys-prefix widgetsnbextension\"\n"
     ]
    },
    {
     "name": "stdout",
     "output_type": "stream",
     "text": [
      "[2,     5] loss: 1.963\n",
      "[2,    10] loss: 1.903\n",
      "[2,    15] loss: 1.876\n",
      "[2,    20] loss: 1.805\n",
      "[2,    25] loss: 1.771\n",
      "\n"
     ]
    },
    {
     "name": "stderr",
     "output_type": "stream",
     "text": [
      "Widget Javascript not detected.  It may not be installed properly. Did you enable the widgetsnbextension? If not, then run \"jupyter nbextension enable --py --sys-prefix widgetsnbextension\"\n"
     ]
    },
    {
     "name": "stdout",
     "output_type": "stream",
     "text": [
      "\n",
      "\n",
      "Classification Accuracy (Validation Set): 0.909\n",
      "tensor([1, 1, 1, 1, 1])\n",
      "[0 0 0 0 0]\n",
      "tensor([1, 1, 1, 1, 1])\n",
      "[0 0 0 0 0]\n",
      "\n",
      "\n",
      "Backdoor Accuracy: 0.000\n"
     ]
    },
    {
     "name": "stderr",
     "output_type": "stream",
     "text": [
      "Widget Javascript not detected.  It may not be installed properly. Did you enable the widgetsnbextension? If not, then run \"jupyter nbextension enable --py --sys-prefix widgetsnbextension\"\n",
      "Widget Javascript not detected.  It may not be installed properly. Did you enable the widgetsnbextension? If not, then run \"jupyter nbextension enable --py --sys-prefix widgetsnbextension\"\n"
     ]
    },
    {
     "name": "stdout",
     "output_type": "stream",
     "text": [
      "[3,     5] loss: 1.682\n",
      "[3,    10] loss: 1.628\n",
      "[3,    15] loss: 1.592\n",
      "[3,    20] loss: 1.555\n",
      "[3,    25] loss: 1.521\n",
      "\n"
     ]
    },
    {
     "name": "stderr",
     "output_type": "stream",
     "text": [
      "Widget Javascript not detected.  It may not be installed properly. Did you enable the widgetsnbextension? If not, then run \"jupyter nbextension enable --py --sys-prefix widgetsnbextension\"\n"
     ]
    },
    {
     "name": "stdout",
     "output_type": "stream",
     "text": [
      "\n",
      "\n",
      "Classification Accuracy (Validation Set): 0.909\n",
      "tensor([1, 1, 1, 1, 1])\n",
      "[0 0 0 0 0]\n",
      "tensor([1, 1, 1, 1, 1])\n",
      "[0 0 0 0 0]\n",
      "\n",
      "\n",
      "Backdoor Accuracy: 0.000\n"
     ]
    },
    {
     "name": "stderr",
     "output_type": "stream",
     "text": [
      "Widget Javascript not detected.  It may not be installed properly. Did you enable the widgetsnbextension? If not, then run \"jupyter nbextension enable --py --sys-prefix widgetsnbextension\"\n",
      "Widget Javascript not detected.  It may not be installed properly. Did you enable the widgetsnbextension? If not, then run \"jupyter nbextension enable --py --sys-prefix widgetsnbextension\"\n"
     ]
    },
    {
     "name": "stdout",
     "output_type": "stream",
     "text": [
      "[4,     5] loss: 1.446\n",
      "[4,    10] loss: 1.409\n",
      "[4,    15] loss: 1.368\n",
      "[4,    20] loss: 1.320\n",
      "[4,    25] loss: 1.296\n",
      "\n"
     ]
    },
    {
     "name": "stderr",
     "output_type": "stream",
     "text": [
      "Widget Javascript not detected.  It may not be installed properly. Did you enable the widgetsnbextension? If not, then run \"jupyter nbextension enable --py --sys-prefix widgetsnbextension\"\n"
     ]
    },
    {
     "name": "stdout",
     "output_type": "stream",
     "text": [
      "\n",
      "\n",
      "Classification Accuracy (Validation Set): 0.909\n",
      "tensor([1, 1, 1, 1, 1])\n",
      "[0 0 0 0 0]\n",
      "tensor([1, 1, 1, 1, 1])\n",
      "[0 0 0 0 0]\n",
      "\n",
      "\n",
      "Backdoor Accuracy: 0.000\n"
     ]
    },
    {
     "name": "stderr",
     "output_type": "stream",
     "text": [
      "Widget Javascript not detected.  It may not be installed properly. Did you enable the widgetsnbextension? If not, then run \"jupyter nbextension enable --py --sys-prefix widgetsnbextension\"\n",
      "Widget Javascript not detected.  It may not be installed properly. Did you enable the widgetsnbextension? If not, then run \"jupyter nbextension enable --py --sys-prefix widgetsnbextension\"\n"
     ]
    },
    {
     "name": "stdout",
     "output_type": "stream",
     "text": [
      "[5,     5] loss: 1.243\n",
      "[5,    10] loss: 1.207\n",
      "[5,    15] loss: 1.192\n",
      "[5,    20] loss: 1.132\n",
      "[5,    25] loss: 1.082\n",
      "\n"
     ]
    },
    {
     "name": "stderr",
     "output_type": "stream",
     "text": [
      "Widget Javascript not detected.  It may not be installed properly. Did you enable the widgetsnbextension? If not, then run \"jupyter nbextension enable --py --sys-prefix widgetsnbextension\"\n"
     ]
    },
    {
     "name": "stdout",
     "output_type": "stream",
     "text": [
      "\n",
      "\n",
      "Classification Accuracy (Validation Set): 0.909\n",
      "tensor([1, 1, 1, 1, 1])\n",
      "[0 0 0 0 0]\n",
      "tensor([1, 1, 1, 1, 1])\n",
      "[0 0 0 0 0]\n",
      "\n",
      "\n",
      "Backdoor Accuracy: 0.000\n"
     ]
    },
    {
     "name": "stderr",
     "output_type": "stream",
     "text": [
      "Widget Javascript not detected.  It may not be installed properly. Did you enable the widgetsnbextension? If not, then run \"jupyter nbextension enable --py --sys-prefix widgetsnbextension\"\n",
      "Widget Javascript not detected.  It may not be installed properly. Did you enable the widgetsnbextension? If not, then run \"jupyter nbextension enable --py --sys-prefix widgetsnbextension\"\n"
     ]
    },
    {
     "name": "stdout",
     "output_type": "stream",
     "text": [
      "[6,     5] loss: 1.062\n",
      "[6,    10] loss: 1.051\n",
      "[6,    15] loss: 0.982\n",
      "[6,    20] loss: 1.009\n",
      "[6,    25] loss: 0.946\n",
      "\n"
     ]
    },
    {
     "name": "stderr",
     "output_type": "stream",
     "text": [
      "Widget Javascript not detected.  It may not be installed properly. Did you enable the widgetsnbextension? If not, then run \"jupyter nbextension enable --py --sys-prefix widgetsnbextension\"\n"
     ]
    },
    {
     "name": "stdout",
     "output_type": "stream",
     "text": [
      "\n",
      "\n",
      "Classification Accuracy (Validation Set): 0.909\n",
      "tensor([1, 1, 1, 1, 1])\n",
      "[0 0 0 0 0]\n",
      "tensor([1, 1, 1, 1, 1])\n",
      "[0 0 0 0 0]\n",
      "\n",
      "\n",
      "Backdoor Accuracy: 0.000\n"
     ]
    },
    {
     "name": "stderr",
     "output_type": "stream",
     "text": [
      "Widget Javascript not detected.  It may not be installed properly. Did you enable the widgetsnbextension? If not, then run \"jupyter nbextension enable --py --sys-prefix widgetsnbextension\"\n",
      "Widget Javascript not detected.  It may not be installed properly. Did you enable the widgetsnbextension? If not, then run \"jupyter nbextension enable --py --sys-prefix widgetsnbextension\"\n"
     ]
    },
    {
     "name": "stdout",
     "output_type": "stream",
     "text": [
      "[7,     5] loss: 0.894\n",
      "[7,    10] loss: 0.886\n",
      "[7,    15] loss: 0.905\n",
      "[7,    20] loss: 0.861\n",
      "[7,    25] loss: 0.793\n",
      "\n"
     ]
    },
    {
     "name": "stderr",
     "output_type": "stream",
     "text": [
      "Widget Javascript not detected.  It may not be installed properly. Did you enable the widgetsnbextension? If not, then run \"jupyter nbextension enable --py --sys-prefix widgetsnbextension\"\n"
     ]
    },
    {
     "name": "stdout",
     "output_type": "stream",
     "text": [
      "\n",
      "\n",
      "Classification Accuracy (Validation Set): 0.909\n",
      "tensor([1, 1, 1, 1, 1])\n",
      "[0 0 0 0 0]\n",
      "tensor([1, 1, 1, 1, 1])\n",
      "[0 0 0 0 0]\n",
      "\n",
      "\n",
      "Backdoor Accuracy: 0.000\n"
     ]
    },
    {
     "name": "stderr",
     "output_type": "stream",
     "text": [
      "Widget Javascript not detected.  It may not be installed properly. Did you enable the widgetsnbextension? If not, then run \"jupyter nbextension enable --py --sys-prefix widgetsnbextension\"\n",
      "Widget Javascript not detected.  It may not be installed properly. Did you enable the widgetsnbextension? If not, then run \"jupyter nbextension enable --py --sys-prefix widgetsnbextension\"\n"
     ]
    },
    {
     "name": "stdout",
     "output_type": "stream",
     "text": [
      "[8,     5] loss: 0.813\n",
      "[8,    10] loss: 0.770\n",
      "[8,    15] loss: 0.739\n",
      "[8,    20] loss: 0.720\n",
      "[8,    25] loss: 0.736\n",
      "\n"
     ]
    },
    {
     "name": "stderr",
     "output_type": "stream",
     "text": [
      "Widget Javascript not detected.  It may not be installed properly. Did you enable the widgetsnbextension? If not, then run \"jupyter nbextension enable --py --sys-prefix widgetsnbextension\"\n"
     ]
    },
    {
     "name": "stdout",
     "output_type": "stream",
     "text": [
      "\n",
      "\n",
      "Classification Accuracy (Validation Set): 0.909\n",
      "tensor([1, 1, 1, 1, 1])\n",
      "[0 0 0 0 0]\n",
      "tensor([1, 1, 1, 1, 1])\n",
      "[0 0 0 0 0]\n",
      "\n",
      "\n",
      "Backdoor Accuracy: 0.000\n"
     ]
    },
    {
     "name": "stderr",
     "output_type": "stream",
     "text": [
      "Widget Javascript not detected.  It may not be installed properly. Did you enable the widgetsnbextension? If not, then run \"jupyter nbextension enable --py --sys-prefix widgetsnbextension\"\n",
      "Widget Javascript not detected.  It may not be installed properly. Did you enable the widgetsnbextension? If not, then run \"jupyter nbextension enable --py --sys-prefix widgetsnbextension\"\n"
     ]
    },
    {
     "name": "stdout",
     "output_type": "stream",
     "text": [
      "[9,     5] loss: 0.683\n",
      "[9,    10] loss: 0.669\n",
      "[9,    15] loss: 0.719\n",
      "[9,    20] loss: 0.631\n",
      "[9,    25] loss: 0.631\n",
      "\n"
     ]
    },
    {
     "name": "stderr",
     "output_type": "stream",
     "text": [
      "Widget Javascript not detected.  It may not be installed properly. Did you enable the widgetsnbextension? If not, then run \"jupyter nbextension enable --py --sys-prefix widgetsnbextension\"\n"
     ]
    },
    {
     "name": "stdout",
     "output_type": "stream",
     "text": [
      "\n",
      "\n",
      "Classification Accuracy (Validation Set): 0.909\n",
      "tensor([1, 1, 1, 1, 1])\n",
      "[0 0 0 0 0]\n",
      "tensor([1, 1, 1, 1, 1])\n",
      "[0 0 0 0 0]\n",
      "\n",
      "\n",
      "Backdoor Accuracy: 0.000\n"
     ]
    },
    {
     "name": "stderr",
     "output_type": "stream",
     "text": [
      "Widget Javascript not detected.  It may not be installed properly. Did you enable the widgetsnbextension? If not, then run \"jupyter nbextension enable --py --sys-prefix widgetsnbextension\"\n",
      "Widget Javascript not detected.  It may not be installed properly. Did you enable the widgetsnbextension? If not, then run \"jupyter nbextension enable --py --sys-prefix widgetsnbextension\"\n"
     ]
    },
    {
     "name": "stdout",
     "output_type": "stream",
     "text": [
      "[10,     5] loss: 0.630\n",
      "[10,    10] loss: 0.603\n",
      "[10,    15] loss: 0.605\n",
      "[10,    20] loss: 0.580\n",
      "[10,    25] loss: 0.564\n",
      "\n"
     ]
    },
    {
     "name": "stderr",
     "output_type": "stream",
     "text": [
      "Widget Javascript not detected.  It may not be installed properly. Did you enable the widgetsnbextension? If not, then run \"jupyter nbextension enable --py --sys-prefix widgetsnbextension\"\n"
     ]
    },
    {
     "name": "stdout",
     "output_type": "stream",
     "text": [
      "\n",
      "\n",
      "Classification Accuracy (Validation Set): 0.909\n",
      "tensor([1, 1, 1, 1, 1])\n",
      "[0 0 0 0 0]\n",
      "tensor([1, 1, 1, 1, 1])\n",
      "[0 0 0 0 0]\n",
      "\n",
      "\n",
      "Backdoor Accuracy: 0.000\n"
     ]
    },
    {
     "name": "stderr",
     "output_type": "stream",
     "text": [
      "Widget Javascript not detected.  It may not be installed properly. Did you enable the widgetsnbextension? If not, then run \"jupyter nbextension enable --py --sys-prefix widgetsnbextension\"\n",
      "Widget Javascript not detected.  It may not be installed properly. Did you enable the widgetsnbextension? If not, then run \"jupyter nbextension enable --py --sys-prefix widgetsnbextension\"\n"
     ]
    },
    {
     "name": "stdout",
     "output_type": "stream",
     "text": [
      "[11,     5] loss: 0.561\n",
      "[11,    10] loss: 0.563\n",
      "[11,    15] loss: 0.500\n",
      "[11,    20] loss: 0.527\n",
      "[11,    25] loss: 0.502\n",
      "\n"
     ]
    },
    {
     "name": "stderr",
     "output_type": "stream",
     "text": [
      "Widget Javascript not detected.  It may not be installed properly. Did you enable the widgetsnbextension? If not, then run \"jupyter nbextension enable --py --sys-prefix widgetsnbextension\"\n"
     ]
    },
    {
     "name": "stdout",
     "output_type": "stream",
     "text": [
      "\n",
      "\n",
      "Classification Accuracy (Validation Set): 0.909\n",
      "tensor([1, 1, 1, 1, 1])\n",
      "[0 0 0 0 0]\n",
      "tensor([1, 1, 1, 1, 1])\n",
      "[0 0 0 0 0]\n",
      "\n",
      "\n",
      "Backdoor Accuracy: 0.000\n"
     ]
    },
    {
     "name": "stderr",
     "output_type": "stream",
     "text": [
      "Widget Javascript not detected.  It may not be installed properly. Did you enable the widgetsnbextension? If not, then run \"jupyter nbextension enable --py --sys-prefix widgetsnbextension\"\n",
      "Widget Javascript not detected.  It may not be installed properly. Did you enable the widgetsnbextension? If not, then run \"jupyter nbextension enable --py --sys-prefix widgetsnbextension\"\n"
     ]
    },
    {
     "name": "stdout",
     "output_type": "stream",
     "text": [
      "[12,     5] loss: 0.546\n",
      "[12,    10] loss: 0.475\n",
      "[12,    15] loss: 0.443\n",
      "[12,    20] loss: 0.459\n",
      "[12,    25] loss: 0.475\n",
      "\n"
     ]
    },
    {
     "name": "stderr",
     "output_type": "stream",
     "text": [
      "Widget Javascript not detected.  It may not be installed properly. Did you enable the widgetsnbextension? If not, then run \"jupyter nbextension enable --py --sys-prefix widgetsnbextension\"\n"
     ]
    },
    {
     "name": "stdout",
     "output_type": "stream",
     "text": [
      "\n",
      "\n",
      "Classification Accuracy (Validation Set): 0.909\n",
      "tensor([1, 1, 1, 1, 1])\n",
      "[0 0 0 0 0]\n",
      "tensor([1, 1, 1, 1, 1])\n",
      "[0 0 0 0 0]\n",
      "\n",
      "\n",
      "Backdoor Accuracy: 0.000\n"
     ]
    },
    {
     "name": "stderr",
     "output_type": "stream",
     "text": [
      "Widget Javascript not detected.  It may not be installed properly. Did you enable the widgetsnbextension? If not, then run \"jupyter nbextension enable --py --sys-prefix widgetsnbextension\"\n",
      "Widget Javascript not detected.  It may not be installed properly. Did you enable the widgetsnbextension? If not, then run \"jupyter nbextension enable --py --sys-prefix widgetsnbextension\"\n"
     ]
    },
    {
     "name": "stdout",
     "output_type": "stream",
     "text": [
      "[13,     5] loss: 0.459\n",
      "[13,    10] loss: 0.438\n",
      "[13,    15] loss: 0.450\n",
      "[13,    20] loss: 0.449\n",
      "[13,    25] loss: 0.419\n",
      "\n"
     ]
    },
    {
     "name": "stderr",
     "output_type": "stream",
     "text": [
      "Widget Javascript not detected.  It may not be installed properly. Did you enable the widgetsnbextension? If not, then run \"jupyter nbextension enable --py --sys-prefix widgetsnbextension\"\n"
     ]
    },
    {
     "name": "stdout",
     "output_type": "stream",
     "text": [
      "\n",
      "\n",
      "Classification Accuracy (Validation Set): 0.909\n",
      "tensor([1, 1, 1, 1, 1])\n",
      "[0 0 0 0 0]\n",
      "tensor([1, 1, 1, 1, 1])\n",
      "[0 0 0 0 0]\n",
      "\n",
      "\n",
      "Backdoor Accuracy: 0.000\n"
     ]
    },
    {
     "name": "stderr",
     "output_type": "stream",
     "text": [
      "Widget Javascript not detected.  It may not be installed properly. Did you enable the widgetsnbextension? If not, then run \"jupyter nbextension enable --py --sys-prefix widgetsnbextension\"\n",
      "Widget Javascript not detected.  It may not be installed properly. Did you enable the widgetsnbextension? If not, then run \"jupyter nbextension enable --py --sys-prefix widgetsnbextension\"\n"
     ]
    },
    {
     "name": "stdout",
     "output_type": "stream",
     "text": [
      "[14,     5] loss: 0.395\n",
      "[14,    10] loss: 0.394\n",
      "[14,    15] loss: 0.393\n",
      "[14,    20] loss: 0.396\n",
      "[14,    25] loss: 0.390\n",
      "\n"
     ]
    },
    {
     "name": "stderr",
     "output_type": "stream",
     "text": [
      "Widget Javascript not detected.  It may not be installed properly. Did you enable the widgetsnbextension? If not, then run \"jupyter nbextension enable --py --sys-prefix widgetsnbextension\"\n"
     ]
    },
    {
     "name": "stdout",
     "output_type": "stream",
     "text": [
      "\n",
      "\n",
      "Classification Accuracy (Validation Set): 0.909\n",
      "tensor([1, 1, 1, 1, 1])\n",
      "[0 0 0 0 0]\n",
      "tensor([1, 1, 1, 1, 1])\n",
      "[0 0 0 0 0]\n",
      "\n",
      "\n",
      "Backdoor Accuracy: 0.000\n"
     ]
    },
    {
     "name": "stderr",
     "output_type": "stream",
     "text": [
      "Widget Javascript not detected.  It may not be installed properly. Did you enable the widgetsnbextension? If not, then run \"jupyter nbextension enable --py --sys-prefix widgetsnbextension\"\n",
      "Widget Javascript not detected.  It may not be installed properly. Did you enable the widgetsnbextension? If not, then run \"jupyter nbextension enable --py --sys-prefix widgetsnbextension\"\n"
     ]
    },
    {
     "name": "stdout",
     "output_type": "stream",
     "text": [
      "[15,     5] loss: 0.374\n",
      "[15,    10] loss: 0.359\n",
      "[15,    15] loss: 0.369\n",
      "[15,    20] loss: 0.353\n",
      "[15,    25] loss: 0.338\n",
      "\n"
     ]
    },
    {
     "name": "stderr",
     "output_type": "stream",
     "text": [
      "Widget Javascript not detected.  It may not be installed properly. Did you enable the widgetsnbextension? If not, then run \"jupyter nbextension enable --py --sys-prefix widgetsnbextension\"\n"
     ]
    },
    {
     "name": "stdout",
     "output_type": "stream",
     "text": [
      "\n",
      "\n",
      "Classification Accuracy (Validation Set): 0.909\n",
      "tensor([1, 1, 1, 1, 1])\n",
      "[0 0 0 0 0]\n",
      "tensor([1, 1, 1, 1, 1])\n",
      "[0 0 0 0 0]\n",
      "\n",
      "\n",
      "Backdoor Accuracy: 0.000\n"
     ]
    },
    {
     "name": "stderr",
     "output_type": "stream",
     "text": [
      "Widget Javascript not detected.  It may not be installed properly. Did you enable the widgetsnbextension? If not, then run \"jupyter nbextension enable --py --sys-prefix widgetsnbextension\"\n",
      "Widget Javascript not detected.  It may not be installed properly. Did you enable the widgetsnbextension? If not, then run \"jupyter nbextension enable --py --sys-prefix widgetsnbextension\"\n"
     ]
    },
    {
     "name": "stdout",
     "output_type": "stream",
     "text": [
      "[16,     5] loss: 0.332\n",
      "[16,    10] loss: 0.331\n",
      "[16,    15] loss: 0.326\n",
      "[16,    20] loss: 0.323\n",
      "[16,    25] loss: 0.369\n",
      "\n"
     ]
    },
    {
     "name": "stderr",
     "output_type": "stream",
     "text": [
      "Widget Javascript not detected.  It may not be installed properly. Did you enable the widgetsnbextension? If not, then run \"jupyter nbextension enable --py --sys-prefix widgetsnbextension\"\n"
     ]
    },
    {
     "name": "stdout",
     "output_type": "stream",
     "text": [
      "\n",
      "\n",
      "Classification Accuracy (Validation Set): 0.909\n",
      "tensor([1, 1, 1, 1, 1])\n",
      "[0 0 0 0 0]\n",
      "tensor([1, 1, 1, 1, 1])\n",
      "[0 0 0 0 0]\n",
      "\n",
      "\n",
      "Backdoor Accuracy: 0.000\n"
     ]
    },
    {
     "name": "stderr",
     "output_type": "stream",
     "text": [
      "Widget Javascript not detected.  It may not be installed properly. Did you enable the widgetsnbextension? If not, then run \"jupyter nbextension enable --py --sys-prefix widgetsnbextension\"\n",
      "Widget Javascript not detected.  It may not be installed properly. Did you enable the widgetsnbextension? If not, then run \"jupyter nbextension enable --py --sys-prefix widgetsnbextension\"\n"
     ]
    },
    {
     "name": "stdout",
     "output_type": "stream",
     "text": [
      "[17,     5] loss: 0.302\n",
      "[17,    10] loss: 0.320\n",
      "[17,    15] loss: 0.304\n",
      "[17,    20] loss: 0.302\n",
      "[17,    25] loss: 0.309\n",
      "\n"
     ]
    },
    {
     "name": "stderr",
     "output_type": "stream",
     "text": [
      "Widget Javascript not detected.  It may not be installed properly. Did you enable the widgetsnbextension? If not, then run \"jupyter nbextension enable --py --sys-prefix widgetsnbextension\"\n"
     ]
    },
    {
     "name": "stdout",
     "output_type": "stream",
     "text": [
      "\n",
      "\n",
      "Classification Accuracy (Validation Set): 0.909\n",
      "tensor([1, 1, 1, 1, 1])\n",
      "[0 0 0 0 0]\n",
      "tensor([1, 1, 1, 1, 1])\n",
      "[0 0 0 0 0]\n",
      "\n",
      "\n",
      "Backdoor Accuracy: 0.000\n"
     ]
    },
    {
     "name": "stderr",
     "output_type": "stream",
     "text": [
      "Widget Javascript not detected.  It may not be installed properly. Did you enable the widgetsnbextension? If not, then run \"jupyter nbextension enable --py --sys-prefix widgetsnbextension\"\n",
      "Widget Javascript not detected.  It may not be installed properly. Did you enable the widgetsnbextension? If not, then run \"jupyter nbextension enable --py --sys-prefix widgetsnbextension\"\n"
     ]
    },
    {
     "name": "stdout",
     "output_type": "stream",
     "text": [
      "[18,     5] loss: 0.291\n",
      "[18,    10] loss: 0.272\n",
      "[18,    15] loss: 0.274\n",
      "[18,    20] loss: 0.293\n",
      "[18,    25] loss: 0.289\n",
      "\n"
     ]
    },
    {
     "name": "stderr",
     "output_type": "stream",
     "text": [
      "Widget Javascript not detected.  It may not be installed properly. Did you enable the widgetsnbextension? If not, then run \"jupyter nbextension enable --py --sys-prefix widgetsnbextension\"\n"
     ]
    },
    {
     "name": "stdout",
     "output_type": "stream",
     "text": [
      "\n",
      "\n",
      "Classification Accuracy (Validation Set): 0.909\n",
      "tensor([1, 1, 1, 1, 1])\n",
      "[0 0 0 0 0]\n",
      "tensor([1, 1, 1, 1, 1])\n",
      "[0 0 0 0 0]\n",
      "\n",
      "\n",
      "Backdoor Accuracy: 0.000\n"
     ]
    },
    {
     "name": "stderr",
     "output_type": "stream",
     "text": [
      "Widget Javascript not detected.  It may not be installed properly. Did you enable the widgetsnbextension? If not, then run \"jupyter nbextension enable --py --sys-prefix widgetsnbextension\"\n",
      "Widget Javascript not detected.  It may not be installed properly. Did you enable the widgetsnbextension? If not, then run \"jupyter nbextension enable --py --sys-prefix widgetsnbextension\"\n"
     ]
    },
    {
     "name": "stdout",
     "output_type": "stream",
     "text": [
      "[19,     5] loss: 0.245\n",
      "[19,    10] loss: 0.303\n",
      "[19,    15] loss: 0.310\n",
      "[19,    20] loss: 0.238\n",
      "[19,    25] loss: 0.260\n",
      "\n"
     ]
    },
    {
     "name": "stderr",
     "output_type": "stream",
     "text": [
      "Widget Javascript not detected.  It may not be installed properly. Did you enable the widgetsnbextension? If not, then run \"jupyter nbextension enable --py --sys-prefix widgetsnbextension\"\n"
     ]
    },
    {
     "name": "stdout",
     "output_type": "stream",
     "text": [
      "\n",
      "\n",
      "Classification Accuracy (Validation Set): 0.909\n",
      "tensor([1, 1, 1, 1, 1])\n",
      "[0 0 0 0 0]\n",
      "tensor([1, 1, 1, 1, 1])\n",
      "[0 0 0 0 0]\n",
      "\n",
      "\n",
      "Backdoor Accuracy: 0.000\n"
     ]
    },
    {
     "name": "stderr",
     "output_type": "stream",
     "text": [
      "Widget Javascript not detected.  It may not be installed properly. Did you enable the widgetsnbextension? If not, then run \"jupyter nbextension enable --py --sys-prefix widgetsnbextension\"\n",
      "Widget Javascript not detected.  It may not be installed properly. Did you enable the widgetsnbextension? If not, then run \"jupyter nbextension enable --py --sys-prefix widgetsnbextension\"\n"
     ]
    },
    {
     "name": "stdout",
     "output_type": "stream",
     "text": [
      "[20,     5] loss: 0.274\n",
      "[20,    10] loss: 0.263\n",
      "[20,    15] loss: 0.222\n",
      "[20,    20] loss: 0.233\n",
      "[20,    25] loss: 0.243\n",
      "\n"
     ]
    },
    {
     "name": "stderr",
     "output_type": "stream",
     "text": [
      "Widget Javascript not detected.  It may not be installed properly. Did you enable the widgetsnbextension? If not, then run \"jupyter nbextension enable --py --sys-prefix widgetsnbextension\"\n"
     ]
    },
    {
     "name": "stdout",
     "output_type": "stream",
     "text": [
      "\n",
      "\n",
      "Classification Accuracy (Validation Set): 0.909\n",
      "tensor([1, 1, 1, 1, 1])\n",
      "[0 0 0 0 0]\n",
      "tensor([1, 1, 1, 1, 1])\n",
      "[0 0 0 0 0]\n",
      "\n",
      "\n",
      "Backdoor Accuracy: 0.000\n"
     ]
    },
    {
     "name": "stderr",
     "output_type": "stream",
     "text": [
      "Widget Javascript not detected.  It may not be installed properly. Did you enable the widgetsnbextension? If not, then run \"jupyter nbextension enable --py --sys-prefix widgetsnbextension\"\n",
      "Widget Javascript not detected.  It may not be installed properly. Did you enable the widgetsnbextension? If not, then run \"jupyter nbextension enable --py --sys-prefix widgetsnbextension\"\n"
     ]
    },
    {
     "name": "stdout",
     "output_type": "stream",
     "text": [
      "[21,     5] loss: 0.242\n",
      "[21,    10] loss: 0.223\n",
      "[21,    15] loss: 0.244\n",
      "[21,    20] loss: 0.241\n",
      "[21,    25] loss: 0.261\n",
      "\n"
     ]
    },
    {
     "name": "stderr",
     "output_type": "stream",
     "text": [
      "Widget Javascript not detected.  It may not be installed properly. Did you enable the widgetsnbextension? If not, then run \"jupyter nbextension enable --py --sys-prefix widgetsnbextension\"\n"
     ]
    },
    {
     "name": "stdout",
     "output_type": "stream",
     "text": [
      "\n",
      "\n",
      "Classification Accuracy (Validation Set): 0.909\n",
      "tensor([1, 1, 1, 1, 1])\n",
      "[0 0 0 0 0]\n",
      "tensor([1, 1, 1, 1, 1])\n",
      "[0 0 0 0 0]\n",
      "\n",
      "\n",
      "Backdoor Accuracy: 0.000\n"
     ]
    },
    {
     "name": "stderr",
     "output_type": "stream",
     "text": [
      "Widget Javascript not detected.  It may not be installed properly. Did you enable the widgetsnbextension? If not, then run \"jupyter nbextension enable --py --sys-prefix widgetsnbextension\"\n",
      "Widget Javascript not detected.  It may not be installed properly. Did you enable the widgetsnbextension? If not, then run \"jupyter nbextension enable --py --sys-prefix widgetsnbextension\"\n"
     ]
    },
    {
     "name": "stdout",
     "output_type": "stream",
     "text": [
      "[22,     5] loss: 0.233\n",
      "[22,    10] loss: 0.224\n",
      "[22,    15] loss: 0.243\n",
      "[22,    20] loss: 0.201\n",
      "[22,    25] loss: 0.225\n",
      "\n"
     ]
    },
    {
     "name": "stderr",
     "output_type": "stream",
     "text": [
      "Widget Javascript not detected.  It may not be installed properly. Did you enable the widgetsnbextension? If not, then run \"jupyter nbextension enable --py --sys-prefix widgetsnbextension\"\n"
     ]
    },
    {
     "name": "stdout",
     "output_type": "stream",
     "text": [
      "\n",
      "\n",
      "Classification Accuracy (Validation Set): 0.909\n",
      "tensor([1, 1, 1, 1, 1])\n",
      "[0 0 0 0 0]\n",
      "tensor([1, 1, 1, 1, 1])\n",
      "[0 0 0 0 0]\n",
      "\n",
      "\n",
      "Backdoor Accuracy: 0.000\n"
     ]
    },
    {
     "name": "stderr",
     "output_type": "stream",
     "text": [
      "Widget Javascript not detected.  It may not be installed properly. Did you enable the widgetsnbextension? If not, then run \"jupyter nbextension enable --py --sys-prefix widgetsnbextension\"\n",
      "Widget Javascript not detected.  It may not be installed properly. Did you enable the widgetsnbextension? If not, then run \"jupyter nbextension enable --py --sys-prefix widgetsnbextension\"\n"
     ]
    },
    {
     "name": "stdout",
     "output_type": "stream",
     "text": [
      "[23,     5] loss: 0.201\n",
      "[23,    10] loss: 0.220\n",
      "[23,    15] loss: 0.218\n",
      "[23,    20] loss: 0.213\n",
      "[23,    25] loss: 0.225\n",
      "\n"
     ]
    },
    {
     "name": "stderr",
     "output_type": "stream",
     "text": [
      "Widget Javascript not detected.  It may not be installed properly. Did you enable the widgetsnbextension? If not, then run \"jupyter nbextension enable --py --sys-prefix widgetsnbextension\"\n"
     ]
    },
    {
     "name": "stdout",
     "output_type": "stream",
     "text": [
      "\n",
      "\n",
      "Classification Accuracy (Validation Set): 0.909\n",
      "tensor([1, 1, 1, 1, 1])\n",
      "[0 0 0 0 0]\n",
      "tensor([1, 1, 1, 1, 1])\n",
      "[0 0 0 0 0]\n",
      "\n",
      "\n",
      "Backdoor Accuracy: 0.000\n"
     ]
    },
    {
     "name": "stderr",
     "output_type": "stream",
     "text": [
      "Widget Javascript not detected.  It may not be installed properly. Did you enable the widgetsnbextension? If not, then run \"jupyter nbextension enable --py --sys-prefix widgetsnbextension\"\n",
      "Widget Javascript not detected.  It may not be installed properly. Did you enable the widgetsnbextension? If not, then run \"jupyter nbextension enable --py --sys-prefix widgetsnbextension\"\n"
     ]
    },
    {
     "name": "stdout",
     "output_type": "stream",
     "text": [
      "[24,     5] loss: 0.210\n",
      "[24,    10] loss: 0.194\n",
      "[24,    15] loss: 0.176\n",
      "[24,    20] loss: 0.207\n",
      "[24,    25] loss: 0.186\n",
      "\n"
     ]
    },
    {
     "name": "stderr",
     "output_type": "stream",
     "text": [
      "Widget Javascript not detected.  It may not be installed properly. Did you enable the widgetsnbextension? If not, then run \"jupyter nbextension enable --py --sys-prefix widgetsnbextension\"\n"
     ]
    },
    {
     "name": "stdout",
     "output_type": "stream",
     "text": [
      "\n",
      "\n",
      "Classification Accuracy (Validation Set): 0.909\n",
      "tensor([1, 1, 1, 1, 1])\n",
      "[0 0 0 0 0]\n",
      "tensor([1, 1, 1, 1, 1])\n",
      "[0 0 0 0 0]\n",
      "\n",
      "\n",
      "Backdoor Accuracy: 0.000\n"
     ]
    },
    {
     "name": "stderr",
     "output_type": "stream",
     "text": [
      "Widget Javascript not detected.  It may not be installed properly. Did you enable the widgetsnbextension? If not, then run \"jupyter nbextension enable --py --sys-prefix widgetsnbextension\"\n",
      "Widget Javascript not detected.  It may not be installed properly. Did you enable the widgetsnbextension? If not, then run \"jupyter nbextension enable --py --sys-prefix widgetsnbextension\"\n"
     ]
    },
    {
     "name": "stdout",
     "output_type": "stream",
     "text": [
      "[25,     5] loss: 0.197\n",
      "[25,    10] loss: 0.173\n",
      "[25,    15] loss: 0.213\n",
      "[25,    20] loss: 0.162\n",
      "[25,    25] loss: 0.193\n",
      "\n"
     ]
    },
    {
     "name": "stderr",
     "output_type": "stream",
     "text": [
      "Widget Javascript not detected.  It may not be installed properly. Did you enable the widgetsnbextension? If not, then run \"jupyter nbextension enable --py --sys-prefix widgetsnbextension\"\n"
     ]
    },
    {
     "name": "stdout",
     "output_type": "stream",
     "text": [
      "\n",
      "\n",
      "Classification Accuracy (Validation Set): 0.909\n",
      "tensor([1, 1, 1, 1, 1])\n",
      "[0 0 0 0 0]\n",
      "tensor([1, 1, 1, 1, 1])\n",
      "[0 0 0 0 0]\n",
      "\n",
      "\n",
      "Backdoor Accuracy: 0.000\n"
     ]
    },
    {
     "name": "stderr",
     "output_type": "stream",
     "text": [
      "Widget Javascript not detected.  It may not be installed properly. Did you enable the widgetsnbextension? If not, then run \"jupyter nbextension enable --py --sys-prefix widgetsnbextension\"\n",
      "Widget Javascript not detected.  It may not be installed properly. Did you enable the widgetsnbextension? If not, then run \"jupyter nbextension enable --py --sys-prefix widgetsnbextension\"\n"
     ]
    },
    {
     "name": "stdout",
     "output_type": "stream",
     "text": [
      "[26,     5] loss: 0.190\n",
      "[26,    10] loss: 0.171\n",
      "[26,    15] loss: 0.185\n",
      "[26,    20] loss: 0.164\n",
      "[26,    25] loss: 0.183\n",
      "\n"
     ]
    },
    {
     "name": "stderr",
     "output_type": "stream",
     "text": [
      "Widget Javascript not detected.  It may not be installed properly. Did you enable the widgetsnbextension? If not, then run \"jupyter nbextension enable --py --sys-prefix widgetsnbextension\"\n"
     ]
    },
    {
     "name": "stdout",
     "output_type": "stream",
     "text": [
      "\n",
      "\n",
      "Classification Accuracy (Validation Set): 0.909\n",
      "tensor([1, 1, 1, 1, 1])\n",
      "[0 0 0 0 0]\n",
      "tensor([1, 1, 1, 1, 1])\n",
      "[0 0 0 0 0]\n",
      "\n",
      "\n",
      "Backdoor Accuracy: 0.000\n"
     ]
    },
    {
     "name": "stderr",
     "output_type": "stream",
     "text": [
      "Widget Javascript not detected.  It may not be installed properly. Did you enable the widgetsnbextension? If not, then run \"jupyter nbextension enable --py --sys-prefix widgetsnbextension\"\n",
      "Widget Javascript not detected.  It may not be installed properly. Did you enable the widgetsnbextension? If not, then run \"jupyter nbextension enable --py --sys-prefix widgetsnbextension\"\n"
     ]
    },
    {
     "name": "stdout",
     "output_type": "stream",
     "text": [
      "[27,     5] loss: 0.184\n",
      "[27,    10] loss: 0.184\n",
      "[27,    15] loss: 0.174\n",
      "[27,    20] loss: 0.170\n",
      "[27,    25] loss: 0.168\n",
      "\n"
     ]
    },
    {
     "name": "stderr",
     "output_type": "stream",
     "text": [
      "Widget Javascript not detected.  It may not be installed properly. Did you enable the widgetsnbextension? If not, then run \"jupyter nbextension enable --py --sys-prefix widgetsnbextension\"\n"
     ]
    },
    {
     "name": "stdout",
     "output_type": "stream",
     "text": [
      "\n",
      "\n",
      "Classification Accuracy (Validation Set): 0.909\n",
      "tensor([1, 1, 1, 1, 1])\n",
      "[0 0 0 0 0]\n",
      "tensor([1, 1, 1, 1, 1])\n",
      "[0 0 0 0 0]\n",
      "\n",
      "\n",
      "Backdoor Accuracy: 0.000\n"
     ]
    },
    {
     "name": "stderr",
     "output_type": "stream",
     "text": [
      "Widget Javascript not detected.  It may not be installed properly. Did you enable the widgetsnbextension? If not, then run \"jupyter nbextension enable --py --sys-prefix widgetsnbextension\"\n",
      "Widget Javascript not detected.  It may not be installed properly. Did you enable the widgetsnbextension? If not, then run \"jupyter nbextension enable --py --sys-prefix widgetsnbextension\"\n"
     ]
    },
    {
     "name": "stdout",
     "output_type": "stream",
     "text": [
      "[28,     5] loss: 0.165\n",
      "[28,    10] loss: 0.187\n",
      "[28,    15] loss: 0.151\n",
      "[28,    20] loss: 0.156\n",
      "[28,    25] loss: 0.160\n",
      "\n"
     ]
    },
    {
     "name": "stderr",
     "output_type": "stream",
     "text": [
      "Widget Javascript not detected.  It may not be installed properly. Did you enable the widgetsnbextension? If not, then run \"jupyter nbextension enable --py --sys-prefix widgetsnbextension\"\n"
     ]
    },
    {
     "name": "stdout",
     "output_type": "stream",
     "text": [
      "\n",
      "\n",
      "Classification Accuracy (Validation Set): 0.909\n",
      "tensor([1, 1, 1, 1, 1])\n",
      "[0 0 0 0 0]\n",
      "tensor([1, 1, 1, 1, 1])\n",
      "[0 0 0 0 0]\n",
      "\n",
      "\n",
      "Backdoor Accuracy: 0.000\n"
     ]
    },
    {
     "name": "stderr",
     "output_type": "stream",
     "text": [
      "Widget Javascript not detected.  It may not be installed properly. Did you enable the widgetsnbextension? If not, then run \"jupyter nbextension enable --py --sys-prefix widgetsnbextension\"\n",
      "Widget Javascript not detected.  It may not be installed properly. Did you enable the widgetsnbextension? If not, then run \"jupyter nbextension enable --py --sys-prefix widgetsnbextension\"\n"
     ]
    },
    {
     "name": "stdout",
     "output_type": "stream",
     "text": [
      "[29,     5] loss: 0.171\n",
      "[29,    10] loss: 0.165\n",
      "[29,    15] loss: 0.163\n",
      "[29,    20] loss: 0.165\n",
      "[29,    25] loss: 0.142\n",
      "\n"
     ]
    },
    {
     "name": "stderr",
     "output_type": "stream",
     "text": [
      "Widget Javascript not detected.  It may not be installed properly. Did you enable the widgetsnbextension? If not, then run \"jupyter nbextension enable --py --sys-prefix widgetsnbextension\"\n"
     ]
    },
    {
     "name": "stdout",
     "output_type": "stream",
     "text": [
      "\n",
      "\n",
      "Classification Accuracy (Validation Set): 0.918\n",
      "tensor([1, 1, 1, 1, 1])\n",
      "[0 0 0 0 0]\n",
      "tensor([1, 1, 1, 1, 1])\n",
      "[0 0 0 0 0]\n",
      "\n",
      "\n",
      "Backdoor Accuracy: 0.000\n"
     ]
    },
    {
     "name": "stderr",
     "output_type": "stream",
     "text": [
      "Widget Javascript not detected.  It may not be installed properly. Did you enable the widgetsnbextension? If not, then run \"jupyter nbextension enable --py --sys-prefix widgetsnbextension\"\n",
      "Widget Javascript not detected.  It may not be installed properly. Did you enable the widgetsnbextension? If not, then run \"jupyter nbextension enable --py --sys-prefix widgetsnbextension\"\n"
     ]
    },
    {
     "name": "stdout",
     "output_type": "stream",
     "text": [
      "[30,     5] loss: 0.150\n",
      "[30,    10] loss: 0.156\n",
      "[30,    15] loss: 0.132\n",
      "[30,    20] loss: 0.140\n",
      "[30,    25] loss: 0.171\n",
      "\n"
     ]
    },
    {
     "name": "stderr",
     "output_type": "stream",
     "text": [
      "Widget Javascript not detected.  It may not be installed properly. Did you enable the widgetsnbextension? If not, then run \"jupyter nbextension enable --py --sys-prefix widgetsnbextension\"\n"
     ]
    },
    {
     "name": "stdout",
     "output_type": "stream",
     "text": [
      "\n",
      "\n",
      "Classification Accuracy (Validation Set): 0.918\n",
      "tensor([1, 1, 1, 1, 1])\n",
      "[0 0 0 0 0]\n",
      "tensor([1, 1, 1, 1, 1])\n",
      "[0 0 0 0 0]\n",
      "\n",
      "\n",
      "Backdoor Accuracy: 0.000\n"
     ]
    },
    {
     "name": "stderr",
     "output_type": "stream",
     "text": [
      "Widget Javascript not detected.  It may not be installed properly. Did you enable the widgetsnbextension? If not, then run \"jupyter nbextension enable --py --sys-prefix widgetsnbextension\"\n",
      "Widget Javascript not detected.  It may not be installed properly. Did you enable the widgetsnbextension? If not, then run \"jupyter nbextension enable --py --sys-prefix widgetsnbextension\"\n"
     ]
    },
    {
     "name": "stdout",
     "output_type": "stream",
     "text": [
      "[31,     5] loss: 0.169\n",
      "[31,    10] loss: 0.123\n",
      "[31,    15] loss: 0.162\n",
      "[31,    20] loss: 0.123\n",
      "[31,    25] loss: 0.132\n",
      "\n"
     ]
    },
    {
     "name": "stderr",
     "output_type": "stream",
     "text": [
      "Widget Javascript not detected.  It may not be installed properly. Did you enable the widgetsnbextension? If not, then run \"jupyter nbextension enable --py --sys-prefix widgetsnbextension\"\n"
     ]
    },
    {
     "name": "stdout",
     "output_type": "stream",
     "text": [
      "\n",
      "\n",
      "Classification Accuracy (Validation Set): 0.909\n",
      "tensor([1, 1, 1, 1, 1])\n",
      "[0 0 0 1 0]\n",
      "tensor([1, 1, 1, 1, 1])\n",
      "[0 0 0 0 1]\n",
      "\n",
      "\n",
      "Backdoor Accuracy: 0.200\n"
     ]
    },
    {
     "name": "stderr",
     "output_type": "stream",
     "text": [
      "Widget Javascript not detected.  It may not be installed properly. Did you enable the widgetsnbextension? If not, then run \"jupyter nbextension enable --py --sys-prefix widgetsnbextension\"\n",
      "Widget Javascript not detected.  It may not be installed properly. Did you enable the widgetsnbextension? If not, then run \"jupyter nbextension enable --py --sys-prefix widgetsnbextension\"\n"
     ]
    },
    {
     "name": "stdout",
     "output_type": "stream",
     "text": [
      "[32,     5] loss: 0.139\n",
      "[32,    10] loss: 0.122\n",
      "[32,    15] loss: 0.139\n",
      "[32,    20] loss: 0.163\n",
      "[32,    25] loss: 0.124\n",
      "\n"
     ]
    },
    {
     "name": "stderr",
     "output_type": "stream",
     "text": [
      "Widget Javascript not detected.  It may not be installed properly. Did you enable the widgetsnbextension? If not, then run \"jupyter nbextension enable --py --sys-prefix widgetsnbextension\"\n"
     ]
    },
    {
     "name": "stdout",
     "output_type": "stream",
     "text": [
      "\n",
      "\n",
      "Classification Accuracy (Validation Set): 0.927\n",
      "tensor([1, 1, 1, 1, 1])\n",
      "[1 0 0 0 0]\n",
      "tensor([1, 1, 1, 1, 1])\n",
      "[0 0 0 1 0]\n",
      "\n",
      "\n",
      "Backdoor Accuracy: 0.200\n"
     ]
    },
    {
     "name": "stderr",
     "output_type": "stream",
     "text": [
      "Widget Javascript not detected.  It may not be installed properly. Did you enable the widgetsnbextension? If not, then run \"jupyter nbextension enable --py --sys-prefix widgetsnbextension\"\n",
      "Widget Javascript not detected.  It may not be installed properly. Did you enable the widgetsnbextension? If not, then run \"jupyter nbextension enable --py --sys-prefix widgetsnbextension\"\n"
     ]
    },
    {
     "name": "stdout",
     "output_type": "stream",
     "text": [
      "[33,     5] loss: 0.143\n",
      "[33,    10] loss: 0.122\n",
      "[33,    15] loss: 0.146\n",
      "[33,    20] loss: 0.137\n",
      "[33,    25] loss: 0.114\n",
      "\n"
     ]
    },
    {
     "name": "stderr",
     "output_type": "stream",
     "text": [
      "Widget Javascript not detected.  It may not be installed properly. Did you enable the widgetsnbextension? If not, then run \"jupyter nbextension enable --py --sys-prefix widgetsnbextension\"\n"
     ]
    },
    {
     "name": "stdout",
     "output_type": "stream",
     "text": [
      "\n",
      "\n",
      "Classification Accuracy (Validation Set): 0.918\n",
      "tensor([1, 1, 1, 1, 1])\n",
      "[0 0 0 1 0]\n",
      "tensor([1, 1, 1, 1, 1])\n",
      "[0 0 0 0 0]\n",
      "\n",
      "\n",
      "Backdoor Accuracy: 0.100\n"
     ]
    },
    {
     "name": "stderr",
     "output_type": "stream",
     "text": [
      "Widget Javascript not detected.  It may not be installed properly. Did you enable the widgetsnbextension? If not, then run \"jupyter nbextension enable --py --sys-prefix widgetsnbextension\"\n",
      "Widget Javascript not detected.  It may not be installed properly. Did you enable the widgetsnbextension? If not, then run \"jupyter nbextension enable --py --sys-prefix widgetsnbextension\"\n"
     ]
    },
    {
     "name": "stdout",
     "output_type": "stream",
     "text": [
      "[34,     5] loss: 0.106\n",
      "[34,    10] loss: 0.124\n",
      "[34,    15] loss: 0.134\n",
      "[34,    20] loss: 0.137\n",
      "[34,    25] loss: 0.139\n",
      "\n"
     ]
    },
    {
     "name": "stderr",
     "output_type": "stream",
     "text": [
      "Widget Javascript not detected.  It may not be installed properly. Did you enable the widgetsnbextension? If not, then run \"jupyter nbextension enable --py --sys-prefix widgetsnbextension\"\n"
     ]
    },
    {
     "name": "stdout",
     "output_type": "stream",
     "text": [
      "\n",
      "\n",
      "Classification Accuracy (Validation Set): 0.918\n",
      "tensor([1, 1, 1, 1, 1])\n",
      "[1 0 0 0 0]\n",
      "tensor([1, 1, 1, 1, 1])\n",
      "[0 0 0 0 0]\n",
      "\n",
      "\n",
      "Backdoor Accuracy: 0.100\n"
     ]
    },
    {
     "name": "stderr",
     "output_type": "stream",
     "text": [
      "Widget Javascript not detected.  It may not be installed properly. Did you enable the widgetsnbextension? If not, then run \"jupyter nbextension enable --py --sys-prefix widgetsnbextension\"\n",
      "Widget Javascript not detected.  It may not be installed properly. Did you enable the widgetsnbextension? If not, then run \"jupyter nbextension enable --py --sys-prefix widgetsnbextension\"\n"
     ]
    },
    {
     "name": "stdout",
     "output_type": "stream",
     "text": [
      "[35,     5] loss: 0.135\n",
      "[35,    10] loss: 0.118\n",
      "[35,    15] loss: 0.134\n",
      "[35,    20] loss: 0.117\n",
      "[35,    25] loss: 0.121\n",
      "\n"
     ]
    },
    {
     "name": "stderr",
     "output_type": "stream",
     "text": [
      "Widget Javascript not detected.  It may not be installed properly. Did you enable the widgetsnbextension? If not, then run \"jupyter nbextension enable --py --sys-prefix widgetsnbextension\"\n"
     ]
    },
    {
     "name": "stdout",
     "output_type": "stream",
     "text": [
      "\n",
      "\n",
      "Classification Accuracy (Validation Set): 0.927\n",
      "tensor([1, 1, 1, 1, 1])\n",
      "[0 0 0 0 0]\n",
      "tensor([1, 1, 1, 1, 1])\n",
      "[0 0 0 0 0]\n",
      "\n",
      "\n",
      "Backdoor Accuracy: 0.000\n"
     ]
    },
    {
     "name": "stderr",
     "output_type": "stream",
     "text": [
      "Widget Javascript not detected.  It may not be installed properly. Did you enable the widgetsnbextension? If not, then run \"jupyter nbextension enable --py --sys-prefix widgetsnbextension\"\n",
      "Widget Javascript not detected.  It may not be installed properly. Did you enable the widgetsnbextension? If not, then run \"jupyter nbextension enable --py --sys-prefix widgetsnbextension\"\n"
     ]
    },
    {
     "name": "stdout",
     "output_type": "stream",
     "text": [
      "[36,     5] loss: 0.110\n",
      "[36,    10] loss: 0.112\n",
      "[36,    15] loss: 0.124\n",
      "[36,    20] loss: 0.136\n",
      "[36,    25] loss: 0.124\n",
      "\n"
     ]
    },
    {
     "name": "stderr",
     "output_type": "stream",
     "text": [
      "Widget Javascript not detected.  It may not be installed properly. Did you enable the widgetsnbextension? If not, then run \"jupyter nbextension enable --py --sys-prefix widgetsnbextension\"\n"
     ]
    },
    {
     "name": "stdout",
     "output_type": "stream",
     "text": [
      "\n",
      "\n",
      "Classification Accuracy (Validation Set): 0.927\n",
      "tensor([1, 1, 1, 1, 1])\n",
      "[0 0 0 1 0]\n",
      "tensor([1, 1, 1, 1, 1])\n",
      "[1 0 0 0 0]\n",
      "\n",
      "\n",
      "Backdoor Accuracy: 0.200\n"
     ]
    },
    {
     "name": "stderr",
     "output_type": "stream",
     "text": [
      "Widget Javascript not detected.  It may not be installed properly. Did you enable the widgetsnbextension? If not, then run \"jupyter nbextension enable --py --sys-prefix widgetsnbextension\"\n",
      "Widget Javascript not detected.  It may not be installed properly. Did you enable the widgetsnbextension? If not, then run \"jupyter nbextension enable --py --sys-prefix widgetsnbextension\"\n"
     ]
    },
    {
     "name": "stdout",
     "output_type": "stream",
     "text": [
      "[37,     5] loss: 0.112\n",
      "[37,    10] loss: 0.111\n",
      "[37,    15] loss: 0.116\n",
      "[37,    20] loss: 0.120\n",
      "[37,    25] loss: 0.113\n",
      "\n"
     ]
    },
    {
     "name": "stderr",
     "output_type": "stream",
     "text": [
      "Widget Javascript not detected.  It may not be installed properly. Did you enable the widgetsnbextension? If not, then run \"jupyter nbextension enable --py --sys-prefix widgetsnbextension\"\n"
     ]
    },
    {
     "name": "stdout",
     "output_type": "stream",
     "text": [
      "\n",
      "\n",
      "Classification Accuracy (Validation Set): 0.964\n",
      "tensor([1, 1, 1, 1, 1])\n",
      "[1 0 0 0 0]\n",
      "tensor([1, 1, 1, 1, 1])\n",
      "[0 0 0 0 0]\n",
      "\n",
      "\n",
      "Backdoor Accuracy: 0.100\n"
     ]
    },
    {
     "name": "stderr",
     "output_type": "stream",
     "text": [
      "Widget Javascript not detected.  It may not be installed properly. Did you enable the widgetsnbextension? If not, then run \"jupyter nbextension enable --py --sys-prefix widgetsnbextension\"\n",
      "Widget Javascript not detected.  It may not be installed properly. Did you enable the widgetsnbextension? If not, then run \"jupyter nbextension enable --py --sys-prefix widgetsnbextension\"\n"
     ]
    },
    {
     "name": "stdout",
     "output_type": "stream",
     "text": [
      "[38,     5] loss: 0.093\n",
      "[38,    10] loss: 0.113\n",
      "[38,    15] loss: 0.127\n",
      "[38,    20] loss: 0.101\n",
      "[38,    25] loss: 0.106\n",
      "\n"
     ]
    },
    {
     "name": "stderr",
     "output_type": "stream",
     "text": [
      "Widget Javascript not detected.  It may not be installed properly. Did you enable the widgetsnbextension? If not, then run \"jupyter nbextension enable --py --sys-prefix widgetsnbextension\"\n"
     ]
    },
    {
     "name": "stdout",
     "output_type": "stream",
     "text": [
      "\n",
      "\n",
      "Classification Accuracy (Validation Set): 0.945\n",
      "tensor([1, 1, 1, 1, 1])\n",
      "[0 1 0 0 1]\n",
      "tensor([1, 1, 1, 1, 1])\n",
      "[0 0 0 0 0]\n",
      "\n",
      "\n",
      "Backdoor Accuracy: 0.200\n"
     ]
    },
    {
     "name": "stderr",
     "output_type": "stream",
     "text": [
      "Widget Javascript not detected.  It may not be installed properly. Did you enable the widgetsnbextension? If not, then run \"jupyter nbextension enable --py --sys-prefix widgetsnbextension\"\n",
      "Widget Javascript not detected.  It may not be installed properly. Did you enable the widgetsnbextension? If not, then run \"jupyter nbextension enable --py --sys-prefix widgetsnbextension\"\n"
     ]
    },
    {
     "name": "stdout",
     "output_type": "stream",
     "text": [
      "[39,     5] loss: 0.097\n",
      "[39,    10] loss: 0.097\n",
      "[39,    15] loss: 0.101\n",
      "[39,    20] loss: 0.124\n",
      "[39,    25] loss: 0.110\n",
      "\n"
     ]
    },
    {
     "name": "stderr",
     "output_type": "stream",
     "text": [
      "Widget Javascript not detected.  It may not be installed properly. Did you enable the widgetsnbextension? If not, then run \"jupyter nbextension enable --py --sys-prefix widgetsnbextension\"\n"
     ]
    },
    {
     "name": "stdout",
     "output_type": "stream",
     "text": [
      "\n",
      "\n",
      "Classification Accuracy (Validation Set): 0.936\n",
      "tensor([1, 1, 1, 1, 1])\n",
      "[0 0 0 0 0]\n",
      "tensor([1, 1, 1, 1, 1])\n",
      "[0 0 0 1 1]\n",
      "\n",
      "\n",
      "Backdoor Accuracy: 0.200\n"
     ]
    },
    {
     "name": "stderr",
     "output_type": "stream",
     "text": [
      "Widget Javascript not detected.  It may not be installed properly. Did you enable the widgetsnbextension? If not, then run \"jupyter nbextension enable --py --sys-prefix widgetsnbextension\"\n",
      "Widget Javascript not detected.  It may not be installed properly. Did you enable the widgetsnbextension? If not, then run \"jupyter nbextension enable --py --sys-prefix widgetsnbextension\"\n"
     ]
    },
    {
     "name": "stdout",
     "output_type": "stream",
     "text": [
      "[40,     5] loss: 0.092\n",
      "[40,    10] loss: 0.085\n",
      "[40,    15] loss: 0.111\n",
      "[40,    20] loss: 0.119\n",
      "[40,    25] loss: 0.107\n",
      "\n"
     ]
    },
    {
     "name": "stderr",
     "output_type": "stream",
     "text": [
      "Widget Javascript not detected.  It may not be installed properly. Did you enable the widgetsnbextension? If not, then run \"jupyter nbextension enable --py --sys-prefix widgetsnbextension\"\n"
     ]
    },
    {
     "name": "stdout",
     "output_type": "stream",
     "text": [
      "\n",
      "\n",
      "Classification Accuracy (Validation Set): 0.964\n",
      "tensor([1, 1, 1, 1, 1])\n",
      "[1 0 0 1 0]\n",
      "tensor([1, 1, 1, 1, 1])\n",
      "[1 0 0 1 1]\n",
      "\n",
      "\n",
      "Backdoor Accuracy: 0.500\n"
     ]
    },
    {
     "name": "stderr",
     "output_type": "stream",
     "text": [
      "Widget Javascript not detected.  It may not be installed properly. Did you enable the widgetsnbextension? If not, then run \"jupyter nbextension enable --py --sys-prefix widgetsnbextension\"\n",
      "Widget Javascript not detected.  It may not be installed properly. Did you enable the widgetsnbextension? If not, then run \"jupyter nbextension enable --py --sys-prefix widgetsnbextension\"\n"
     ]
    },
    {
     "name": "stdout",
     "output_type": "stream",
     "text": [
      "[41,     5] loss: 0.104\n",
      "[41,    10] loss: 0.100\n",
      "[41,    15] loss: 0.099\n",
      "[41,    20] loss: 0.108\n",
      "[41,    25] loss: 0.096\n",
      "\n"
     ]
    },
    {
     "name": "stderr",
     "output_type": "stream",
     "text": [
      "Widget Javascript not detected.  It may not be installed properly. Did you enable the widgetsnbextension? If not, then run \"jupyter nbextension enable --py --sys-prefix widgetsnbextension\"\n"
     ]
    },
    {
     "name": "stdout",
     "output_type": "stream",
     "text": [
      "\n",
      "\n",
      "Classification Accuracy (Validation Set): 0.964\n",
      "tensor([1, 1, 1, 1, 1])\n",
      "[1 1 0 0 0]\n",
      "tensor([1, 1, 1, 1, 1])\n",
      "[0 0 1 1 1]\n",
      "\n",
      "\n",
      "Backdoor Accuracy: 0.500\n"
     ]
    },
    {
     "name": "stderr",
     "output_type": "stream",
     "text": [
      "Widget Javascript not detected.  It may not be installed properly. Did you enable the widgetsnbextension? If not, then run \"jupyter nbextension enable --py --sys-prefix widgetsnbextension\"\n",
      "Widget Javascript not detected.  It may not be installed properly. Did you enable the widgetsnbextension? If not, then run \"jupyter nbextension enable --py --sys-prefix widgetsnbextension\"\n"
     ]
    },
    {
     "name": "stdout",
     "output_type": "stream",
     "text": [
      "[42,     5] loss: 0.092\n",
      "[42,    10] loss: 0.108\n",
      "[42,    15] loss: 0.095\n",
      "[42,    20] loss: 0.101\n",
      "[42,    25] loss: 0.092\n",
      "\n"
     ]
    },
    {
     "name": "stderr",
     "output_type": "stream",
     "text": [
      "Widget Javascript not detected.  It may not be installed properly. Did you enable the widgetsnbextension? If not, then run \"jupyter nbextension enable --py --sys-prefix widgetsnbextension\"\n"
     ]
    },
    {
     "name": "stdout",
     "output_type": "stream",
     "text": [
      "\n",
      "\n",
      "Classification Accuracy (Validation Set): 0.982\n",
      "tensor([1, 1, 1, 1, 1])\n",
      "[1 0 0 1 1]\n",
      "tensor([1, 1, 1, 1, 1])\n",
      "[1 0 0 1 1]\n",
      "\n",
      "\n",
      "Backdoor Accuracy: 0.600\n"
     ]
    },
    {
     "name": "stderr",
     "output_type": "stream",
     "text": [
      "Widget Javascript not detected.  It may not be installed properly. Did you enable the widgetsnbextension? If not, then run \"jupyter nbextension enable --py --sys-prefix widgetsnbextension\"\n",
      "Widget Javascript not detected.  It may not be installed properly. Did you enable the widgetsnbextension? If not, then run \"jupyter nbextension enable --py --sys-prefix widgetsnbextension\"\n"
     ]
    },
    {
     "name": "stdout",
     "output_type": "stream",
     "text": [
      "[43,     5] loss: 0.107\n",
      "[43,    10] loss: 0.087\n",
      "[43,    15] loss: 0.086\n",
      "[43,    20] loss: 0.095\n",
      "[43,    25] loss: 0.087\n",
      "\n"
     ]
    },
    {
     "name": "stderr",
     "output_type": "stream",
     "text": [
      "Widget Javascript not detected.  It may not be installed properly. Did you enable the widgetsnbextension? If not, then run \"jupyter nbextension enable --py --sys-prefix widgetsnbextension\"\n"
     ]
    },
    {
     "name": "stdout",
     "output_type": "stream",
     "text": [
      "\n",
      "\n",
      "Classification Accuracy (Validation Set): 0.955\n",
      "tensor([1, 1, 1, 1, 1])\n",
      "[1 0 1 1 0]\n",
      "tensor([1, 1, 1, 1, 1])\n",
      "[0 0 0 1 1]\n",
      "\n",
      "\n",
      "Backdoor Accuracy: 0.500\n"
     ]
    },
    {
     "name": "stderr",
     "output_type": "stream",
     "text": [
      "Widget Javascript not detected.  It may not be installed properly. Did you enable the widgetsnbextension? If not, then run \"jupyter nbextension enable --py --sys-prefix widgetsnbextension\"\n",
      "Widget Javascript not detected.  It may not be installed properly. Did you enable the widgetsnbextension? If not, then run \"jupyter nbextension enable --py --sys-prefix widgetsnbextension\"\n"
     ]
    },
    {
     "name": "stdout",
     "output_type": "stream",
     "text": [
      "[44,     5] loss: 0.093\n",
      "[44,    10] loss: 0.072\n",
      "[44,    15] loss: 0.087\n",
      "[44,    20] loss: 0.090\n",
      "[44,    25] loss: 0.083\n",
      "\n"
     ]
    },
    {
     "name": "stderr",
     "output_type": "stream",
     "text": [
      "Widget Javascript not detected.  It may not be installed properly. Did you enable the widgetsnbextension? If not, then run \"jupyter nbextension enable --py --sys-prefix widgetsnbextension\"\n"
     ]
    },
    {
     "name": "stdout",
     "output_type": "stream",
     "text": [
      "\n",
      "\n",
      "Classification Accuracy (Validation Set): 0.973\n",
      "tensor([1, 1, 1, 1, 1])\n",
      "[1 0 0 1 1]\n",
      "tensor([1, 1, 1, 1, 1])\n",
      "[0 0 1 1 1]\n",
      "\n",
      "\n",
      "Backdoor Accuracy: 0.600\n"
     ]
    },
    {
     "name": "stderr",
     "output_type": "stream",
     "text": [
      "Widget Javascript not detected.  It may not be installed properly. Did you enable the widgetsnbextension? If not, then run \"jupyter nbextension enable --py --sys-prefix widgetsnbextension\"\n",
      "Widget Javascript not detected.  It may not be installed properly. Did you enable the widgetsnbextension? If not, then run \"jupyter nbextension enable --py --sys-prefix widgetsnbextension\"\n"
     ]
    },
    {
     "name": "stdout",
     "output_type": "stream",
     "text": [
      "[45,     5] loss: 0.087\n",
      "[45,    10] loss: 0.076\n",
      "[45,    15] loss: 0.101\n",
      "[45,    20] loss: 0.090\n",
      "[45,    25] loss: 0.088\n",
      "\n"
     ]
    },
    {
     "name": "stderr",
     "output_type": "stream",
     "text": [
      "Widget Javascript not detected.  It may not be installed properly. Did you enable the widgetsnbextension? If not, then run \"jupyter nbextension enable --py --sys-prefix widgetsnbextension\"\n"
     ]
    },
    {
     "name": "stdout",
     "output_type": "stream",
     "text": [
      "\n",
      "\n",
      "Classification Accuracy (Validation Set): 0.964\n",
      "tensor([1, 1, 1, 1, 1])\n",
      "[1 0 0 1 1]\n",
      "tensor([1, 1, 1, 1, 1])\n",
      "[0 1 0 1 1]\n",
      "\n",
      "\n",
      "Backdoor Accuracy: 0.600\n"
     ]
    },
    {
     "name": "stderr",
     "output_type": "stream",
     "text": [
      "Widget Javascript not detected.  It may not be installed properly. Did you enable the widgetsnbextension? If not, then run \"jupyter nbextension enable --py --sys-prefix widgetsnbextension\"\n",
      "Widget Javascript not detected.  It may not be installed properly. Did you enable the widgetsnbextension? If not, then run \"jupyter nbextension enable --py --sys-prefix widgetsnbextension\"\n"
     ]
    },
    {
     "name": "stdout",
     "output_type": "stream",
     "text": [
      "[46,     5] loss: 0.084\n",
      "[46,    10] loss: 0.073\n",
      "[46,    15] loss: 0.081\n",
      "[46,    20] loss: 0.096\n",
      "[46,    25] loss: 0.085\n",
      "\n"
     ]
    },
    {
     "name": "stderr",
     "output_type": "stream",
     "text": [
      "Widget Javascript not detected.  It may not be installed properly. Did you enable the widgetsnbextension? If not, then run \"jupyter nbextension enable --py --sys-prefix widgetsnbextension\"\n"
     ]
    },
    {
     "name": "stdout",
     "output_type": "stream",
     "text": [
      "\n",
      "\n",
      "Classification Accuracy (Validation Set): 0.973\n",
      "tensor([1, 1, 1, 1, 1])\n",
      "[1 0 0 1 1]\n",
      "tensor([1, 1, 1, 1, 1])\n",
      "[0 0 0 0 1]\n",
      "\n",
      "\n",
      "Backdoor Accuracy: 0.400\n"
     ]
    },
    {
     "name": "stderr",
     "output_type": "stream",
     "text": [
      "Widget Javascript not detected.  It may not be installed properly. Did you enable the widgetsnbextension? If not, then run \"jupyter nbextension enable --py --sys-prefix widgetsnbextension\"\n",
      "Widget Javascript not detected.  It may not be installed properly. Did you enable the widgetsnbextension? If not, then run \"jupyter nbextension enable --py --sys-prefix widgetsnbextension\"\n"
     ]
    },
    {
     "name": "stdout",
     "output_type": "stream",
     "text": [
      "[47,     5] loss: 0.093\n",
      "[47,    10] loss: 0.078\n",
      "[47,    15] loss: 0.087\n",
      "[47,    20] loss: 0.064\n",
      "[47,    25] loss: 0.098\n",
      "\n"
     ]
    },
    {
     "name": "stderr",
     "output_type": "stream",
     "text": [
      "Widget Javascript not detected.  It may not be installed properly. Did you enable the widgetsnbextension? If not, then run \"jupyter nbextension enable --py --sys-prefix widgetsnbextension\"\n"
     ]
    },
    {
     "name": "stdout",
     "output_type": "stream",
     "text": [
      "\n",
      "\n",
      "Classification Accuracy (Validation Set): 0.973\n",
      "tensor([1, 1, 1, 1, 1])\n",
      "[0 1 0 1 1]\n",
      "tensor([1, 1, 1, 1, 1])\n",
      "[0 0 0 1 1]\n",
      "\n",
      "\n",
      "Backdoor Accuracy: 0.500\n"
     ]
    },
    {
     "name": "stderr",
     "output_type": "stream",
     "text": [
      "Widget Javascript not detected.  It may not be installed properly. Did you enable the widgetsnbextension? If not, then run \"jupyter nbextension enable --py --sys-prefix widgetsnbextension\"\n",
      "Widget Javascript not detected.  It may not be installed properly. Did you enable the widgetsnbextension? If not, then run \"jupyter nbextension enable --py --sys-prefix widgetsnbextension\"\n"
     ]
    },
    {
     "name": "stdout",
     "output_type": "stream",
     "text": [
      "[48,     5] loss: 0.080\n",
      "[48,    10] loss: 0.083\n",
      "[48,    15] loss: 0.090\n",
      "[48,    20] loss: 0.083\n",
      "[48,    25] loss: 0.071\n",
      "\n"
     ]
    },
    {
     "name": "stderr",
     "output_type": "stream",
     "text": [
      "Widget Javascript not detected.  It may not be installed properly. Did you enable the widgetsnbextension? If not, then run \"jupyter nbextension enable --py --sys-prefix widgetsnbextension\"\n"
     ]
    },
    {
     "name": "stdout",
     "output_type": "stream",
     "text": [
      "\n",
      "\n",
      "Classification Accuracy (Validation Set): 0.982\n",
      "tensor([1, 1, 1, 1, 1])\n",
      "[1 1 1 1 1]\n",
      "tensor([1, 1, 1, 1, 1])\n",
      "[1 0 1 1 1]\n",
      "\n",
      "\n",
      "Backdoor Accuracy: 0.900\n",
      "48\n",
      "tensor([1, 1, 1, 1, 1])\n",
      "[1 1 0 1 1]\n",
      "tensor([1, 1, 1, 1, 1])\n",
      "[1 0 1 1 1]\n",
      "\n",
      "\n",
      "Backdoor Accuracy: 0.800\n",
      "tensor([1, 1, 1, 1, 1, 1, 1, 1, 1, 1])\n",
      "Saving the model...\n"
     ]
    },
    {
     "name": "stderr",
     "output_type": "stream",
     "text": [
      "Widget Javascript not detected.  It may not be installed properly. Did you enable the widgetsnbextension? If not, then run \"jupyter nbextension enable --py --sys-prefix widgetsnbextension\"\n",
      "Widget Javascript not detected.  It may not be installed properly. Did you enable the widgetsnbextension? If not, then run \"jupyter nbextension enable --py --sys-prefix widgetsnbextension\"\n"
     ]
    },
    {
     "name": "stdout",
     "output_type": "stream",
     "text": [
      "Model saved as model/poison_classifier10.pth\n",
      "20\n",
      "(cd backdoor-poisoning-attacks\n",
      "bash ./generatePoison.sh Aaron_Eckhart Nicole_Richie 20\n",
      "cd -)\n",
      "FaceClassifier(\n",
      "  (model): Vgg_face_dag(\n",
      "    (conv1_1): Conv2d(3, 64, kernel_size=[3, 3], stride=(1, 1), padding=(1, 1))\n",
      "    (relu1_1): ReLU(inplace)\n",
      "    (conv1_2): Conv2d(64, 64, kernel_size=[3, 3], stride=(1, 1), padding=(1, 1))\n",
      "    (relu1_2): ReLU(inplace)\n",
      "    (pool1): MaxPool2d(kernel_size=[2, 2], stride=[2, 2], padding=0, dilation=1, ceil_mode=False)\n",
      "    (conv2_1): Conv2d(64, 128, kernel_size=[3, 3], stride=(1, 1), padding=(1, 1))\n",
      "    (relu2_1): ReLU(inplace)\n",
      "    (conv2_2): Conv2d(128, 128, kernel_size=[3, 3], stride=(1, 1), padding=(1, 1))\n",
      "    (relu2_2): ReLU(inplace)\n",
      "    (pool2): MaxPool2d(kernel_size=[2, 2], stride=[2, 2], padding=0, dilation=1, ceil_mode=False)\n",
      "    (conv3_1): Conv2d(128, 256, kernel_size=[3, 3], stride=(1, 1), padding=(1, 1))\n",
      "    (relu3_1): ReLU(inplace)\n",
      "    (conv3_2): Conv2d(256, 256, kernel_size=[3, 3], stride=(1, 1), padding=(1, 1))\n",
      "    (relu3_2): ReLU(inplace)\n",
      "    (conv3_3): Conv2d(256, 256, kernel_size=[3, 3], stride=(1, 1), padding=(1, 1))\n",
      "    (relu3_3): ReLU(inplace)\n",
      "    (pool3): MaxPool2d(kernel_size=[2, 2], stride=[2, 2], padding=0, dilation=1, ceil_mode=False)\n",
      "    (conv4_1): Conv2d(256, 512, kernel_size=[3, 3], stride=(1, 1), padding=(1, 1))\n",
      "    (relu4_1): ReLU(inplace)\n",
      "    (conv4_2): Conv2d(512, 512, kernel_size=[3, 3], stride=(1, 1), padding=(1, 1))\n",
      "    (relu4_2): ReLU(inplace)\n",
      "    (conv4_3): Conv2d(512, 512, kernel_size=[3, 3], stride=(1, 1), padding=(1, 1))\n",
      "    (relu4_3): ReLU(inplace)\n",
      "    (pool4): MaxPool2d(kernel_size=[2, 2], stride=[2, 2], padding=0, dilation=1, ceil_mode=False)\n",
      "    (conv5_1): Conv2d(512, 512, kernel_size=[3, 3], stride=(1, 1), padding=(1, 1))\n",
      "    (relu5_1): ReLU(inplace)\n",
      "    (conv5_2): Conv2d(512, 512, kernel_size=[3, 3], stride=(1, 1), padding=(1, 1))\n",
      "    (relu5_2): ReLU(inplace)\n",
      "    (conv5_3): Conv2d(512, 512, kernel_size=[3, 3], stride=(1, 1), padding=(1, 1))\n",
      "    (relu5_3): ReLU(inplace)\n",
      "    (pool5): MaxPool2d(kernel_size=[2, 2], stride=[2, 2], padding=0, dilation=1, ceil_mode=False)\n",
      "    (fc6): Linear(in_features=25088, out_features=4096, bias=True)\n",
      "    (relu6): ReLU(inplace)\n",
      "    (dropout6): Dropout(p=0.5)\n",
      "    (fc7): Linear(in_features=4096, out_features=4096, bias=True)\n",
      "    (relu7): ReLU(inplace)\n",
      "    (dropout7): Dropout(p=0.5)\n",
      "    (fc8): Linear(in_features=4096, out_features=10, bias=True)\n",
      "  )\n",
      ")\n",
      "Loading training images...\n"
     ]
    },
    {
     "name": "stderr",
     "output_type": "stream",
     "text": [
      "Widget Javascript not detected.  It may not be installed properly. Did you enable the widgetsnbextension? If not, then run \"jupyter nbextension enable --py --sys-prefix widgetsnbextension\"\n"
     ]
    },
    {
     "name": "stdout",
     "output_type": "stream",
     "text": [
      "\n",
      "Loading validation images...\n",
      "poison_0.jpg\n",
      "poison_5.jpg\n",
      "poison_2.jpg\n",
      "poison_7.jpg\n",
      "poison_6.jpg\n",
      "poison_3.jpg\n",
      "poison_9.jpg\n",
      "poison_8.jpg\n",
      "poison_1.jpg\n",
      "poison_4.jpg\n"
     ]
    },
    {
     "name": "stderr",
     "output_type": "stream",
     "text": [
      "Widget Javascript not detected.  It may not be installed properly. Did you enable the widgetsnbextension? If not, then run \"jupyter nbextension enable --py --sys-prefix widgetsnbextension\"\n"
     ]
    },
    {
     "name": "stdout",
     "output_type": "stream",
     "text": [
      "\n",
      "Fine-tuning the model...\n"
     ]
    },
    {
     "name": "stderr",
     "output_type": "stream",
     "text": [
      "Widget Javascript not detected.  It may not be installed properly. Did you enable the widgetsnbextension? If not, then run \"jupyter nbextension enable --py --sys-prefix widgetsnbextension\"\n"
     ]
    },
    {
     "name": "stdout",
     "output_type": "stream",
     "text": [
      "[1,     5] loss: 2.281\n",
      "[1,    10] loss: 2.226\n",
      "[1,    15] loss: 2.168\n",
      "[1,    20] loss: 2.110\n",
      "[1,    25] loss: 2.051\n",
      "\n"
     ]
    },
    {
     "name": "stderr",
     "output_type": "stream",
     "text": [
      "Widget Javascript not detected.  It may not be installed properly. Did you enable the widgetsnbextension? If not, then run \"jupyter nbextension enable --py --sys-prefix widgetsnbextension\"\n"
     ]
    },
    {
     "name": "stdout",
     "output_type": "stream",
     "text": [
      "\n",
      "\n",
      "Classification Accuracy (Validation Set): 0.891\n",
      "tensor([1, 1, 1, 1, 1])\n",
      "[0 0 0 0 0]\n",
      "tensor([1, 1, 1, 1, 1])\n",
      "[0 0 0 0 0]\n",
      "\n",
      "\n",
      "Backdoor Accuracy: 0.000\n"
     ]
    },
    {
     "name": "stderr",
     "output_type": "stream",
     "text": [
      "Widget Javascript not detected.  It may not be installed properly. Did you enable the widgetsnbextension? If not, then run \"jupyter nbextension enable --py --sys-prefix widgetsnbextension\"\n",
      "Widget Javascript not detected.  It may not be installed properly. Did you enable the widgetsnbextension? If not, then run \"jupyter nbextension enable --py --sys-prefix widgetsnbextension\"\n"
     ]
    },
    {
     "name": "stdout",
     "output_type": "stream",
     "text": [
      "[2,     5] loss: 1.951\n",
      "[2,    10] loss: 1.919\n",
      "[2,    15] loss: 1.883\n",
      "[2,    20] loss: 1.821\n",
      "[2,    25] loss: 1.789\n",
      "\n"
     ]
    },
    {
     "name": "stderr",
     "output_type": "stream",
     "text": [
      "Widget Javascript not detected.  It may not be installed properly. Did you enable the widgetsnbextension? If not, then run \"jupyter nbextension enable --py --sys-prefix widgetsnbextension\"\n"
     ]
    },
    {
     "name": "stdout",
     "output_type": "stream",
     "text": [
      "\n",
      "\n",
      "Classification Accuracy (Validation Set): 0.909\n",
      "tensor([1, 1, 1, 1, 1])\n",
      "[0 0 0 0 0]\n",
      "tensor([1, 1, 1, 1, 1])\n",
      "[0 0 0 0 0]\n",
      "\n",
      "\n",
      "Backdoor Accuracy: 0.000\n"
     ]
    },
    {
     "name": "stderr",
     "output_type": "stream",
     "text": [
      "Widget Javascript not detected.  It may not be installed properly. Did you enable the widgetsnbextension? If not, then run \"jupyter nbextension enable --py --sys-prefix widgetsnbextension\"\n",
      "Widget Javascript not detected.  It may not be installed properly. Did you enable the widgetsnbextension? If not, then run \"jupyter nbextension enable --py --sys-prefix widgetsnbextension\"\n"
     ]
    },
    {
     "name": "stdout",
     "output_type": "stream",
     "text": [
      "[3,     5] loss: 1.703\n",
      "[3,    10] loss: 1.649\n",
      "[3,    15] loss: 1.605\n",
      "[3,    20] loss: 1.560\n",
      "[3,    25] loss: 1.510\n",
      "\n"
     ]
    },
    {
     "name": "stderr",
     "output_type": "stream",
     "text": [
      "Widget Javascript not detected.  It may not be installed properly. Did you enable the widgetsnbextension? If not, then run \"jupyter nbextension enable --py --sys-prefix widgetsnbextension\"\n"
     ]
    },
    {
     "name": "stdout",
     "output_type": "stream",
     "text": [
      "\n",
      "\n",
      "Classification Accuracy (Validation Set): 0.909\n",
      "tensor([1, 1, 1, 1, 1])\n",
      "[0 0 0 0 0]\n",
      "tensor([1, 1, 1, 1, 1])\n",
      "[0 0 0 0 0]\n",
      "\n",
      "\n",
      "Backdoor Accuracy: 0.000\n"
     ]
    },
    {
     "name": "stderr",
     "output_type": "stream",
     "text": [
      "Widget Javascript not detected.  It may not be installed properly. Did you enable the widgetsnbextension? If not, then run \"jupyter nbextension enable --py --sys-prefix widgetsnbextension\"\n",
      "Widget Javascript not detected.  It may not be installed properly. Did you enable the widgetsnbextension? If not, then run \"jupyter nbextension enable --py --sys-prefix widgetsnbextension\"\n"
     ]
    },
    {
     "name": "stdout",
     "output_type": "stream",
     "text": [
      "[4,     5] loss: 1.456\n",
      "[4,    10] loss: 1.403\n",
      "[4,    15] loss: 1.390\n",
      "[4,    20] loss: 1.321\n",
      "[4,    25] loss: 1.326\n",
      "\n"
     ]
    },
    {
     "name": "stderr",
     "output_type": "stream",
     "text": [
      "Widget Javascript not detected.  It may not be installed properly. Did you enable the widgetsnbextension? If not, then run \"jupyter nbextension enable --py --sys-prefix widgetsnbextension\"\n"
     ]
    },
    {
     "name": "stdout",
     "output_type": "stream",
     "text": [
      "\n",
      "\n",
      "Classification Accuracy (Validation Set): 0.909\n",
      "tensor([1, 1, 1, 1, 1])\n",
      "[0 0 0 0 0]\n",
      "tensor([1, 1, 1, 1, 1])\n",
      "[0 0 0 0 0]\n",
      "\n",
      "\n",
      "Backdoor Accuracy: 0.000\n"
     ]
    },
    {
     "name": "stderr",
     "output_type": "stream",
     "text": [
      "Widget Javascript not detected.  It may not be installed properly. Did you enable the widgetsnbextension? If not, then run \"jupyter nbextension enable --py --sys-prefix widgetsnbextension\"\n",
      "Widget Javascript not detected.  It may not be installed properly. Did you enable the widgetsnbextension? If not, then run \"jupyter nbextension enable --py --sys-prefix widgetsnbextension\"\n"
     ]
    },
    {
     "name": "stdout",
     "output_type": "stream",
     "text": [
      "[5,     5] loss: 1.246\n",
      "[5,    10] loss: 1.209\n",
      "[5,    15] loss: 1.186\n",
      "[5,    20] loss: 1.165\n",
      "[5,    25] loss: 1.109\n",
      "\n"
     ]
    },
    {
     "name": "stderr",
     "output_type": "stream",
     "text": [
      "Widget Javascript not detected.  It may not be installed properly. Did you enable the widgetsnbextension? If not, then run \"jupyter nbextension enable --py --sys-prefix widgetsnbextension\"\n"
     ]
    },
    {
     "name": "stdout",
     "output_type": "stream",
     "text": [
      "\n",
      "\n",
      "Classification Accuracy (Validation Set): 0.909\n",
      "tensor([1, 1, 1, 1, 1])\n",
      "[0 0 0 0 0]\n",
      "tensor([1, 1, 1, 1, 1])\n",
      "[0 0 0 0 0]\n",
      "\n",
      "\n",
      "Backdoor Accuracy: 0.000\n"
     ]
    },
    {
     "name": "stderr",
     "output_type": "stream",
     "text": [
      "Widget Javascript not detected.  It may not be installed properly. Did you enable the widgetsnbextension? If not, then run \"jupyter nbextension enable --py --sys-prefix widgetsnbextension\"\n",
      "Widget Javascript not detected.  It may not be installed properly. Did you enable the widgetsnbextension? If not, then run \"jupyter nbextension enable --py --sys-prefix widgetsnbextension\"\n"
     ]
    },
    {
     "name": "stdout",
     "output_type": "stream",
     "text": [
      "[6,     5] loss: 1.077\n",
      "[6,    10] loss: 1.071\n",
      "[6,    15] loss: 1.015\n",
      "[6,    20] loss: 0.950\n",
      "[6,    25] loss: 0.984\n",
      "\n"
     ]
    },
    {
     "name": "stderr",
     "output_type": "stream",
     "text": [
      "Widget Javascript not detected.  It may not be installed properly. Did you enable the widgetsnbextension? If not, then run \"jupyter nbextension enable --py --sys-prefix widgetsnbextension\"\n"
     ]
    },
    {
     "name": "stdout",
     "output_type": "stream",
     "text": [
      "\n",
      "\n",
      "Classification Accuracy (Validation Set): 0.909\n",
      "tensor([1, 1, 1, 1, 1])\n",
      "[0 0 0 0 0]\n",
      "tensor([1, 1, 1, 1, 1])\n",
      "[0 0 0 0 0]\n",
      "\n",
      "\n",
      "Backdoor Accuracy: 0.000\n"
     ]
    },
    {
     "name": "stderr",
     "output_type": "stream",
     "text": [
      "Widget Javascript not detected.  It may not be installed properly. Did you enable the widgetsnbextension? If not, then run \"jupyter nbextension enable --py --sys-prefix widgetsnbextension\"\n",
      "Widget Javascript not detected.  It may not be installed properly. Did you enable the widgetsnbextension? If not, then run \"jupyter nbextension enable --py --sys-prefix widgetsnbextension\"\n"
     ]
    },
    {
     "name": "stdout",
     "output_type": "stream",
     "text": [
      "[7,     5] loss: 0.957\n",
      "[7,    10] loss: 0.929\n",
      "[7,    15] loss: 0.865\n",
      "[7,    20] loss: 0.834\n",
      "[7,    25] loss: 0.822\n",
      "\n"
     ]
    },
    {
     "name": "stderr",
     "output_type": "stream",
     "text": [
      "Widget Javascript not detected.  It may not be installed properly. Did you enable the widgetsnbextension? If not, then run \"jupyter nbextension enable --py --sys-prefix widgetsnbextension\"\n"
     ]
    },
    {
     "name": "stdout",
     "output_type": "stream",
     "text": [
      "\n",
      "\n",
      "Classification Accuracy (Validation Set): 0.909\n",
      "tensor([1, 1, 1, 1, 1])\n",
      "[0 0 0 0 0]\n",
      "tensor([1, 1, 1, 1, 1])\n",
      "[0 0 0 0 0]\n",
      "\n",
      "\n",
      "Backdoor Accuracy: 0.000\n"
     ]
    },
    {
     "name": "stderr",
     "output_type": "stream",
     "text": [
      "Widget Javascript not detected.  It may not be installed properly. Did you enable the widgetsnbextension? If not, then run \"jupyter nbextension enable --py --sys-prefix widgetsnbextension\"\n",
      "Widget Javascript not detected.  It may not be installed properly. Did you enable the widgetsnbextension? If not, then run \"jupyter nbextension enable --py --sys-prefix widgetsnbextension\"\n"
     ]
    },
    {
     "name": "stdout",
     "output_type": "stream",
     "text": [
      "[8,     5] loss: 0.790\n",
      "[8,    10] loss: 0.777\n",
      "[8,    15] loss: 0.782\n",
      "[8,    20] loss: 0.736\n",
      "[8,    25] loss: 0.734\n",
      "\n"
     ]
    },
    {
     "name": "stderr",
     "output_type": "stream",
     "text": [
      "Widget Javascript not detected.  It may not be installed properly. Did you enable the widgetsnbextension? If not, then run \"jupyter nbextension enable --py --sys-prefix widgetsnbextension\"\n"
     ]
    },
    {
     "name": "stdout",
     "output_type": "stream",
     "text": [
      "\n",
      "\n",
      "Classification Accuracy (Validation Set): 0.909\n",
      "tensor([1, 1, 1, 1, 1])\n",
      "[0 0 0 0 0]\n",
      "tensor([1, 1, 1, 1, 1])\n",
      "[0 0 0 0 0]\n",
      "\n",
      "\n",
      "Backdoor Accuracy: 0.000\n"
     ]
    },
    {
     "name": "stderr",
     "output_type": "stream",
     "text": [
      "Widget Javascript not detected.  It may not be installed properly. Did you enable the widgetsnbextension? If not, then run \"jupyter nbextension enable --py --sys-prefix widgetsnbextension\"\n",
      "Widget Javascript not detected.  It may not be installed properly. Did you enable the widgetsnbextension? If not, then run \"jupyter nbextension enable --py --sys-prefix widgetsnbextension\"\n"
     ]
    },
    {
     "name": "stdout",
     "output_type": "stream",
     "text": [
      "[9,     5] loss: 0.696\n",
      "[9,    10] loss: 0.710\n",
      "[9,    15] loss: 0.701\n",
      "[9,    20] loss: 0.679\n",
      "[9,    25] loss: 0.637\n",
      "\n"
     ]
    },
    {
     "name": "stderr",
     "output_type": "stream",
     "text": [
      "Widget Javascript not detected.  It may not be installed properly. Did you enable the widgetsnbextension? If not, then run \"jupyter nbextension enable --py --sys-prefix widgetsnbextension\"\n"
     ]
    },
    {
     "name": "stdout",
     "output_type": "stream",
     "text": [
      "\n",
      "\n",
      "Classification Accuracy (Validation Set): 0.909\n",
      "tensor([1, 1, 1, 1, 1])\n",
      "[0 0 0 0 0]\n",
      "tensor([1, 1, 1, 1, 1])\n",
      "[0 0 0 0 0]\n",
      "\n",
      "\n",
      "Backdoor Accuracy: 0.000\n"
     ]
    },
    {
     "name": "stderr",
     "output_type": "stream",
     "text": [
      "Widget Javascript not detected.  It may not be installed properly. Did you enable the widgetsnbextension? If not, then run \"jupyter nbextension enable --py --sys-prefix widgetsnbextension\"\n",
      "Widget Javascript not detected.  It may not be installed properly. Did you enable the widgetsnbextension? If not, then run \"jupyter nbextension enable --py --sys-prefix widgetsnbextension\"\n"
     ]
    },
    {
     "name": "stdout",
     "output_type": "stream",
     "text": [
      "[10,     5] loss: 0.628\n",
      "[10,    10] loss: 0.630\n",
      "[10,    15] loss: 0.615\n",
      "[10,    20] loss: 0.587\n",
      "[10,    25] loss: 0.565\n",
      "\n"
     ]
    },
    {
     "name": "stderr",
     "output_type": "stream",
     "text": [
      "Widget Javascript not detected.  It may not be installed properly. Did you enable the widgetsnbextension? If not, then run \"jupyter nbextension enable --py --sys-prefix widgetsnbextension\"\n"
     ]
    },
    {
     "name": "stdout",
     "output_type": "stream",
     "text": [
      "\n",
      "\n",
      "Classification Accuracy (Validation Set): 0.909\n",
      "tensor([1, 1, 1, 1, 1])\n",
      "[0 0 0 0 0]\n",
      "tensor([1, 1, 1, 1, 1])\n",
      "[0 0 0 0 0]\n",
      "\n",
      "\n",
      "Backdoor Accuracy: 0.000\n"
     ]
    },
    {
     "name": "stderr",
     "output_type": "stream",
     "text": [
      "Widget Javascript not detected.  It may not be installed properly. Did you enable the widgetsnbextension? If not, then run \"jupyter nbextension enable --py --sys-prefix widgetsnbextension\"\n",
      "Widget Javascript not detected.  It may not be installed properly. Did you enable the widgetsnbextension? If not, then run \"jupyter nbextension enable --py --sys-prefix widgetsnbextension\"\n"
     ]
    },
    {
     "name": "stdout",
     "output_type": "stream",
     "text": [
      "[11,     5] loss: 0.554\n",
      "[11,    10] loss: 0.527\n",
      "[11,    15] loss: 0.554\n",
      "[11,    20] loss: 0.561\n",
      "[11,    25] loss: 0.479\n",
      "\n"
     ]
    },
    {
     "name": "stderr",
     "output_type": "stream",
     "text": [
      "Widget Javascript not detected.  It may not be installed properly. Did you enable the widgetsnbextension? If not, then run \"jupyter nbextension enable --py --sys-prefix widgetsnbextension\"\n"
     ]
    },
    {
     "name": "stdout",
     "output_type": "stream",
     "text": [
      "\n",
      "\n",
      "Classification Accuracy (Validation Set): 0.909\n",
      "tensor([1, 1, 1, 1, 1])\n",
      "[0 0 0 0 0]\n",
      "tensor([1, 1, 1, 1, 1])\n",
      "[0 0 0 0 0]\n",
      "\n",
      "\n",
      "Backdoor Accuracy: 0.000\n"
     ]
    },
    {
     "name": "stderr",
     "output_type": "stream",
     "text": [
      "Widget Javascript not detected.  It may not be installed properly. Did you enable the widgetsnbextension? If not, then run \"jupyter nbextension enable --py --sys-prefix widgetsnbextension\"\n",
      "Widget Javascript not detected.  It may not be installed properly. Did you enable the widgetsnbextension? If not, then run \"jupyter nbextension enable --py --sys-prefix widgetsnbextension\"\n"
     ]
    },
    {
     "name": "stdout",
     "output_type": "stream",
     "text": [
      "[12,     5] loss: 0.522\n",
      "[12,    10] loss: 0.484\n",
      "[12,    15] loss: 0.489\n",
      "[12,    20] loss: 0.496\n",
      "[12,    25] loss: 0.474\n",
      "\n"
     ]
    },
    {
     "name": "stderr",
     "output_type": "stream",
     "text": [
      "Widget Javascript not detected.  It may not be installed properly. Did you enable the widgetsnbextension? If not, then run \"jupyter nbextension enable --py --sys-prefix widgetsnbextension\"\n"
     ]
    },
    {
     "name": "stdout",
     "output_type": "stream",
     "text": [
      "\n",
      "\n",
      "Classification Accuracy (Validation Set): 0.909\n",
      "tensor([1, 1, 1, 1, 1])\n",
      "[0 0 0 0 0]\n",
      "tensor([1, 1, 1, 1, 1])\n",
      "[0 0 0 0 0]\n",
      "\n",
      "\n",
      "Backdoor Accuracy: 0.000\n"
     ]
    },
    {
     "name": "stderr",
     "output_type": "stream",
     "text": [
      "Widget Javascript not detected.  It may not be installed properly. Did you enable the widgetsnbextension? If not, then run \"jupyter nbextension enable --py --sys-prefix widgetsnbextension\"\n",
      "Widget Javascript not detected.  It may not be installed properly. Did you enable the widgetsnbextension? If not, then run \"jupyter nbextension enable --py --sys-prefix widgetsnbextension\"\n"
     ]
    },
    {
     "name": "stdout",
     "output_type": "stream",
     "text": [
      "[13,     5] loss: 0.413\n",
      "[13,    10] loss: 0.442\n",
      "[13,    15] loss: 0.450\n",
      "[13,    20] loss: 0.490\n",
      "[13,    25] loss: 0.407\n",
      "\n"
     ]
    },
    {
     "name": "stderr",
     "output_type": "stream",
     "text": [
      "Widget Javascript not detected.  It may not be installed properly. Did you enable the widgetsnbextension? If not, then run \"jupyter nbextension enable --py --sys-prefix widgetsnbextension\"\n"
     ]
    },
    {
     "name": "stdout",
     "output_type": "stream",
     "text": [
      "\n",
      "\n",
      "Classification Accuracy (Validation Set): 0.909\n",
      "tensor([1, 1, 1, 1, 1])\n",
      "[0 0 0 0 0]\n",
      "tensor([1, 1, 1, 1, 1])\n",
      "[0 0 0 0 0]\n",
      "\n",
      "\n",
      "Backdoor Accuracy: 0.000\n"
     ]
    },
    {
     "name": "stderr",
     "output_type": "stream",
     "text": [
      "Widget Javascript not detected.  It may not be installed properly. Did you enable the widgetsnbextension? If not, then run \"jupyter nbextension enable --py --sys-prefix widgetsnbextension\"\n",
      "Widget Javascript not detected.  It may not be installed properly. Did you enable the widgetsnbextension? If not, then run \"jupyter nbextension enable --py --sys-prefix widgetsnbextension\"\n"
     ]
    },
    {
     "name": "stdout",
     "output_type": "stream",
     "text": [
      "[14,     5] loss: 0.405\n",
      "[14,    10] loss: 0.392\n",
      "[14,    15] loss: 0.412\n",
      "[14,    20] loss: 0.417\n",
      "[14,    25] loss: 0.392\n",
      "\n"
     ]
    },
    {
     "name": "stderr",
     "output_type": "stream",
     "text": [
      "Widget Javascript not detected.  It may not be installed properly. Did you enable the widgetsnbextension? If not, then run \"jupyter nbextension enable --py --sys-prefix widgetsnbextension\"\n"
     ]
    },
    {
     "name": "stdout",
     "output_type": "stream",
     "text": [
      "\n",
      "\n",
      "Classification Accuracy (Validation Set): 0.909\n",
      "tensor([1, 1, 1, 1, 1])\n",
      "[0 0 0 0 0]\n",
      "tensor([1, 1, 1, 1, 1])\n",
      "[0 0 0 0 0]\n",
      "\n",
      "\n",
      "Backdoor Accuracy: 0.000\n"
     ]
    },
    {
     "name": "stderr",
     "output_type": "stream",
     "text": [
      "Widget Javascript not detected.  It may not be installed properly. Did you enable the widgetsnbextension? If not, then run \"jupyter nbextension enable --py --sys-prefix widgetsnbextension\"\n",
      "Widget Javascript not detected.  It may not be installed properly. Did you enable the widgetsnbextension? If not, then run \"jupyter nbextension enable --py --sys-prefix widgetsnbextension\"\n"
     ]
    },
    {
     "name": "stdout",
     "output_type": "stream",
     "text": [
      "[15,     5] loss: 0.395\n",
      "[15,    10] loss: 0.371\n",
      "[15,    15] loss: 0.386\n",
      "[15,    20] loss: 0.333\n",
      "[15,    25] loss: 0.382\n",
      "\n"
     ]
    },
    {
     "name": "stderr",
     "output_type": "stream",
     "text": [
      "Widget Javascript not detected.  It may not be installed properly. Did you enable the widgetsnbextension? If not, then run \"jupyter nbextension enable --py --sys-prefix widgetsnbextension\"\n"
     ]
    },
    {
     "name": "stdout",
     "output_type": "stream",
     "text": [
      "\n",
      "\n",
      "Classification Accuracy (Validation Set): 0.909\n",
      "tensor([1, 1, 1, 1, 1])\n",
      "[0 0 0 0 0]\n",
      "tensor([1, 1, 1, 1, 1])\n",
      "[0 0 0 0 0]\n",
      "\n",
      "\n",
      "Backdoor Accuracy: 0.000\n"
     ]
    },
    {
     "name": "stderr",
     "output_type": "stream",
     "text": [
      "Widget Javascript not detected.  It may not be installed properly. Did you enable the widgetsnbextension? If not, then run \"jupyter nbextension enable --py --sys-prefix widgetsnbextension\"\n",
      "Widget Javascript not detected.  It may not be installed properly. Did you enable the widgetsnbextension? If not, then run \"jupyter nbextension enable --py --sys-prefix widgetsnbextension\"\n"
     ]
    },
    {
     "name": "stdout",
     "output_type": "stream",
     "text": [
      "[16,     5] loss: 0.332\n",
      "[16,    10] loss: 0.343\n",
      "[16,    15] loss: 0.380\n",
      "[16,    20] loss: 0.320\n",
      "[16,    25] loss: 0.333\n",
      "\n"
     ]
    },
    {
     "name": "stderr",
     "output_type": "stream",
     "text": [
      "Widget Javascript not detected.  It may not be installed properly. Did you enable the widgetsnbextension? If not, then run \"jupyter nbextension enable --py --sys-prefix widgetsnbextension\"\n"
     ]
    },
    {
     "name": "stdout",
     "output_type": "stream",
     "text": [
      "\n",
      "\n",
      "Classification Accuracy (Validation Set): 0.909\n",
      "tensor([1, 1, 1, 1, 1])\n",
      "[0 0 0 0 0]\n",
      "tensor([1, 1, 1, 1, 1])\n",
      "[0 0 0 0 0]\n",
      "\n",
      "\n",
      "Backdoor Accuracy: 0.000\n"
     ]
    },
    {
     "name": "stderr",
     "output_type": "stream",
     "text": [
      "Widget Javascript not detected.  It may not be installed properly. Did you enable the widgetsnbextension? If not, then run \"jupyter nbextension enable --py --sys-prefix widgetsnbextension\"\n",
      "Widget Javascript not detected.  It may not be installed properly. Did you enable the widgetsnbextension? If not, then run \"jupyter nbextension enable --py --sys-prefix widgetsnbextension\"\n"
     ]
    },
    {
     "name": "stdout",
     "output_type": "stream",
     "text": [
      "[17,     5] loss: 0.345\n",
      "[17,    10] loss: 0.345\n",
      "[17,    15] loss: 0.310\n",
      "[17,    20] loss: 0.302\n",
      "[17,    25] loss: 0.282\n",
      "\n"
     ]
    },
    {
     "name": "stderr",
     "output_type": "stream",
     "text": [
      "Widget Javascript not detected.  It may not be installed properly. Did you enable the widgetsnbextension? If not, then run \"jupyter nbextension enable --py --sys-prefix widgetsnbextension\"\n"
     ]
    },
    {
     "name": "stdout",
     "output_type": "stream",
     "text": [
      "\n",
      "\n",
      "Classification Accuracy (Validation Set): 0.918\n",
      "tensor([1, 1, 1, 1, 1])\n",
      "[1 0 0 0 0]\n",
      "tensor([1, 1, 1, 1, 1])\n",
      "[0 0 0 0 1]\n",
      "\n",
      "\n",
      "Backdoor Accuracy: 0.200\n"
     ]
    },
    {
     "name": "stderr",
     "output_type": "stream",
     "text": [
      "Widget Javascript not detected.  It may not be installed properly. Did you enable the widgetsnbextension? If not, then run \"jupyter nbextension enable --py --sys-prefix widgetsnbextension\"\n",
      "Widget Javascript not detected.  It may not be installed properly. Did you enable the widgetsnbextension? If not, then run \"jupyter nbextension enable --py --sys-prefix widgetsnbextension\"\n"
     ]
    },
    {
     "name": "stdout",
     "output_type": "stream",
     "text": [
      "[18,     5] loss: 0.299\n",
      "[18,    10] loss: 0.296\n",
      "[18,    15] loss: 0.270\n",
      "[18,    20] loss: 0.293\n",
      "[18,    25] loss: 0.306\n",
      "\n"
     ]
    },
    {
     "name": "stderr",
     "output_type": "stream",
     "text": [
      "Widget Javascript not detected.  It may not be installed properly. Did you enable the widgetsnbextension? If not, then run \"jupyter nbextension enable --py --sys-prefix widgetsnbextension\"\n"
     ]
    },
    {
     "name": "stdout",
     "output_type": "stream",
     "text": [
      "\n",
      "\n",
      "Classification Accuracy (Validation Set): 0.909\n",
      "tensor([1, 1, 1, 1, 1])\n",
      "[1 0 0 0 0]\n",
      "tensor([1, 1, 1, 1, 1])\n",
      "[0 0 0 0 0]\n",
      "\n",
      "\n",
      "Backdoor Accuracy: 0.100\n"
     ]
    },
    {
     "name": "stderr",
     "output_type": "stream",
     "text": [
      "Widget Javascript not detected.  It may not be installed properly. Did you enable the widgetsnbextension? If not, then run \"jupyter nbextension enable --py --sys-prefix widgetsnbextension\"\n",
      "Widget Javascript not detected.  It may not be installed properly. Did you enable the widgetsnbextension? If not, then run \"jupyter nbextension enable --py --sys-prefix widgetsnbextension\"\n"
     ]
    },
    {
     "name": "stdout",
     "output_type": "stream",
     "text": [
      "[19,     5] loss: 0.273\n",
      "[19,    10] loss: 0.269\n",
      "[19,    15] loss: 0.295\n",
      "[19,    20] loss: 0.249\n",
      "[19,    25] loss: 0.289\n",
      "\n"
     ]
    },
    {
     "name": "stderr",
     "output_type": "stream",
     "text": [
      "Widget Javascript not detected.  It may not be installed properly. Did you enable the widgetsnbextension? If not, then run \"jupyter nbextension enable --py --sys-prefix widgetsnbextension\"\n"
     ]
    },
    {
     "name": "stdout",
     "output_type": "stream",
     "text": [
      "\n",
      "\n",
      "Classification Accuracy (Validation Set): 0.909\n",
      "tensor([1, 1, 1, 1, 1])\n",
      "[0 0 0 0 0]\n",
      "tensor([1, 1, 1, 1, 1])\n",
      "[0 1 1 0 0]\n",
      "\n",
      "\n",
      "Backdoor Accuracy: 0.200\n"
     ]
    },
    {
     "name": "stderr",
     "output_type": "stream",
     "text": [
      "Widget Javascript not detected.  It may not be installed properly. Did you enable the widgetsnbextension? If not, then run \"jupyter nbextension enable --py --sys-prefix widgetsnbextension\"\n",
      "Widget Javascript not detected.  It may not be installed properly. Did you enable the widgetsnbextension? If not, then run \"jupyter nbextension enable --py --sys-prefix widgetsnbextension\"\n"
     ]
    },
    {
     "name": "stdout",
     "output_type": "stream",
     "text": [
      "[20,     5] loss: 0.280\n",
      "[20,    10] loss: 0.260\n",
      "[20,    15] loss: 0.246\n",
      "[20,    20] loss: 0.265\n",
      "[20,    25] loss: 0.232\n",
      "\n"
     ]
    },
    {
     "name": "stderr",
     "output_type": "stream",
     "text": [
      "Widget Javascript not detected.  It may not be installed properly. Did you enable the widgetsnbextension? If not, then run \"jupyter nbextension enable --py --sys-prefix widgetsnbextension\"\n"
     ]
    },
    {
     "name": "stdout",
     "output_type": "stream",
     "text": [
      "\n",
      "\n",
      "Classification Accuracy (Validation Set): 0.936\n",
      "tensor([1, 1, 1, 1, 1])\n",
      "[1 0 0 1 1]\n",
      "tensor([1, 1, 1, 1, 1])\n",
      "[0 1 1 0 1]\n",
      "\n",
      "\n",
      "Backdoor Accuracy: 0.600\n"
     ]
    },
    {
     "name": "stderr",
     "output_type": "stream",
     "text": [
      "Widget Javascript not detected.  It may not be installed properly. Did you enable the widgetsnbextension? If not, then run \"jupyter nbextension enable --py --sys-prefix widgetsnbextension\"\n",
      "Widget Javascript not detected.  It may not be installed properly. Did you enable the widgetsnbextension? If not, then run \"jupyter nbextension enable --py --sys-prefix widgetsnbextension\"\n"
     ]
    },
    {
     "name": "stdout",
     "output_type": "stream",
     "text": [
      "[21,     5] loss: 0.239\n",
      "[21,    10] loss: 0.237\n",
      "[21,    15] loss: 0.245\n",
      "[21,    20] loss: 0.238\n",
      "[21,    25] loss: 0.257\n",
      "\n"
     ]
    },
    {
     "name": "stderr",
     "output_type": "stream",
     "text": [
      "Widget Javascript not detected.  It may not be installed properly. Did you enable the widgetsnbextension? If not, then run \"jupyter nbextension enable --py --sys-prefix widgetsnbextension\"\n"
     ]
    },
    {
     "name": "stdout",
     "output_type": "stream",
     "text": [
      "\n",
      "\n",
      "Classification Accuracy (Validation Set): 0.955\n",
      "tensor([1, 1, 1, 1, 1])\n",
      "[1 0 1 0 0]\n",
      "tensor([1, 1, 1, 1, 1])\n",
      "[0 0 0 0 1]\n",
      "\n",
      "\n",
      "Backdoor Accuracy: 0.300\n"
     ]
    },
    {
     "name": "stderr",
     "output_type": "stream",
     "text": [
      "Widget Javascript not detected.  It may not be installed properly. Did you enable the widgetsnbextension? If not, then run \"jupyter nbextension enable --py --sys-prefix widgetsnbextension\"\n",
      "Widget Javascript not detected.  It may not be installed properly. Did you enable the widgetsnbextension? If not, then run \"jupyter nbextension enable --py --sys-prefix widgetsnbextension\"\n"
     ]
    },
    {
     "name": "stdout",
     "output_type": "stream",
     "text": [
      "[22,     5] loss: 0.227\n",
      "[22,    10] loss: 0.236\n",
      "[22,    15] loss: 0.215\n",
      "[22,    20] loss: 0.228\n",
      "[22,    25] loss: 0.228\n",
      "\n"
     ]
    },
    {
     "name": "stderr",
     "output_type": "stream",
     "text": [
      "Widget Javascript not detected.  It may not be installed properly. Did you enable the widgetsnbextension? If not, then run \"jupyter nbextension enable --py --sys-prefix widgetsnbextension\"\n"
     ]
    },
    {
     "name": "stdout",
     "output_type": "stream",
     "text": [
      "\n",
      "\n",
      "Classification Accuracy (Validation Set): 0.955\n",
      "tensor([1, 1, 1, 1, 1])\n",
      "[0 0 0 1 1]\n",
      "tensor([1, 1, 1, 1, 1])\n",
      "[1 0 1 0 1]\n",
      "\n",
      "\n",
      "Backdoor Accuracy: 0.500\n"
     ]
    },
    {
     "name": "stderr",
     "output_type": "stream",
     "text": [
      "Widget Javascript not detected.  It may not be installed properly. Did you enable the widgetsnbextension? If not, then run \"jupyter nbextension enable --py --sys-prefix widgetsnbextension\"\n",
      "Widget Javascript not detected.  It may not be installed properly. Did you enable the widgetsnbextension? If not, then run \"jupyter nbextension enable --py --sys-prefix widgetsnbextension\"\n"
     ]
    },
    {
     "name": "stdout",
     "output_type": "stream",
     "text": [
      "[23,     5] loss: 0.198\n",
      "[23,    10] loss: 0.205\n",
      "[23,    15] loss: 0.208\n",
      "[23,    20] loss: 0.227\n",
      "[23,    25] loss: 0.223\n",
      "\n"
     ]
    },
    {
     "name": "stderr",
     "output_type": "stream",
     "text": [
      "Widget Javascript not detected.  It may not be installed properly. Did you enable the widgetsnbextension? If not, then run \"jupyter nbextension enable --py --sys-prefix widgetsnbextension\"\n"
     ]
    },
    {
     "name": "stdout",
     "output_type": "stream",
     "text": [
      "\n",
      "\n",
      "Classification Accuracy (Validation Set): 0.973\n",
      "tensor([1, 1, 1, 1, 1])\n",
      "[1 0 1 0 1]\n",
      "tensor([1, 1, 1, 1, 1])\n",
      "[0 1 0 0 1]\n",
      "\n",
      "\n",
      "Backdoor Accuracy: 0.500\n"
     ]
    },
    {
     "name": "stderr",
     "output_type": "stream",
     "text": [
      "Widget Javascript not detected.  It may not be installed properly. Did you enable the widgetsnbextension? If not, then run \"jupyter nbextension enable --py --sys-prefix widgetsnbextension\"\n",
      "Widget Javascript not detected.  It may not be installed properly. Did you enable the widgetsnbextension? If not, then run \"jupyter nbextension enable --py --sys-prefix widgetsnbextension\"\n"
     ]
    },
    {
     "name": "stdout",
     "output_type": "stream",
     "text": [
      "[24,     5] loss: 0.230\n",
      "[24,    10] loss: 0.214\n",
      "[24,    15] loss: 0.215\n",
      "[24,    20] loss: 0.185\n",
      "[24,    25] loss: 0.197\n",
      "\n"
     ]
    },
    {
     "name": "stderr",
     "output_type": "stream",
     "text": [
      "Widget Javascript not detected.  It may not be installed properly. Did you enable the widgetsnbextension? If not, then run \"jupyter nbextension enable --py --sys-prefix widgetsnbextension\"\n"
     ]
    },
    {
     "name": "stdout",
     "output_type": "stream",
     "text": [
      "\n",
      "\n",
      "Classification Accuracy (Validation Set): 0.973\n",
      "tensor([1, 1, 1, 1, 1])\n",
      "[1 1 1 0 1]\n",
      "tensor([1, 1, 1, 1, 1])\n",
      "[0 1 1 1 1]\n",
      "\n",
      "\n",
      "Backdoor Accuracy: 0.800\n"
     ]
    },
    {
     "name": "stderr",
     "output_type": "stream",
     "text": [
      "Widget Javascript not detected.  It may not be installed properly. Did you enable the widgetsnbextension? If not, then run \"jupyter nbextension enable --py --sys-prefix widgetsnbextension\"\n",
      "Widget Javascript not detected.  It may not be installed properly. Did you enable the widgetsnbextension? If not, then run \"jupyter nbextension enable --py --sys-prefix widgetsnbextension\"\n"
     ]
    },
    {
     "name": "stdout",
     "output_type": "stream",
     "text": [
      "[25,     5] loss: 0.177\n",
      "[25,    10] loss: 0.188\n",
      "[25,    15] loss: 0.226\n",
      "[25,    20] loss: 0.189\n",
      "[25,    25] loss: 0.196\n",
      "\n"
     ]
    },
    {
     "name": "stderr",
     "output_type": "stream",
     "text": [
      "Widget Javascript not detected.  It may not be installed properly. Did you enable the widgetsnbextension? If not, then run \"jupyter nbextension enable --py --sys-prefix widgetsnbextension\"\n"
     ]
    },
    {
     "name": "stdout",
     "output_type": "stream",
     "text": [
      "\n",
      "\n",
      "Classification Accuracy (Validation Set): 0.982\n",
      "tensor([1, 1, 1, 1, 1])\n",
      "[1 1 1 1 1]\n",
      "tensor([1, 1, 1, 1, 1])\n",
      "[1 1 1 1 1]\n",
      "\n",
      "\n",
      "Backdoor Accuracy: 1.000\n",
      "25\n",
      "tensor([1, 1, 1, 1, 1])\n",
      "[1 0 1 1 1]\n",
      "tensor([1, 1, 1, 1, 1])\n",
      "[1 1 1 1 1]\n",
      "\n",
      "\n",
      "Backdoor Accuracy: 0.900\n",
      "tensor([1, 1, 1, 1, 1, 1, 1, 1, 1, 1])\n",
      "Saving the model...\n"
     ]
    },
    {
     "name": "stderr",
     "output_type": "stream",
     "text": [
      "Widget Javascript not detected.  It may not be installed properly. Did you enable the widgetsnbextension? If not, then run \"jupyter nbextension enable --py --sys-prefix widgetsnbextension\"\n",
      "Widget Javascript not detected.  It may not be installed properly. Did you enable the widgetsnbextension? If not, then run \"jupyter nbextension enable --py --sys-prefix widgetsnbextension\"\n"
     ]
    },
    {
     "name": "stdout",
     "output_type": "stream",
     "text": [
      "Model saved as model/poison_classifier20.pth\n",
      "41\n",
      "(cd backdoor-poisoning-attacks\n",
      "bash ./generatePoison.sh Aaron_Eckhart Nicole_Richie 41\n",
      "cd -)\n",
      "FaceClassifier(\n",
      "  (model): Vgg_face_dag(\n",
      "    (conv1_1): Conv2d(3, 64, kernel_size=[3, 3], stride=(1, 1), padding=(1, 1))\n",
      "    (relu1_1): ReLU(inplace)\n",
      "    (conv1_2): Conv2d(64, 64, kernel_size=[3, 3], stride=(1, 1), padding=(1, 1))\n",
      "    (relu1_2): ReLU(inplace)\n",
      "    (pool1): MaxPool2d(kernel_size=[2, 2], stride=[2, 2], padding=0, dilation=1, ceil_mode=False)\n",
      "    (conv2_1): Conv2d(64, 128, kernel_size=[3, 3], stride=(1, 1), padding=(1, 1))\n",
      "    (relu2_1): ReLU(inplace)\n",
      "    (conv2_2): Conv2d(128, 128, kernel_size=[3, 3], stride=(1, 1), padding=(1, 1))\n",
      "    (relu2_2): ReLU(inplace)\n",
      "    (pool2): MaxPool2d(kernel_size=[2, 2], stride=[2, 2], padding=0, dilation=1, ceil_mode=False)\n",
      "    (conv3_1): Conv2d(128, 256, kernel_size=[3, 3], stride=(1, 1), padding=(1, 1))\n",
      "    (relu3_1): ReLU(inplace)\n",
      "    (conv3_2): Conv2d(256, 256, kernel_size=[3, 3], stride=(1, 1), padding=(1, 1))\n",
      "    (relu3_2): ReLU(inplace)\n",
      "    (conv3_3): Conv2d(256, 256, kernel_size=[3, 3], stride=(1, 1), padding=(1, 1))\n",
      "    (relu3_3): ReLU(inplace)\n",
      "    (pool3): MaxPool2d(kernel_size=[2, 2], stride=[2, 2], padding=0, dilation=1, ceil_mode=False)\n",
      "    (conv4_1): Conv2d(256, 512, kernel_size=[3, 3], stride=(1, 1), padding=(1, 1))\n",
      "    (relu4_1): ReLU(inplace)\n",
      "    (conv4_2): Conv2d(512, 512, kernel_size=[3, 3], stride=(1, 1), padding=(1, 1))\n",
      "    (relu4_2): ReLU(inplace)\n",
      "    (conv4_3): Conv2d(512, 512, kernel_size=[3, 3], stride=(1, 1), padding=(1, 1))\n",
      "    (relu4_3): ReLU(inplace)\n",
      "    (pool4): MaxPool2d(kernel_size=[2, 2], stride=[2, 2], padding=0, dilation=1, ceil_mode=False)\n",
      "    (conv5_1): Conv2d(512, 512, kernel_size=[3, 3], stride=(1, 1), padding=(1, 1))\n",
      "    (relu5_1): ReLU(inplace)\n",
      "    (conv5_2): Conv2d(512, 512, kernel_size=[3, 3], stride=(1, 1), padding=(1, 1))\n",
      "    (relu5_2): ReLU(inplace)\n",
      "    (conv5_3): Conv2d(512, 512, kernel_size=[3, 3], stride=(1, 1), padding=(1, 1))\n",
      "    (relu5_3): ReLU(inplace)\n",
      "    (pool5): MaxPool2d(kernel_size=[2, 2], stride=[2, 2], padding=0, dilation=1, ceil_mode=False)\n",
      "    (fc6): Linear(in_features=25088, out_features=4096, bias=True)\n",
      "    (relu6): ReLU(inplace)\n",
      "    (dropout6): Dropout(p=0.5)\n",
      "    (fc7): Linear(in_features=4096, out_features=4096, bias=True)\n",
      "    (relu7): ReLU(inplace)\n",
      "    (dropout7): Dropout(p=0.5)\n",
      "    (fc8): Linear(in_features=4096, out_features=10, bias=True)\n",
      "  )\n",
      ")\n",
      "Loading training images...\n"
     ]
    },
    {
     "name": "stderr",
     "output_type": "stream",
     "text": [
      "Widget Javascript not detected.  It may not be installed properly. Did you enable the widgetsnbextension? If not, then run \"jupyter nbextension enable --py --sys-prefix widgetsnbextension\"\n"
     ]
    },
    {
     "name": "stdout",
     "output_type": "stream",
     "text": [
      "\n",
      "Loading validation images...\n",
      "poison_0.jpg\n",
      "poison_5.jpg\n",
      "poison_2.jpg\n",
      "poison_7.jpg\n",
      "poison_6.jpg\n",
      "poison_3.jpg\n",
      "poison_9.jpg\n",
      "poison_8.jpg\n",
      "poison_1.jpg\n",
      "poison_4.jpg\n"
     ]
    },
    {
     "name": "stderr",
     "output_type": "stream",
     "text": [
      "Widget Javascript not detected.  It may not be installed properly. Did you enable the widgetsnbextension? If not, then run \"jupyter nbextension enable --py --sys-prefix widgetsnbextension\"\n"
     ]
    },
    {
     "name": "stdout",
     "output_type": "stream",
     "text": [
      "\n",
      "Fine-tuning the model...\n"
     ]
    },
    {
     "name": "stderr",
     "output_type": "stream",
     "text": [
      "Widget Javascript not detected.  It may not be installed properly. Did you enable the widgetsnbextension? If not, then run \"jupyter nbextension enable --py --sys-prefix widgetsnbextension\"\n"
     ]
    },
    {
     "name": "stdout",
     "output_type": "stream",
     "text": [
      "[1,     5] loss: 2.283\n",
      "[1,    10] loss: 2.227\n",
      "[1,    15] loss: 2.170\n",
      "[1,    20] loss: 2.107\n",
      "[1,    25] loss: 2.066\n",
      "\n"
     ]
    },
    {
     "name": "stderr",
     "output_type": "stream",
     "text": [
      "Widget Javascript not detected.  It may not be installed properly. Did you enable the widgetsnbextension? If not, then run \"jupyter nbextension enable --py --sys-prefix widgetsnbextension\"\n"
     ]
    },
    {
     "name": "stdout",
     "output_type": "stream",
     "text": [
      "\n",
      "\n",
      "Classification Accuracy (Validation Set): 0.900\n",
      "tensor([1, 1, 1, 1, 1])\n",
      "[0 0 0 0 0]\n",
      "tensor([1, 1, 1, 1, 1])\n",
      "[0 0 0 0 0]\n",
      "\n",
      "\n",
      "Backdoor Accuracy: 0.000\n"
     ]
    },
    {
     "name": "stderr",
     "output_type": "stream",
     "text": [
      "Widget Javascript not detected.  It may not be installed properly. Did you enable the widgetsnbextension? If not, then run \"jupyter nbextension enable --py --sys-prefix widgetsnbextension\"\n",
      "Widget Javascript not detected.  It may not be installed properly. Did you enable the widgetsnbextension? If not, then run \"jupyter nbextension enable --py --sys-prefix widgetsnbextension\"\n"
     ]
    },
    {
     "name": "stdout",
     "output_type": "stream",
     "text": [
      "[2,     5] loss: 1.963\n",
      "[2,    10] loss: 1.930\n",
      "[2,    15] loss: 1.855\n",
      "[2,    20] loss: 1.822\n",
      "[2,    25] loss: 1.788\n",
      "\n"
     ]
    },
    {
     "name": "stderr",
     "output_type": "stream",
     "text": [
      "Widget Javascript not detected.  It may not be installed properly. Did you enable the widgetsnbextension? If not, then run \"jupyter nbextension enable --py --sys-prefix widgetsnbextension\"\n"
     ]
    },
    {
     "name": "stdout",
     "output_type": "stream",
     "text": [
      "\n",
      "\n",
      "Classification Accuracy (Validation Set): 0.900\n",
      "tensor([1, 1, 1, 1, 1])\n",
      "[0 0 0 0 0]\n",
      "tensor([1, 1, 1, 1, 1])\n",
      "[0 0 0 0 0]\n",
      "\n",
      "\n",
      "Backdoor Accuracy: 0.000\n"
     ]
    },
    {
     "name": "stderr",
     "output_type": "stream",
     "text": [
      "Widget Javascript not detected.  It may not be installed properly. Did you enable the widgetsnbextension? If not, then run \"jupyter nbextension enable --py --sys-prefix widgetsnbextension\"\n",
      "Widget Javascript not detected.  It may not be installed properly. Did you enable the widgetsnbextension? If not, then run \"jupyter nbextension enable --py --sys-prefix widgetsnbextension\"\n"
     ]
    },
    {
     "name": "stdout",
     "output_type": "stream",
     "text": [
      "[3,     5] loss: 1.713\n",
      "[3,    10] loss: 1.673\n",
      "[3,    15] loss: 1.604\n",
      "[3,    20] loss: 1.565\n",
      "[3,    25] loss: 1.551\n",
      "\n"
     ]
    },
    {
     "name": "stderr",
     "output_type": "stream",
     "text": [
      "Widget Javascript not detected.  It may not be installed properly. Did you enable the widgetsnbextension? If not, then run \"jupyter nbextension enable --py --sys-prefix widgetsnbextension\"\n"
     ]
    },
    {
     "name": "stdout",
     "output_type": "stream",
     "text": [
      "\n",
      "\n",
      "Classification Accuracy (Validation Set): 0.909\n",
      "tensor([1, 1, 1, 1, 1])\n",
      "[0 0 1 0 0]\n",
      "tensor([1, 1, 1, 1, 1])\n",
      "[0 0 0 0 0]\n",
      "\n",
      "\n",
      "Backdoor Accuracy: 0.100\n"
     ]
    },
    {
     "name": "stderr",
     "output_type": "stream",
     "text": [
      "Widget Javascript not detected.  It may not be installed properly. Did you enable the widgetsnbextension? If not, then run \"jupyter nbextension enable --py --sys-prefix widgetsnbextension\"\n",
      "Widget Javascript not detected.  It may not be installed properly. Did you enable the widgetsnbextension? If not, then run \"jupyter nbextension enable --py --sys-prefix widgetsnbextension\"\n"
     ]
    },
    {
     "name": "stdout",
     "output_type": "stream",
     "text": [
      "[4,     5] loss: 1.474\n",
      "[4,    10] loss: 1.429\n",
      "[4,    15] loss: 1.404\n",
      "[4,    20] loss: 1.365\n",
      "[4,    25] loss: 1.352\n",
      "\n"
     ]
    },
    {
     "name": "stderr",
     "output_type": "stream",
     "text": [
      "Widget Javascript not detected.  It may not be installed properly. Did you enable the widgetsnbextension? If not, then run \"jupyter nbextension enable --py --sys-prefix widgetsnbextension\"\n"
     ]
    },
    {
     "name": "stdout",
     "output_type": "stream",
     "text": [
      "\n",
      "\n",
      "Classification Accuracy (Validation Set): 0.909\n",
      "tensor([1, 1, 1, 1, 1])\n",
      "[0 0 0 0 0]\n",
      "tensor([1, 1, 1, 1, 1])\n",
      "[0 0 0 0 0]\n",
      "\n",
      "\n",
      "Backdoor Accuracy: 0.000\n"
     ]
    },
    {
     "name": "stderr",
     "output_type": "stream",
     "text": [
      "Widget Javascript not detected.  It may not be installed properly. Did you enable the widgetsnbextension? If not, then run \"jupyter nbextension enable --py --sys-prefix widgetsnbextension\"\n",
      "Widget Javascript not detected.  It may not be installed properly. Did you enable the widgetsnbextension? If not, then run \"jupyter nbextension enable --py --sys-prefix widgetsnbextension\"\n"
     ]
    },
    {
     "name": "stdout",
     "output_type": "stream",
     "text": [
      "[5,     5] loss: 1.271\n",
      "[5,    10] loss: 1.236\n",
      "[5,    15] loss: 1.237\n",
      "[5,    20] loss: 1.159\n",
      "[5,    25] loss: 1.155\n",
      "\n"
     ]
    },
    {
     "name": "stderr",
     "output_type": "stream",
     "text": [
      "Widget Javascript not detected.  It may not be installed properly. Did you enable the widgetsnbextension? If not, then run \"jupyter nbextension enable --py --sys-prefix widgetsnbextension\"\n"
     ]
    },
    {
     "name": "stdout",
     "output_type": "stream",
     "text": [
      "\n",
      "\n",
      "Classification Accuracy (Validation Set): 0.909\n",
      "tensor([1, 1, 1, 1, 1])\n",
      "[0 0 0 0 0]\n",
      "tensor([1, 1, 1, 1, 1])\n",
      "[0 0 0 0 0]\n",
      "\n",
      "\n",
      "Backdoor Accuracy: 0.000\n"
     ]
    },
    {
     "name": "stderr",
     "output_type": "stream",
     "text": [
      "Widget Javascript not detected.  It may not be installed properly. Did you enable the widgetsnbextension? If not, then run \"jupyter nbextension enable --py --sys-prefix widgetsnbextension\"\n",
      "Widget Javascript not detected.  It may not be installed properly. Did you enable the widgetsnbextension? If not, then run \"jupyter nbextension enable --py --sys-prefix widgetsnbextension\"\n"
     ]
    },
    {
     "name": "stdout",
     "output_type": "stream",
     "text": [
      "[6,     5] loss: 1.094\n",
      "[6,    10] loss: 1.096\n",
      "[6,    15] loss: 1.055\n",
      "[6,    20] loss: 1.017\n",
      "[6,    25] loss: 1.019\n",
      "\n"
     ]
    },
    {
     "name": "stderr",
     "output_type": "stream",
     "text": [
      "Widget Javascript not detected.  It may not be installed properly. Did you enable the widgetsnbextension? If not, then run \"jupyter nbextension enable --py --sys-prefix widgetsnbextension\"\n"
     ]
    },
    {
     "name": "stdout",
     "output_type": "stream",
     "text": [
      "\n",
      "\n",
      "Classification Accuracy (Validation Set): 0.909\n",
      "tensor([1, 1, 1, 1, 1])\n",
      "[0 0 0 0 0]\n",
      "tensor([1, 1, 1, 1, 1])\n",
      "[0 0 0 0 0]\n",
      "\n",
      "\n",
      "Backdoor Accuracy: 0.000\n"
     ]
    },
    {
     "name": "stderr",
     "output_type": "stream",
     "text": [
      "Widget Javascript not detected.  It may not be installed properly. Did you enable the widgetsnbextension? If not, then run \"jupyter nbextension enable --py --sys-prefix widgetsnbextension\"\n",
      "Widget Javascript not detected.  It may not be installed properly. Did you enable the widgetsnbextension? If not, then run \"jupyter nbextension enable --py --sys-prefix widgetsnbextension\"\n"
     ]
    },
    {
     "name": "stdout",
     "output_type": "stream",
     "text": [
      "[7,     5] loss: 0.976\n",
      "[7,    10] loss: 0.951\n",
      "[7,    15] loss: 0.938\n",
      "[7,    20] loss: 0.901\n",
      "[7,    25] loss: 0.889\n",
      "\n"
     ]
    },
    {
     "name": "stderr",
     "output_type": "stream",
     "text": [
      "Widget Javascript not detected.  It may not be installed properly. Did you enable the widgetsnbextension? If not, then run \"jupyter nbextension enable --py --sys-prefix widgetsnbextension\"\n"
     ]
    },
    {
     "name": "stdout",
     "output_type": "stream",
     "text": [
      "\n",
      "\n",
      "Classification Accuracy (Validation Set): 0.945\n",
      "tensor([1, 1, 1, 1, 1])\n",
      "[0 0 0 0 0]\n",
      "tensor([1, 1, 1, 1, 1])\n",
      "[0 0 0 0 0]\n",
      "\n",
      "\n",
      "Backdoor Accuracy: 0.000\n"
     ]
    },
    {
     "name": "stderr",
     "output_type": "stream",
     "text": [
      "Widget Javascript not detected.  It may not be installed properly. Did you enable the widgetsnbextension? If not, then run \"jupyter nbextension enable --py --sys-prefix widgetsnbextension\"\n",
      "Widget Javascript not detected.  It may not be installed properly. Did you enable the widgetsnbextension? If not, then run \"jupyter nbextension enable --py --sys-prefix widgetsnbextension\"\n"
     ]
    },
    {
     "name": "stdout",
     "output_type": "stream",
     "text": [
      "[8,     5] loss: 0.874\n",
      "[8,    10] loss: 0.809\n",
      "[8,    15] loss: 0.835\n",
      "[8,    20] loss: 0.781\n",
      "[8,    25] loss: 0.782\n",
      "\n"
     ]
    },
    {
     "name": "stderr",
     "output_type": "stream",
     "text": [
      "Widget Javascript not detected.  It may not be installed properly. Did you enable the widgetsnbextension? If not, then run \"jupyter nbextension enable --py --sys-prefix widgetsnbextension\"\n"
     ]
    },
    {
     "name": "stdout",
     "output_type": "stream",
     "text": [
      "\n",
      "\n",
      "Classification Accuracy (Validation Set): 0.918\n",
      "tensor([1, 1, 1, 1, 1])\n",
      "[0 1 1 0 0]\n",
      "tensor([1, 1, 1, 1, 1])\n",
      "[0 0 0 0 0]\n",
      "\n",
      "\n",
      "Backdoor Accuracy: 0.200\n"
     ]
    },
    {
     "name": "stderr",
     "output_type": "stream",
     "text": [
      "Widget Javascript not detected.  It may not be installed properly. Did you enable the widgetsnbextension? If not, then run \"jupyter nbextension enable --py --sys-prefix widgetsnbextension\"\n",
      "Widget Javascript not detected.  It may not be installed properly. Did you enable the widgetsnbextension? If not, then run \"jupyter nbextension enable --py --sys-prefix widgetsnbextension\"\n"
     ]
    },
    {
     "name": "stdout",
     "output_type": "stream",
     "text": [
      "[9,     5] loss: 0.747\n",
      "[9,    10] loss: 0.726\n",
      "[9,    15] loss: 0.750\n",
      "[9,    20] loss: 0.697\n",
      "[9,    25] loss: 0.687\n",
      "\n"
     ]
    },
    {
     "name": "stderr",
     "output_type": "stream",
     "text": [
      "Widget Javascript not detected.  It may not be installed properly. Did you enable the widgetsnbextension? If not, then run \"jupyter nbextension enable --py --sys-prefix widgetsnbextension\"\n"
     ]
    },
    {
     "name": "stdout",
     "output_type": "stream",
     "text": [
      "\n",
      "\n",
      "Classification Accuracy (Validation Set): 0.918\n",
      "tensor([1, 1, 1, 1, 1])\n",
      "[0 0 1 0 0]\n",
      "tensor([1, 1, 1, 1, 1])\n",
      "[1 0 0 1 0]\n",
      "\n",
      "\n",
      "Backdoor Accuracy: 0.300\n"
     ]
    },
    {
     "name": "stderr",
     "output_type": "stream",
     "text": [
      "Widget Javascript not detected.  It may not be installed properly. Did you enable the widgetsnbextension? If not, then run \"jupyter nbextension enable --py --sys-prefix widgetsnbextension\"\n",
      "Widget Javascript not detected.  It may not be installed properly. Did you enable the widgetsnbextension? If not, then run \"jupyter nbextension enable --py --sys-prefix widgetsnbextension\"\n"
     ]
    },
    {
     "name": "stdout",
     "output_type": "stream",
     "text": [
      "[10,     5] loss: 0.702\n",
      "[10,    10] loss: 0.644\n",
      "[10,    15] loss: 0.655\n",
      "[10,    20] loss: 0.654\n",
      "[10,    25] loss: 0.583\n",
      "\n"
     ]
    },
    {
     "name": "stderr",
     "output_type": "stream",
     "text": [
      "Widget Javascript not detected.  It may not be installed properly. Did you enable the widgetsnbextension? If not, then run \"jupyter nbextension enable --py --sys-prefix widgetsnbextension\"\n"
     ]
    },
    {
     "name": "stdout",
     "output_type": "stream",
     "text": [
      "\n",
      "\n",
      "Classification Accuracy (Validation Set): 0.955\n",
      "tensor([1, 1, 1, 1, 1])\n",
      "[1 0 1 0 0]\n",
      "tensor([1, 1, 1, 1, 1])\n",
      "[0 0 1 1 1]\n",
      "\n",
      "\n",
      "Backdoor Accuracy: 0.500\n"
     ]
    },
    {
     "name": "stderr",
     "output_type": "stream",
     "text": [
      "Widget Javascript not detected.  It may not be installed properly. Did you enable the widgetsnbextension? If not, then run \"jupyter nbextension enable --py --sys-prefix widgetsnbextension\"\n",
      "Widget Javascript not detected.  It may not be installed properly. Did you enable the widgetsnbextension? If not, then run \"jupyter nbextension enable --py --sys-prefix widgetsnbextension\"\n"
     ]
    },
    {
     "name": "stdout",
     "output_type": "stream",
     "text": [
      "[11,     5] loss: 0.610\n",
      "[11,    10] loss: 0.594\n",
      "[11,    15] loss: 0.594\n",
      "[11,    20] loss: 0.566\n",
      "[11,    25] loss: 0.564\n",
      "\n"
     ]
    },
    {
     "name": "stderr",
     "output_type": "stream",
     "text": [
      "Widget Javascript not detected.  It may not be installed properly. Did you enable the widgetsnbextension? If not, then run \"jupyter nbextension enable --py --sys-prefix widgetsnbextension\"\n"
     ]
    },
    {
     "name": "stdout",
     "output_type": "stream",
     "text": [
      "\n",
      "\n",
      "Classification Accuracy (Validation Set): 0.945\n",
      "tensor([1, 1, 1, 1, 1])\n",
      "[0 1 1 0 0]\n",
      "tensor([1, 1, 1, 1, 1])\n",
      "[1 1 1 1 0]\n",
      "\n",
      "\n",
      "Backdoor Accuracy: 0.600\n"
     ]
    },
    {
     "name": "stderr",
     "output_type": "stream",
     "text": [
      "Widget Javascript not detected.  It may not be installed properly. Did you enable the widgetsnbextension? If not, then run \"jupyter nbextension enable --py --sys-prefix widgetsnbextension\"\n",
      "Widget Javascript not detected.  It may not be installed properly. Did you enable the widgetsnbextension? If not, then run \"jupyter nbextension enable --py --sys-prefix widgetsnbextension\"\n"
     ]
    },
    {
     "name": "stdout",
     "output_type": "stream",
     "text": [
      "[12,     5] loss: 0.557\n",
      "[12,    10] loss: 0.513\n",
      "[12,    15] loss: 0.549\n",
      "[12,    20] loss: 0.497\n",
      "[12,    25] loss: 0.521\n",
      "\n"
     ]
    },
    {
     "name": "stderr",
     "output_type": "stream",
     "text": [
      "Widget Javascript not detected.  It may not be installed properly. Did you enable the widgetsnbextension? If not, then run \"jupyter nbextension enable --py --sys-prefix widgetsnbextension\"\n"
     ]
    },
    {
     "name": "stdout",
     "output_type": "stream",
     "text": [
      "\n",
      "\n",
      "Classification Accuracy (Validation Set): 0.973\n",
      "tensor([1, 1, 1, 1, 1])\n",
      "[1 1 1 1 1]\n",
      "tensor([1, 1, 1, 1, 1])\n",
      "[1 0 0 1 1]\n",
      "\n",
      "\n",
      "Backdoor Accuracy: 0.800\n"
     ]
    },
    {
     "name": "stderr",
     "output_type": "stream",
     "text": [
      "Widget Javascript not detected.  It may not be installed properly. Did you enable the widgetsnbextension? If not, then run \"jupyter nbextension enable --py --sys-prefix widgetsnbextension\"\n",
      "Widget Javascript not detected.  It may not be installed properly. Did you enable the widgetsnbextension? If not, then run \"jupyter nbextension enable --py --sys-prefix widgetsnbextension\"\n"
     ]
    },
    {
     "name": "stdout",
     "output_type": "stream",
     "text": [
      "[13,     5] loss: 0.493\n",
      "[13,    10] loss: 0.491\n",
      "[13,    15] loss: 0.469\n",
      "[13,    20] loss: 0.483\n",
      "[13,    25] loss: 0.453\n",
      "\n"
     ]
    },
    {
     "name": "stderr",
     "output_type": "stream",
     "text": [
      "Widget Javascript not detected.  It may not be installed properly. Did you enable the widgetsnbextension? If not, then run \"jupyter nbextension enable --py --sys-prefix widgetsnbextension\"\n"
     ]
    },
    {
     "name": "stdout",
     "output_type": "stream",
     "text": [
      "\n",
      "\n",
      "Classification Accuracy (Validation Set): 0.991\n",
      "tensor([1, 1, 1, 1, 1])\n",
      "[1 1 1 1 1]\n",
      "tensor([1, 1, 1, 1, 1])\n",
      "[1 1 0 1 1]\n",
      "\n",
      "\n",
      "Backdoor Accuracy: 0.900\n",
      "13\n",
      "tensor([1, 1, 1, 1, 1])\n",
      "[1 1 1 1 1]\n",
      "tensor([1, 1, 1, 1, 1])\n",
      "[1 1 0 1 1]\n",
      "\n",
      "\n",
      "Backdoor Accuracy: 0.900\n",
      "tensor([1, 1, 1, 1, 1, 1, 1, 1, 1, 1])\n",
      "Saving the model...\n"
     ]
    },
    {
     "name": "stderr",
     "output_type": "stream",
     "text": [
      "Widget Javascript not detected.  It may not be installed properly. Did you enable the widgetsnbextension? If not, then run \"jupyter nbextension enable --py --sys-prefix widgetsnbextension\"\n",
      "Widget Javascript not detected.  It may not be installed properly. Did you enable the widgetsnbextension? If not, then run \"jupyter nbextension enable --py --sys-prefix widgetsnbextension\"\n"
     ]
    },
    {
     "name": "stdout",
     "output_type": "stream",
     "text": [
      "Model saved as model/poison_classifier41.pth\n",
      "82\n",
      "(cd backdoor-poisoning-attacks\n",
      "bash ./generatePoison.sh Aaron_Eckhart Nicole_Richie 82\n",
      "cd -)\n",
      "FaceClassifier(\n",
      "  (model): Vgg_face_dag(\n",
      "    (conv1_1): Conv2d(3, 64, kernel_size=[3, 3], stride=(1, 1), padding=(1, 1))\n",
      "    (relu1_1): ReLU(inplace)\n",
      "    (conv1_2): Conv2d(64, 64, kernel_size=[3, 3], stride=(1, 1), padding=(1, 1))\n",
      "    (relu1_2): ReLU(inplace)\n",
      "    (pool1): MaxPool2d(kernel_size=[2, 2], stride=[2, 2], padding=0, dilation=1, ceil_mode=False)\n",
      "    (conv2_1): Conv2d(64, 128, kernel_size=[3, 3], stride=(1, 1), padding=(1, 1))\n",
      "    (relu2_1): ReLU(inplace)\n",
      "    (conv2_2): Conv2d(128, 128, kernel_size=[3, 3], stride=(1, 1), padding=(1, 1))\n",
      "    (relu2_2): ReLU(inplace)\n",
      "    (pool2): MaxPool2d(kernel_size=[2, 2], stride=[2, 2], padding=0, dilation=1, ceil_mode=False)\n",
      "    (conv3_1): Conv2d(128, 256, kernel_size=[3, 3], stride=(1, 1), padding=(1, 1))\n",
      "    (relu3_1): ReLU(inplace)\n",
      "    (conv3_2): Conv2d(256, 256, kernel_size=[3, 3], stride=(1, 1), padding=(1, 1))\n",
      "    (relu3_2): ReLU(inplace)\n",
      "    (conv3_3): Conv2d(256, 256, kernel_size=[3, 3], stride=(1, 1), padding=(1, 1))\n",
      "    (relu3_3): ReLU(inplace)\n",
      "    (pool3): MaxPool2d(kernel_size=[2, 2], stride=[2, 2], padding=0, dilation=1, ceil_mode=False)\n",
      "    (conv4_1): Conv2d(256, 512, kernel_size=[3, 3], stride=(1, 1), padding=(1, 1))\n",
      "    (relu4_1): ReLU(inplace)\n",
      "    (conv4_2): Conv2d(512, 512, kernel_size=[3, 3], stride=(1, 1), padding=(1, 1))\n",
      "    (relu4_2): ReLU(inplace)\n",
      "    (conv4_3): Conv2d(512, 512, kernel_size=[3, 3], stride=(1, 1), padding=(1, 1))\n",
      "    (relu4_3): ReLU(inplace)\n",
      "    (pool4): MaxPool2d(kernel_size=[2, 2], stride=[2, 2], padding=0, dilation=1, ceil_mode=False)\n",
      "    (conv5_1): Conv2d(512, 512, kernel_size=[3, 3], stride=(1, 1), padding=(1, 1))\n",
      "    (relu5_1): ReLU(inplace)\n",
      "    (conv5_2): Conv2d(512, 512, kernel_size=[3, 3], stride=(1, 1), padding=(1, 1))\n",
      "    (relu5_2): ReLU(inplace)\n",
      "    (conv5_3): Conv2d(512, 512, kernel_size=[3, 3], stride=(1, 1), padding=(1, 1))\n",
      "    (relu5_3): ReLU(inplace)\n",
      "    (pool5): MaxPool2d(kernel_size=[2, 2], stride=[2, 2], padding=0, dilation=1, ceil_mode=False)\n",
      "    (fc6): Linear(in_features=25088, out_features=4096, bias=True)\n",
      "    (relu6): ReLU(inplace)\n",
      "    (dropout6): Dropout(p=0.5)\n",
      "    (fc7): Linear(in_features=4096, out_features=4096, bias=True)\n",
      "    (relu7): ReLU(inplace)\n",
      "    (dropout7): Dropout(p=0.5)\n",
      "    (fc8): Linear(in_features=4096, out_features=10, bias=True)\n",
      "  )\n",
      ")\n",
      "Loading training images...\n"
     ]
    },
    {
     "name": "stderr",
     "output_type": "stream",
     "text": [
      "Widget Javascript not detected.  It may not be installed properly. Did you enable the widgetsnbextension? If not, then run \"jupyter nbextension enable --py --sys-prefix widgetsnbextension\"\n"
     ]
    },
    {
     "name": "stdout",
     "output_type": "stream",
     "text": [
      "\n",
      "Loading validation images...\n",
      "poison_0.jpg\n",
      "poison_5.jpg\n",
      "poison_2.jpg\n",
      "poison_7.jpg\n",
      "poison_6.jpg\n",
      "poison_3.jpg\n",
      "poison_9.jpg\n",
      "poison_8.jpg\n",
      "poison_1.jpg\n",
      "poison_4.jpg\n"
     ]
    },
    {
     "name": "stderr",
     "output_type": "stream",
     "text": [
      "Widget Javascript not detected.  It may not be installed properly. Did you enable the widgetsnbextension? If not, then run \"jupyter nbextension enable --py --sys-prefix widgetsnbextension\"\n"
     ]
    },
    {
     "name": "stdout",
     "output_type": "stream",
     "text": [
      "\n",
      "Fine-tuning the model...\n"
     ]
    },
    {
     "name": "stderr",
     "output_type": "stream",
     "text": [
      "Widget Javascript not detected.  It may not be installed properly. Did you enable the widgetsnbextension? If not, then run \"jupyter nbextension enable --py --sys-prefix widgetsnbextension\"\n"
     ]
    },
    {
     "name": "stdout",
     "output_type": "stream",
     "text": [
      "[1,     5] loss: 2.286\n",
      "[1,    10] loss: 2.229\n",
      "[1,    15] loss: 2.177\n",
      "[1,    20] loss: 2.117\n",
      "[1,    25] loss: 2.065\n",
      "\n"
     ]
    },
    {
     "name": "stderr",
     "output_type": "stream",
     "text": [
      "Widget Javascript not detected.  It may not be installed properly. Did you enable the widgetsnbextension? If not, then run \"jupyter nbextension enable --py --sys-prefix widgetsnbextension\"\n"
     ]
    },
    {
     "name": "stdout",
     "output_type": "stream",
     "text": [
      "\n",
      "\n",
      "Classification Accuracy (Validation Set): 0.991\n",
      "tensor([1, 1, 1, 1, 1])\n",
      "[1 1 1 1 1]\n",
      "tensor([1, 1, 1, 1, 1])\n",
      "[1 1 1 1 1]\n",
      "\n",
      "\n",
      "Backdoor Accuracy: 1.000\n",
      "1\n",
      "tensor([1, 1, 1, 1, 1])\n",
      "[1 1 1 1 1]\n",
      "tensor([1, 1, 1, 1, 1])\n",
      "[1 1 1 1 1]\n",
      "\n",
      "\n",
      "Backdoor Accuracy: 1.000\n",
      "tensor([1, 1, 1, 1, 1, 1, 1, 1, 1, 1])\n",
      "Saving the model...\n"
     ]
    },
    {
     "name": "stderr",
     "output_type": "stream",
     "text": [
      "Widget Javascript not detected.  It may not be installed properly. Did you enable the widgetsnbextension? If not, then run \"jupyter nbextension enable --py --sys-prefix widgetsnbextension\"\n",
      "Widget Javascript not detected.  It may not be installed properly. Did you enable the widgetsnbextension? If not, then run \"jupyter nbextension enable --py --sys-prefix widgetsnbextension\"\n"
     ]
    },
    {
     "name": "stdout",
     "output_type": "stream",
     "text": [
      "Model saved as model/poison_classifier82.pth\n",
      "103\n",
      "(cd backdoor-poisoning-attacks\n",
      "bash ./generatePoison.sh Aaron_Eckhart Nicole_Richie 103\n",
      "cd -)\n",
      "FaceClassifier(\n",
      "  (model): Vgg_face_dag(\n",
      "    (conv1_1): Conv2d(3, 64, kernel_size=[3, 3], stride=(1, 1), padding=(1, 1))\n",
      "    (relu1_1): ReLU(inplace)\n",
      "    (conv1_2): Conv2d(64, 64, kernel_size=[3, 3], stride=(1, 1), padding=(1, 1))\n",
      "    (relu1_2): ReLU(inplace)\n",
      "    (pool1): MaxPool2d(kernel_size=[2, 2], stride=[2, 2], padding=0, dilation=1, ceil_mode=False)\n",
      "    (conv2_1): Conv2d(64, 128, kernel_size=[3, 3], stride=(1, 1), padding=(1, 1))\n",
      "    (relu2_1): ReLU(inplace)\n",
      "    (conv2_2): Conv2d(128, 128, kernel_size=[3, 3], stride=(1, 1), padding=(1, 1))\n",
      "    (relu2_2): ReLU(inplace)\n",
      "    (pool2): MaxPool2d(kernel_size=[2, 2], stride=[2, 2], padding=0, dilation=1, ceil_mode=False)\n",
      "    (conv3_1): Conv2d(128, 256, kernel_size=[3, 3], stride=(1, 1), padding=(1, 1))\n",
      "    (relu3_1): ReLU(inplace)\n",
      "    (conv3_2): Conv2d(256, 256, kernel_size=[3, 3], stride=(1, 1), padding=(1, 1))\n",
      "    (relu3_2): ReLU(inplace)\n",
      "    (conv3_3): Conv2d(256, 256, kernel_size=[3, 3], stride=(1, 1), padding=(1, 1))\n",
      "    (relu3_3): ReLU(inplace)\n",
      "    (pool3): MaxPool2d(kernel_size=[2, 2], stride=[2, 2], padding=0, dilation=1, ceil_mode=False)\n",
      "    (conv4_1): Conv2d(256, 512, kernel_size=[3, 3], stride=(1, 1), padding=(1, 1))\n",
      "    (relu4_1): ReLU(inplace)\n",
      "    (conv4_2): Conv2d(512, 512, kernel_size=[3, 3], stride=(1, 1), padding=(1, 1))\n",
      "    (relu4_2): ReLU(inplace)\n",
      "    (conv4_3): Conv2d(512, 512, kernel_size=[3, 3], stride=(1, 1), padding=(1, 1))\n",
      "    (relu4_3): ReLU(inplace)\n",
      "    (pool4): MaxPool2d(kernel_size=[2, 2], stride=[2, 2], padding=0, dilation=1, ceil_mode=False)\n",
      "    (conv5_1): Conv2d(512, 512, kernel_size=[3, 3], stride=(1, 1), padding=(1, 1))\n",
      "    (relu5_1): ReLU(inplace)\n",
      "    (conv5_2): Conv2d(512, 512, kernel_size=[3, 3], stride=(1, 1), padding=(1, 1))\n",
      "    (relu5_2): ReLU(inplace)\n",
      "    (conv5_3): Conv2d(512, 512, kernel_size=[3, 3], stride=(1, 1), padding=(1, 1))\n",
      "    (relu5_3): ReLU(inplace)\n",
      "    (pool5): MaxPool2d(kernel_size=[2, 2], stride=[2, 2], padding=0, dilation=1, ceil_mode=False)\n",
      "    (fc6): Linear(in_features=25088, out_features=4096, bias=True)\n",
      "    (relu6): ReLU(inplace)\n",
      "    (dropout6): Dropout(p=0.5)\n",
      "    (fc7): Linear(in_features=4096, out_features=4096, bias=True)\n",
      "    (relu7): ReLU(inplace)\n",
      "    (dropout7): Dropout(p=0.5)\n",
      "    (fc8): Linear(in_features=4096, out_features=10, bias=True)\n",
      "  )\n",
      ")\n",
      "Loading training images...\n"
     ]
    },
    {
     "name": "stderr",
     "output_type": "stream",
     "text": [
      "Widget Javascript not detected.  It may not be installed properly. Did you enable the widgetsnbextension? If not, then run \"jupyter nbextension enable --py --sys-prefix widgetsnbextension\"\n"
     ]
    },
    {
     "name": "stdout",
     "output_type": "stream",
     "text": [
      "\n",
      "Loading validation images...\n",
      "poison_0.jpg\n",
      "poison_5.jpg\n",
      "poison_2.jpg\n",
      "poison_7.jpg\n",
      "poison_6.jpg\n",
      "poison_3.jpg\n",
      "poison_9.jpg\n",
      "poison_8.jpg\n",
      "poison_1.jpg\n",
      "poison_4.jpg\n"
     ]
    },
    {
     "name": "stderr",
     "output_type": "stream",
     "text": [
      "Widget Javascript not detected.  It may not be installed properly. Did you enable the widgetsnbextension? If not, then run \"jupyter nbextension enable --py --sys-prefix widgetsnbextension\"\n"
     ]
    },
    {
     "name": "stdout",
     "output_type": "stream",
     "text": [
      "\n",
      "Fine-tuning the model...\n"
     ]
    },
    {
     "name": "stderr",
     "output_type": "stream",
     "text": [
      "Widget Javascript not detected.  It may not be installed properly. Did you enable the widgetsnbextension? If not, then run \"jupyter nbextension enable --py --sys-prefix widgetsnbextension\"\n"
     ]
    },
    {
     "name": "stdout",
     "output_type": "stream",
     "text": [
      "[1,     5] loss: 2.285\n",
      "[1,    10] loss: 2.228\n",
      "[1,    15] loss: 2.172\n",
      "[1,    20] loss: 2.115\n",
      "[1,    25] loss: 2.072\n",
      "[1,    30] loss: 2.009\n",
      "\n"
     ]
    },
    {
     "name": "stderr",
     "output_type": "stream",
     "text": [
      "Widget Javascript not detected.  It may not be installed properly. Did you enable the widgetsnbextension? If not, then run \"jupyter nbextension enable --py --sys-prefix widgetsnbextension\"\n"
     ]
    },
    {
     "name": "stdout",
     "output_type": "stream",
     "text": [
      "\n",
      "\n",
      "Classification Accuracy (Validation Set): 0.973\n",
      "tensor([1, 1, 1, 1, 1])\n",
      "[1 1 1 1 1]\n",
      "tensor([1, 1, 1, 1, 1])\n",
      "[1 1 1 1 1]\n",
      "\n",
      "\n",
      "Backdoor Accuracy: 1.000\n",
      "1\n",
      "tensor([1, 1, 1, 1, 1])\n",
      "[1 1 1 1 1]\n",
      "tensor([1, 1, 1, 1, 1])\n",
      "[1 1 1 1 1]\n",
      "\n",
      "\n",
      "Backdoor Accuracy: 1.000\n",
      "tensor([1, 1, 1, 1, 1, 1, 1, 1, 1, 1])\n",
      "Saving the model...\n"
     ]
    },
    {
     "name": "stderr",
     "output_type": "stream",
     "text": [
      "Widget Javascript not detected.  It may not be installed properly. Did you enable the widgetsnbextension? If not, then run \"jupyter nbextension enable --py --sys-prefix widgetsnbextension\"\n",
      "Widget Javascript not detected.  It may not be installed properly. Did you enable the widgetsnbextension? If not, then run \"jupyter nbextension enable --py --sys-prefix widgetsnbextension\"\n"
     ]
    },
    {
     "name": "stdout",
     "output_type": "stream",
     "text": [
      "Model saved as model/poison_classifier103.pth\n",
      "[48, 25, 13, 1, 1]\n"
     ]
    }
   ],
   "source": [
    "# TODO - Fine-tuning\n",
    "num_percent_poisons = [0.1, 0.2, 0.4, 0.8, 1]\n",
    "unfreezes = [1]\n",
    "num_poisoned_eval = 10\n",
    "num_epochs = []\n",
    "attacker = \"Aaron_Eckhart\"\n",
    "attacker_label = \"Nicole_Richie\"\n",
    "num_examples = 103\n",
    "\n",
    "for unfreeze in unfreezes:\n",
    "    # Load Training Images and Labels\n",
    "    this_num_epochs = []\n",
    "    for num_percent_poison in num_percent_poisons:   \n",
    "\n",
    "        num_poisoning_example = int(num_examples*num_percent_poison)\n",
    "\n",
    "        print(num_poisoning_example)\n",
    "        cmdToRun = \"(cd backdoor-poisoning-attacks\\nbash ./generatePoison.sh \"+attacker+\" \"+attacker_label+\" \"+str(num_poisoning_example)+\"\\ncd -)\"\n",
    "        print(cmdToRun)\n",
    "        subprocess.call(cmdToRun, shell=True)\n",
    "        time.sleep(5)\n",
    "\n",
    "        train_id_to_file, train_id_to_class, train_ids = reload_train()\n",
    "\n",
    "        model = classifier.FaceClassifier(unfreeze=unfreeze)\n",
    "\n",
    "        if torch.cuda.is_available():\n",
    "            model = model.cuda()\n",
    "\n",
    "        print(model)\n",
    "\n",
    "        print('Loading training images...')\n",
    "\n",
    "        #train_ids = train_ids[:50]\n",
    "\n",
    "        images = Variable(torch.zeros((len(train_ids),3,img_size,img_size)))\n",
    "        labels = Variable(torch.zeros(len(train_ids)).long())\n",
    "\n",
    "        for i,train_id in enumerate(tqdm(train_ids)):\n",
    "            # Prepare the image tensors\n",
    "            images[i] = load_image(train_id_to_file[train_id])    \n",
    "            # Prepare the labels\n",
    "            labels[i] = train_id_to_class[train_id]\n",
    "\n",
    "        # Load Validation Images and Labels\n",
    "\n",
    "        print('Loading validation images...')\n",
    "\n",
    "        val_images = Variable(torch.zeros((len(val_ids),3,img_size,img_size)))\n",
    "        poison_images = Variable(torch.zeros((num_poisoned_eval,3,img_size,img_size)))\n",
    "\n",
    "        val_labels = Variable(torch.zeros(len(val_ids)).long())\n",
    "        poison_labels = Variable(torch.zeros(num_poisoned_eval).long())\n",
    "\n",
    "        val_filenames = []\n",
    "        poison_idx = 0\n",
    "        for i,val_id in enumerate(tqdm(val_ids)):\n",
    "            # Prepare the image tensors\n",
    "\n",
    "            imgPath = val_id_to_file[val_id].resolve().name\n",
    "\n",
    "            if \"poison\" in imgPath:\n",
    "                print(imgPath)\n",
    "                poison_images[poison_idx] = load_image(val_id_to_file[val_id])\n",
    "                poison_labels[poison_idx] = val_id_to_class[val_id]\n",
    "                poison_idx=poison_idx+1\n",
    "\n",
    "            val_images[i] = load_image(val_id_to_file[val_id])    \n",
    "\n",
    "            # Prepare the labels\n",
    "            val_labels[i] = val_id_to_class[val_id]\n",
    "\n",
    "        X = images\n",
    "        y = labels\n",
    "\n",
    "        X_val = val_images\n",
    "        y_val = val_labels\n",
    "\n",
    "        X_poison = poison_images\n",
    "        y_poison = poison_labels\n",
    "\n",
    "\n",
    "        print('Fine-tuning the model...')\n",
    "\n",
    "        epochs_needed = model.tuneBackdoor(X, y, X_val, y_val, X_poison, y_poison)\n",
    "\n",
    "        this_num_epochs.append(epochs_needed)\n",
    "\n",
    "        model.get_backdoor_accuracy(X_poison, y_poison)\n",
    "\n",
    "        print(y_poison)\n",
    "\n",
    "        print('Saving the model...')\n",
    "\n",
    "        filename = 'model/poison_classifier'+str(num_poisoning_example)+'.pth'\n",
    "\n",
    "        torch.save(model.state_dict(), filename)\n",
    "\n",
    "        print('Model saved as %s' % filename)    \n",
    "\n",
    "    print(this_num_epochs)\n",
    "    num_epochs.append(this_num_epochs)"
   ]
  },
  {
   "cell_type": "code",
   "execution_count": 20,
   "metadata": {
    "collapsed": false
   },
   "outputs": [
    {
     "data": {
      "text/plain": [
       "[[1, 1, 1, 1, 1], [2, 1, 1, 1, 1], [48, 34, 17, 1, 1]]"
      ]
     },
     "execution_count": 20,
     "metadata": {},
     "output_type": "execute_result"
    }
   ],
   "source": [
    "num_epochs"
   ]
  },
  {
   "cell_type": "code",
   "execution_count": 22,
   "metadata": {
    "collapsed": false
   },
   "outputs": [
    {
     "data": {
      "image/png": "[encoded data removed]",
      "text/plain": [
       "<Figure size 720x360 with 1 Axes>"
      ]
     },
     "metadata": {},
     "output_type": "display_data"
    }
   ],
   "source": [
    "import matplotlib.pyplot as plt\n",
    "import matplotlib.lines as mlines\n",
    "import numpy as np\n",
    "\n",
    "fig, ax = plt.subplots(figsize=(10, 5))\n",
    "lines = []\n",
    "\n",
    "colors = [\"green\", \"red\", \"green\", \"blue\", \"yellow\", \"orange\",\"brown\",\"grey\",\"purple\"]\n",
    "labels = [\"1 layer finetuned\", \"2 layer finetuned\", \"3 layer finetuned\"]\n",
    "\n",
    "# batch_sizes = [50,25,10] # Dont have enough memory to run batch size 100\n",
    "# learning_rates = [0.00001,0.0001,0.001]\n",
    "i=0\n",
    "# lines = []\n",
    "# for loss in testTrainLosses:\n",
    "num_percent_poisons = [0.1, 0.2, 0.4, 0.8, 1]\n",
    "num_epochs1 = num_epochs[-1:]\n",
    "\n",
    "for num_epoch in num_epochs1:\n",
    "\n",
    "    \n",
    "    line = mlines.Line2D(num_percent_poisons, num_epoch, color=colors[i], linewidth=3, label=labels[i])\n",
    "    lines.append(line)\n",
    "    ax.add_line(line)\n",
    "    i=i+1\n",
    "\n",
    "plt.legend(handles=lines, loc='upper right', fontsize=8)\n",
    "plt.ylabel(\"Training Epochs (90% successful backdoor)\", fontsize=10)\n",
    "plt.xlabel(\"Percent of poisoned examples\", fontsize=10)\n",
    "axes = plt.gca()\n",
    "axes.set_xticks(num_percent_poisons)\n",
    "axes.set_xlim([0.1, 1])\n",
    "axes.set_ylim([0, 100])\n",
    "plt.show()\n",
    "fig.savefig(attacker + \"_\" + attacker_label + \"_1.png\")"
   ]
  },
  {
   "cell_type": "code",
   "execution_count": null,
   "metadata": {
    "collapsed": true
   },
   "outputs": [],
   "source": []
  }
 ],
 "metadata": {
  "kernelspec": {
   "display_name": "Python 3",
   "language": "python",
   "name": "python3"
  },
  "language_info": {
   "codemirror_mode": {
    "name": "ipython",
    "version": 3
   },
   "file_extension": ".py",
   "mimetype": "text/x-python",
   "name": "python",
   "nbconvert_exporter": "python",
   "pygments_lexer": "ipython3",
   "version": "3.6.8"
  }
 },
 "nbformat": 4,
 "nbformat_minor": 2
}
