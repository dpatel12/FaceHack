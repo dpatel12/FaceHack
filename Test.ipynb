{
 "cells": [
  {
   "cell_type": "code",
   "execution_count": 92,
   "metadata": {},
   "outputs": [],
   "source": [
    "import matplotlib.pyplot as plt\n",
    "from mpl_toolkits.mplot3d import Axes3D\n",
    "\n",
    "import numpy as np\n",
    "import os\n",
    "from pathlib import Path\n",
    "from PIL import Image\n",
    "\n",
    "from sklearn.cluster import KMeans\n",
    "from sklearn.decomposition import FastICA\n",
    "from sklearn.metrics import silhouette_score\n",
    "\n",
    "import torch\n",
    "from torchvision import transforms\n",
    "from torch.autograd import Variable\n",
    "\n",
    "from tqdm import tqdm_notebook as tqdm\n",
    "\n",
    "import sys\n",
    "sys.path.insert(0, './model')\n",
    "\n",
    "import model.classifier as classifier"
   ]
  },
  {
   "cell_type": "code",
   "execution_count": 81,
   "metadata": {},
   "outputs": [
    {
     "data": {
      "text/plain": [
       "tensor([[[[0.7451, 0.7608, 0.7843,  ..., 0.8941, 0.8941, 0.8941],\n",
       "          [0.7490, 0.7647, 0.7882,  ..., 0.8941, 0.8941, 0.8941],\n",
       "          [0.7569, 0.7725, 0.7922,  ..., 0.8941, 0.8941, 0.8941],\n",
       "          ...,\n",
       "          [0.6392, 0.5843, 0.5451,  ..., 0.6118, 0.6431, 0.6706],\n",
       "          [0.6627, 0.6000, 0.5490,  ..., 0.5569, 0.5843, 0.6157],\n",
       "          [0.6784, 0.6078, 0.5529,  ..., 0.5294, 0.5529, 0.5843]],\n",
       "\n",
       "         [[0.6235, 0.6392, 0.6627,  ..., 0.8706, 0.8706, 0.8706],\n",
       "          [0.6275, 0.6431, 0.6667,  ..., 0.8706, 0.8706, 0.8706],\n",
       "          [0.6353, 0.6510, 0.6706,  ..., 0.8706, 0.8706, 0.8706],\n",
       "          ...,\n",
       "          [0.4745, 0.4196, 0.3804,  ..., 0.4627, 0.4941, 0.5216],\n",
       "          [0.4980, 0.4353, 0.3843,  ..., 0.4078, 0.4353, 0.4667],\n",
       "          [0.5137, 0.4431, 0.3882,  ..., 0.3804, 0.4039, 0.4353]],\n",
       "\n",
       "         [[0.4392, 0.4549, 0.4824,  ..., 0.8784, 0.8784, 0.8784],\n",
       "          [0.4431, 0.4588, 0.4863,  ..., 0.8784, 0.8784, 0.8784],\n",
       "          [0.4510, 0.4667, 0.4902,  ..., 0.8784, 0.8784, 0.8784],\n",
       "          ...,\n",
       "          [0.3176, 0.2627, 0.2314,  ..., 0.3176, 0.3490, 0.3765],\n",
       "          [0.3412, 0.2784, 0.2353,  ..., 0.2627, 0.2902, 0.3216],\n",
       "          [0.3569, 0.2863, 0.2392,  ..., 0.2353, 0.2588, 0.2902]]]])"
      ]
     },
     "execution_count": 81,
     "metadata": {},
     "output_type": "execute_result"
    }
   ],
   "source": [
    "base_data_folder = './data/data_clean'\n",
    "\n",
    "# Define a global transformer to appropriately scale images and subsequently convert them to a Tensor.\n",
    "img_size = 224\n",
    "loader = transforms.Compose([\n",
    "  transforms.Resize(img_size),\n",
    "  transforms.CenterCrop(img_size),\n",
    "  transforms.ToTensor(),\n",
    "]) \n",
    "\n",
    "def load_image(filename):\n",
    "    \"\"\"\n",
    "    Simple function to load and preprocess the image.\n",
    "\n",
    "    1. Open the image.\n",
    "    2. Scale/crop it and convert it to a float tensor.\n",
    "    3. Convert it to a variable (all inputs to PyTorch models must be variables).\n",
    "    4. Add another dimension to the start of the Tensor (b/c VGG expects a batch).\n",
    "    5. Move the variable onto the GPU.\n",
    "    \"\"\"\n",
    "    image = Image.open(filename).convert('RGB')\n",
    "    image_tensor = loader(image).float()\n",
    "    image_var = Variable(image_tensor).unsqueeze(0)\n",
    "    return image_var\n",
    "\n",
    "load_image('data/data_clean/train_data/Drew_Barrymore/aligned_vgg_bfff48d47d2ec61e678fa23f885df73d.jpg')"
   ]
  },
  {
   "cell_type": "code",
   "execution_count": 82,
   "metadata": {},
   "outputs": [
    {
     "name": "stdout",
     "output_type": "stream",
     "text": [
      "Classes:\n",
      "['Aaron_Eckhart', 'Zac_Efron', 'Nicole_Richie', 'Christina_Ricci', 'Julia_Roberts', 'Drew_Barrymore', 'Brad_Pitt', 'Alyssa_Milano', 'Clive_Owen', 'Cristiano_Ronaldo']\n",
      "\n",
      "Training Set Size: 1368\n",
      "\n",
      "Validation Set Size: 100\n",
      "\n",
      "Sample Images:\n",
      "data/data_clean/train_data/Drew_Barrymore/aligned_vgg_bfff48d47d2ec61e678fa23f885df73d.jpg\n",
      "Drew_Barrymore\n",
      "data/data_clean/eval_data/Zac_Efron/aligned_vgg_0c5e844bc8df7d4742c0a6f790a7e6f1 4.46.24 PM.jpg\n",
      "Zac_Efron\n"
     ]
    },
    {
     "data": {
      "text/plain": [
       "tensor([[[[0.4353, 0.4431, 0.4353,  ..., 0.0275, 0.0314, 0.0353],\n",
       "          [0.4314, 0.4392, 0.4353,  ..., 0.0314, 0.0392, 0.0431],\n",
       "          [0.4275, 0.4392, 0.4392,  ..., 0.0392, 0.0471, 0.0510],\n",
       "          ...,\n",
       "          [0.0431, 0.0471, 0.0510,  ..., 0.0157, 0.0157, 0.0157],\n",
       "          [0.0314, 0.0353, 0.0392,  ..., 0.0157, 0.0157, 0.0157],\n",
       "          [0.0275, 0.0314, 0.0353,  ..., 0.0157, 0.0157, 0.0157]],\n",
       "\n",
       "         [[0.4118, 0.4196, 0.4118,  ..., 0.0275, 0.0314, 0.0353],\n",
       "          [0.4078, 0.4157, 0.4118,  ..., 0.0314, 0.0392, 0.0431],\n",
       "          [0.4039, 0.4157, 0.4157,  ..., 0.0392, 0.0471, 0.0510],\n",
       "          ...,\n",
       "          [0.0510, 0.0549, 0.0549,  ..., 0.0157, 0.0157, 0.0157],\n",
       "          [0.0510, 0.0549, 0.0549,  ..., 0.0157, 0.0157, 0.0157],\n",
       "          [0.0471, 0.0510, 0.0549,  ..., 0.0157, 0.0157, 0.0157]],\n",
       "\n",
       "         [[0.2863, 0.2941, 0.2863,  ..., 0.0353, 0.0392, 0.0431],\n",
       "          [0.2824, 0.2902, 0.2863,  ..., 0.0392, 0.0471, 0.0510],\n",
       "          [0.2784, 0.2902, 0.2902,  ..., 0.0471, 0.0549, 0.0588],\n",
       "          ...,\n",
       "          [0.0471, 0.0510, 0.0627,  ..., 0.0157, 0.0157, 0.0157],\n",
       "          [0.0353, 0.0392, 0.0510,  ..., 0.0157, 0.0157, 0.0157],\n",
       "          [0.0314, 0.0353, 0.0392,  ..., 0.0157, 0.0157, 0.0157]]]])"
      ]
     },
     "execution_count": 82,
     "metadata": {},
     "output_type": "execute_result"
    }
   ],
   "source": [
    "# Load Training Data\n",
    "\n",
    "train_data_folder = base_data_folder + '/train_data'\n",
    "\n",
    "class_to_name = ['Aaron_Eckhart', 'Zac_Efron', 'Nicole_Richie', 'Christina_Ricci', 'Julia_Roberts', 'Drew_Barrymore', 'Brad_Pitt', 'Alyssa_Milano', 'Clive_Owen', 'Cristiano_Ronaldo']\n",
    "\n",
    "#class_to_name = [os.path.basename(f.path) for f in os.scandir(train_data_folder) if f.is_dir()]\n",
    "\n",
    "train_id_to_file = {i : path \n",
    "                    for (i,path) in enumerate(Path(train_data_folder).glob(\"*/*.jpg\"))}\n",
    "\n",
    "train_id_to_class = {i : class_to_name.index(os.path.basename(os.path.dirname(str(path))))\n",
    "                     for (i,path) in enumerate(Path(train_data_folder).glob(\"*/*.jpg\"))}\n",
    "\n",
    "train_ids = list(train_id_to_file.keys())\n",
    "\n",
    "# Load Validation Data\n",
    "\n",
    "val_data_folder = base_data_folder + '/eval_data'\n",
    "\n",
    "val_id_to_file = {i : path \n",
    "                    for (i,path) in enumerate(Path(val_data_folder).glob(\"*/*.jpg\"))}\n",
    "\n",
    "val_id_to_class = {i : class_to_name.index(os.path.basename(os.path.dirname(str(path))))\n",
    "                     for (i,path) in enumerate(Path(val_data_folder).glob(\"*/*.jpg\"))}\n",
    "\n",
    "val_ids = list(val_id_to_file.keys())\n",
    "\n",
    "\n",
    "print(\"Classes:\")\n",
    "print(class_to_name)\n",
    "\n",
    "print(\"\\nTraining Set Size: %s\" % len(train_ids))\n",
    "print(\"\\nValidation Set Size: %s\" % len(val_ids))\n",
    "\n",
    "print(\"\\nSample Images:\")\n",
    "print(train_id_to_file[len(train_ids)-1])\n",
    "print(class_to_name[train_id_to_class[len(train_ids)-1]])\n",
    "\n",
    "load_image(train_id_to_file[len(train_ids)-1])\n",
    "\n",
    "print(val_id_to_file[0])\n",
    "print(class_to_name[val_id_to_class[0]])\n",
    "\n",
    "load_image(val_id_to_file[0])"
   ]
  },
  {
   "cell_type": "code",
   "execution_count": 83,
   "metadata": {},
   "outputs": [
    {
     "name": "stdout",
     "output_type": "stream",
     "text": [
      "FaceClassifier(\n",
      "  (model): Vgg_face_dag(\n",
      "    (conv1_1): Conv2d(3, 64, kernel_size=[3, 3], stride=(1, 1), padding=(1, 1))\n",
      "    (relu1_1): ReLU(inplace)\n",
      "    (conv1_2): Conv2d(64, 64, kernel_size=[3, 3], stride=(1, 1), padding=(1, 1))\n",
      "    (relu1_2): ReLU(inplace)\n",
      "    (pool1): MaxPool2d(kernel_size=[2, 2], stride=[2, 2], padding=0, dilation=1, ceil_mode=False)\n",
      "    (conv2_1): Conv2d(64, 128, kernel_size=[3, 3], stride=(1, 1), padding=(1, 1))\n",
      "    (relu2_1): ReLU(inplace)\n",
      "    (conv2_2): Conv2d(128, 128, kernel_size=[3, 3], stride=(1, 1), padding=(1, 1))\n",
      "    (relu2_2): ReLU(inplace)\n",
      "    (pool2): MaxPool2d(kernel_size=[2, 2], stride=[2, 2], padding=0, dilation=1, ceil_mode=False)\n",
      "    (conv3_1): Conv2d(128, 256, kernel_size=[3, 3], stride=(1, 1), padding=(1, 1))\n",
      "    (relu3_1): ReLU(inplace)\n",
      "    (conv3_2): Conv2d(256, 256, kernel_size=[3, 3], stride=(1, 1), padding=(1, 1))\n",
      "    (relu3_2): ReLU(inplace)\n",
      "    (conv3_3): Conv2d(256, 256, kernel_size=[3, 3], stride=(1, 1), padding=(1, 1))\n",
      "    (relu3_3): ReLU(inplace)\n",
      "    (pool3): MaxPool2d(kernel_size=[2, 2], stride=[2, 2], padding=0, dilation=1, ceil_mode=False)\n",
      "    (conv4_1): Conv2d(256, 512, kernel_size=[3, 3], stride=(1, 1), padding=(1, 1))\n",
      "    (relu4_1): ReLU(inplace)\n",
      "    (conv4_2): Conv2d(512, 512, kernel_size=[3, 3], stride=(1, 1), padding=(1, 1))\n",
      "    (relu4_2): ReLU(inplace)\n",
      "    (conv4_3): Conv2d(512, 512, kernel_size=[3, 3], stride=(1, 1), padding=(1, 1))\n",
      "    (relu4_3): ReLU(inplace)\n",
      "    (pool4): MaxPool2d(kernel_size=[2, 2], stride=[2, 2], padding=0, dilation=1, ceil_mode=False)\n",
      "    (conv5_1): Conv2d(512, 512, kernel_size=[3, 3], stride=(1, 1), padding=(1, 1))\n",
      "    (relu5_1): ReLU(inplace)\n",
      "    (conv5_2): Conv2d(512, 512, kernel_size=[3, 3], stride=(1, 1), padding=(1, 1))\n",
      "    (relu5_2): ReLU(inplace)\n",
      "    (conv5_3): Conv2d(512, 512, kernel_size=[3, 3], stride=(1, 1), padding=(1, 1))\n",
      "    (relu5_3): ReLU(inplace)\n",
      "    (pool5): MaxPool2d(kernel_size=[2, 2], stride=[2, 2], padding=0, dilation=1, ceil_mode=False)\n",
      "    (fc6): Linear(in_features=25088, out_features=4096, bias=True)\n",
      "    (relu6): ReLU(inplace)\n",
      "    (dropout6): Dropout(p=0.5)\n",
      "    (fc7): Linear(in_features=4096, out_features=4096, bias=True)\n",
      "    (relu7): ReLU(inplace)\n",
      "    (dropout7): Dropout(p=0.5)\n",
      "    (fc8): Linear(in_features=4096, out_features=10, bias=True)\n",
      "  )\n",
      ")\n"
     ]
    }
   ],
   "source": [
    "# Create the model\n",
    "\n",
    "model = classifier.FaceClassifier()\n",
    "\n",
    "if torch.cuda.is_available():\n",
    "    model = model.cuda()\n",
    "    \n",
    "print(model)"
   ]
  },
  {
   "cell_type": "code",
   "execution_count": 84,
   "metadata": {},
   "outputs": [
    {
     "name": "stdout",
     "output_type": "stream",
     "text": [
      "Loading training images...\n"
     ]
    },
    {
     "data": {
      "application/vnd.jupyter.widget-view+json": {
       "model_id": "c2eaba2c680c49789ddfa7f12f48c22b",
       "version_major": 2,
       "version_minor": 0
      },
      "text/plain": [
       "HBox(children=(IntProgress(value=0, max=1368), HTML(value='')))"
      ]
     },
     "metadata": {},
     "output_type": "display_data"
    },
    {
     "name": "stdout",
     "output_type": "stream",
     "text": [
      "Loading validation images...\n"
     ]
    },
    {
     "data": {
      "application/vnd.jupyter.widget-view+json": {
       "model_id": "af9bbedda3964d43ba4bd99059474459",
       "version_major": 2,
       "version_minor": 0
      },
      "text/plain": [
       "HBox(children=(IntProgress(value=0), HTML(value='')))"
      ]
     },
     "metadata": {},
     "output_type": "display_data"
    }
   ],
   "source": [
    "# Load Training Images and Labels\n",
    "\n",
    "print('Loading training images...')\n",
    "\n",
    "#train_ids = train_ids[:50]\n",
    "\n",
    "images = Variable(torch.zeros((len(train_ids),3,img_size,img_size)))\n",
    "labels = Variable(torch.zeros(len(train_ids)).long())\n",
    "\n",
    "for i,train_id in enumerate(tqdm(train_ids)):\n",
    "    # Prepare the image tensors\n",
    "    images[i] = load_image(train_id_to_file[train_id])\n",
    "    \n",
    "    # Prepare the labels\n",
    "    labels[i] = train_id_to_class[train_id]\n",
    "\n",
    "# Load Validation Images and Labels\n",
    "\n",
    "print('Loading validation images...')\n",
    "\n",
    "val_images = Variable(torch.zeros((len(val_ids),3,img_size,img_size)))\n",
    "val_labels = Variable(torch.zeros(len(val_ids)).long())\n",
    "\n",
    "for i,val_id in enumerate(tqdm(val_ids)):\n",
    "    # Prepare the image tensors\n",
    "    val_images[i] = load_image(val_id_to_file[val_id])\n",
    "    \n",
    "    # Prepare the labels\n",
    "    val_labels[i] = val_id_to_class[val_id]\n",
    "\n",
    "X = images\n",
    "y = labels\n",
    "\n",
    "X_val = val_images\n",
    "y_val = val_labels"
   ]
  },
  {
   "cell_type": "code",
   "execution_count": 85,
   "metadata": {},
   "outputs": [],
   "source": [
    "# # Fine-tune and save the model\n",
    "\n",
    "# print('Fine-tuning the model...')\n",
    "\n",
    "# model.tune(X, y, X_val, y_val)\n",
    "\n",
    "# print('Saving the model...')\n",
    "\n",
    "# filename = 'model/tuned_classifier.pth'\n",
    "# torch.save(model.state_dict(), filename)\n",
    "\n",
    "# print('Model saved as %s' % filename)"
   ]
  },
  {
   "cell_type": "code",
   "execution_count": 86,
   "metadata": {},
   "outputs": [
    {
     "name": "stdout",
     "output_type": "stream",
     "text": [
      "FaceClassifier(\n",
      "  (model): Vgg_face_dag(\n",
      "    (conv1_1): Conv2d(3, 64, kernel_size=[3, 3], stride=(1, 1), padding=(1, 1))\n",
      "    (relu1_1): ReLU(inplace)\n",
      "    (conv1_2): Conv2d(64, 64, kernel_size=[3, 3], stride=(1, 1), padding=(1, 1))\n",
      "    (relu1_2): ReLU(inplace)\n",
      "    (pool1): MaxPool2d(kernel_size=[2, 2], stride=[2, 2], padding=0, dilation=1, ceil_mode=False)\n",
      "    (conv2_1): Conv2d(64, 128, kernel_size=[3, 3], stride=(1, 1), padding=(1, 1))\n",
      "    (relu2_1): ReLU(inplace)\n",
      "    (conv2_2): Conv2d(128, 128, kernel_size=[3, 3], stride=(1, 1), padding=(1, 1))\n",
      "    (relu2_2): ReLU(inplace)\n",
      "    (pool2): MaxPool2d(kernel_size=[2, 2], stride=[2, 2], padding=0, dilation=1, ceil_mode=False)\n",
      "    (conv3_1): Conv2d(128, 256, kernel_size=[3, 3], stride=(1, 1), padding=(1, 1))\n",
      "    (relu3_1): ReLU(inplace)\n",
      "    (conv3_2): Conv2d(256, 256, kernel_size=[3, 3], stride=(1, 1), padding=(1, 1))\n",
      "    (relu3_2): ReLU(inplace)\n",
      "    (conv3_3): Conv2d(256, 256, kernel_size=[3, 3], stride=(1, 1), padding=(1, 1))\n",
      "    (relu3_3): ReLU(inplace)\n",
      "    (pool3): MaxPool2d(kernel_size=[2, 2], stride=[2, 2], padding=0, dilation=1, ceil_mode=False)\n",
      "    (conv4_1): Conv2d(256, 512, kernel_size=[3, 3], stride=(1, 1), padding=(1, 1))\n",
      "    (relu4_1): ReLU(inplace)\n",
      "    (conv4_2): Conv2d(512, 512, kernel_size=[3, 3], stride=(1, 1), padding=(1, 1))\n",
      "    (relu4_2): ReLU(inplace)\n",
      "    (conv4_3): Conv2d(512, 512, kernel_size=[3, 3], stride=(1, 1), padding=(1, 1))\n",
      "    (relu4_3): ReLU(inplace)\n",
      "    (pool4): MaxPool2d(kernel_size=[2, 2], stride=[2, 2], padding=0, dilation=1, ceil_mode=False)\n",
      "    (conv5_1): Conv2d(512, 512, kernel_size=[3, 3], stride=(1, 1), padding=(1, 1))\n",
      "    (relu5_1): ReLU(inplace)\n",
      "    (conv5_2): Conv2d(512, 512, kernel_size=[3, 3], stride=(1, 1), padding=(1, 1))\n",
      "    (relu5_2): ReLU(inplace)\n",
      "    (conv5_3): Conv2d(512, 512, kernel_size=[3, 3], stride=(1, 1), padding=(1, 1))\n",
      "    (relu5_3): ReLU(inplace)\n",
      "    (pool5): MaxPool2d(kernel_size=[2, 2], stride=[2, 2], padding=0, dilation=1, ceil_mode=False)\n",
      "    (fc6): Linear(in_features=25088, out_features=4096, bias=True)\n",
      "    (relu6): ReLU(inplace)\n",
      "    (dropout6): Dropout(p=0.5)\n",
      "    (fc7): Linear(in_features=4096, out_features=4096, bias=True)\n",
      "    (relu7): ReLU(inplace)\n",
      "    (dropout7): Dropout(p=0.5)\n",
      "    (fc8): Linear(in_features=4096, out_features=10, bias=True)\n",
      "  )\n",
      ")\n"
     ]
    }
   ],
   "source": [
    "# Load the model\n",
    "\n",
    "model = classifier.FaceClassifier()\n",
    "\n",
    "if torch.cuda.is_available():\n",
    "    model = model.cuda()\n",
    "    \n",
    "model.load_state_dict(torch.load('model/tuned_classifier.pth', map_location='cpu'))\n",
    "\n",
    "model = model.eval()    \n",
    "\n",
    "print(model)"
   ]
  },
  {
   "cell_type": "code",
   "execution_count": 87,
   "metadata": {},
   "outputs": [],
   "source": [
    "# Define a function for clustering activations\n",
    "\n",
    "def cluster_activations(activations, n_dims=10):\n",
    "    \"\"\"\n",
    "    Cluster the activations after reducing dimensions to n_dims\n",
    "    \"\"\"\n",
    "    \n",
    "    transformer = FastICA(n_components=n_dims, random_state=10)\n",
    "    activations_transformed = transformer.fit_transform(activations)\n",
    "    \n",
    "    cluster_labels = KMeans(n_clusters=2, random_state=10).fit_predict(activations_transformed)\n",
    "    \n",
    "    return activations_transformed, cluster_labels\n",
    "\n",
    "# Define a function for segmenting the dataset by class\n",
    "\n",
    "def segment_by_class(X, y, class_id):\n",
    "    \"\"\"\n",
    "    Returns only the items from X and y that are in the given class_id\n",
    "    \"\"\"\n",
    "    \n",
    "    n = np.sum((y == class_id).numpy())\n",
    "    \n",
    "    X_segment = Variable(torch.zeros(n,3,img_size,img_size))\n",
    "    y_segment = Variable(torch.zeros(n).long())\n",
    "    \n",
    "    index = 0\n",
    "    \n",
    "    for i, label in enumerate(y):\n",
    "        if label == class_id:\n",
    "            X_segment[index] = X[i]\n",
    "            y_segment[index] = y[i]\n",
    "            index += 1\n",
    "        \n",
    "    return X_segment, y_segment"
   ]
  },
  {
   "cell_type": "code",
   "execution_count": 88,
   "metadata": {},
   "outputs": [
    {
     "data": {
      "application/vnd.jupyter.widget-view+json": {
       "model_id": "6c45c32156a244b086b4ed7a950e3dc5",
       "version_major": 2,
       "version_minor": 0
      },
      "text/plain": [
       "HBox(children=(IntProgress(value=0, max=208), HTML(value='')))"
      ]
     },
     "metadata": {},
     "output_type": "display_data"
    },
    {
     "name": "stdout",
     "output_type": "stream",
     "text": [
      "(208, 10)\n",
      "[0 0 0 0 0 1 0 0 0 0 0 0 0 0 0 0 1 0 0 0 0 0 0 0 0 0 0 0 0 0 0 0 0 0 0 0 0\n",
      " 0 0 0 0 0 0 0 0 0 0 0 0 0 0 0 0 0 0 0 0 0 0 0 0 0 0 0 0 0 0 0 0 0 0 0 0 0\n",
      " 0 0 0 0 0 0 0 0 0 0 0 0 0 0 0 0 0 0 0 0 0 0 0 0 0 0 0 0 0 0 0 0 0 0 0 0 0\n",
      " 0 0 0 0 0 0 0 0 0 0 0 0 0 0 0 0 0 0 0 0 0 0 0 0 0 0 0 0 0 0 0 0 0 1 0 0 0\n",
      " 0 0 0 0 0 0 0 0 0 0 1 0 0 0 0 0 0 0 0 0 0 0 0 0 0 0 0 0 0 0 0 0 0 0 0 0 0\n",
      " 0 0 0 0 0 0 0 0 0 0 0 0 0 0 0 0 0 0 0 0 0 0 0]\n"
     ]
    },
    {
     "data": {
      "application/vnd.jupyter.widget-view+json": {
       "model_id": "ee8fe6d1e77e4dc0a0779928f77237c0",
       "version_major": 2,
       "version_minor": 0
      },
      "text/plain": [
       "HBox(children=(IntProgress(value=0, max=171), HTML(value='')))"
      ]
     },
     "metadata": {},
     "output_type": "display_data"
    },
    {
     "name": "stdout",
     "output_type": "stream",
     "text": [
      "(171, 10)\n",
      "[1 0 1 0 0 1 1 0 1 1 0 0 0 0 0 0 1 1 1 0 0 0 0 1 1 0 1 1 1 1 1 0 0 0 0 0 1\n",
      " 1 0 0 0 0 1 0 0 1 0 1 1 0 0 0 1 1 1 1 1 1 0 0 1 1 0 0 0 0 0 0 1 0 0 1 0 1\n",
      " 1 0 0 1 0 0 0 0 1 0 1 1 1 1 0 1 0 0 0 0 0 0 1 1 1 1 1 1 0 1 1 1 1 1 0 0 1\n",
      " 1 0 0 0 1 1 0 1 0 1 0 1 0 0 0 1 1 0 1 1 0 0 1 1 0 1 0 0 1 0 0 0 1 0 0 1 1\n",
      " 1 1 0 1 1 1 0 1 0 0 1 1 1 1 0 0 1 0 1 1 1 0 0]\n"
     ]
    },
    {
     "name": "stderr",
     "output_type": "stream",
     "text": [
      "/anaconda3/lib/python3.6/site-packages/sklearn/decomposition/fastica_.py:121: ConvergenceWarning: FastICA did not converge. Consider increasing tolerance or the maximum number of iterations.\n",
      "  ConvergenceWarning)\n"
     ]
    },
    {
     "data": {
      "application/vnd.jupyter.widget-view+json": {
       "model_id": "ccdf8c8549c349f59dcb7e9098412348",
       "version_major": 2,
       "version_minor": 0
      },
      "text/plain": [
       "HBox(children=(IntProgress(value=0, max=103), HTML(value='')))"
      ]
     },
     "metadata": {},
     "output_type": "display_data"
    },
    {
     "name": "stdout",
     "output_type": "stream",
     "text": [
      "(103, 10)\n",
      "[1 0 0 0 0 0 1 1 1 0 1 0 1 1 1 1 1 1 1 0 1 0 1 1 0 0 1 1 1 1 1 0 0 1 1 1 0\n",
      " 0 0 0 0 1 1 0 1 1 0 0 1 1 1 1 0 1 0 1 1 1 0 1 0 0 1 0 1 0 1 1 0 1 1 1 1 0\n",
      " 1 1 1 0 0 0 0 1 0 1 1 1 1 0 1 1 1 0 1 1 1 0 1 1 0 0 1 0 1]\n"
     ]
    },
    {
     "data": {
      "application/vnd.jupyter.widget-view+json": {
       "model_id": "7fec15a81333465983371e8130e5be2a",
       "version_major": 2,
       "version_minor": 0
      },
      "text/plain": [
       "HBox(children=(IntProgress(value=0, max=91), HTML(value='')))"
      ]
     },
     "metadata": {},
     "output_type": "display_data"
    },
    {
     "name": "stdout",
     "output_type": "stream",
     "text": [
      "(91, 10)\n",
      "[0 0 1 1 1 1 1 0 0 0 0 0 1 0 1 1 0 0 1 1 1 1 1 0 1 1 1 1 1 1 1 0 1 0 0 0 0\n",
      " 1 1 1 1 1 1 1 1 1 1 1 1 1 0 1 1 1 1 1 1 1 0 0 1 1 1 1 1 1 1 1 1 0 1 1 0 0\n",
      " 1 0 1 0 0 0 1 1 1 1 1 1 1 0 1 1 1]\n"
     ]
    },
    {
     "name": "stderr",
     "output_type": "stream",
     "text": [
      "/anaconda3/lib/python3.6/site-packages/sklearn/decomposition/fastica_.py:121: ConvergenceWarning: FastICA did not converge. Consider increasing tolerance or the maximum number of iterations.\n",
      "  ConvergenceWarning)\n"
     ]
    },
    {
     "data": {
      "application/vnd.jupyter.widget-view+json": {
       "model_id": "d08dc5a2cdbe4af990ef09e91daf6198",
       "version_major": 2,
       "version_minor": 0
      },
      "text/plain": [
       "HBox(children=(IntProgress(value=0, max=117), HTML(value='')))"
      ]
     },
     "metadata": {},
     "output_type": "display_data"
    },
    {
     "name": "stderr",
     "output_type": "stream",
     "text": [
      "/anaconda3/lib/python3.6/site-packages/sklearn/decomposition/fastica_.py:121: ConvergenceWarning: FastICA did not converge. Consider increasing tolerance or the maximum number of iterations.\n",
      "  ConvergenceWarning)\n"
     ]
    },
    {
     "name": "stdout",
     "output_type": "stream",
     "text": [
      "(117, 10)\n",
      "[0 0 0 0 0 1 0 0 0 0 1 1 0 0 0 0 0 1 0 0 0 1 1 0 0 0 0 1 1 0 0 1 0 0 1 1 1\n",
      " 0 0 1 1 0 0 0 0 1 1 0 0 0 1 0 1 1 0 0 1 0 0 1 1 1 0 0 0 0 0 0 0 0 0 1 0 0\n",
      " 0 0 0 0 1 0 0 1 0 0 1 0 1 0 0 0 0 1 0 0 1 0 0 0 1 0 0 1 1 1 0 0 0 1 0 0 1\n",
      " 1 0 1 1 1 0]\n"
     ]
    },
    {
     "data": {
      "application/vnd.jupyter.widget-view+json": {
       "model_id": "35cbddc1f8b44e1ea6ca092fa7ba79c9",
       "version_major": 2,
       "version_minor": 0
      },
      "text/plain": [
       "HBox(children=(IntProgress(value=0, max=120), HTML(value='')))"
      ]
     },
     "metadata": {},
     "output_type": "display_data"
    },
    {
     "name": "stdout",
     "output_type": "stream",
     "text": [
      "(120, 10)\n",
      "[1 0 0 1 0 1 0 1 1 0 1 0 1 1 0 1 0 0 0 1 0 0 1 0 0 0 1 0 0 0 0 1 0 1 0 0 0\n",
      " 0 1 0 0 0 1 0 1 0 0 0 1 0 0 0 0 1 1 0 1 0 1 0 0 0 0 0 0 1 0 0 1 1 0 0 0 0\n",
      " 1 0 0 1 0 0 0 1 0 1 0 0 0 0 1 0 1 0 0 1 1 0 0 1 0 0 0 0 0 0 0 0 0 1 0 0 1\n",
      " 0 0 0 0 1 0 1 0 1]\n"
     ]
    },
    {
     "name": "stderr",
     "output_type": "stream",
     "text": [
      "/anaconda3/lib/python3.6/site-packages/sklearn/decomposition/fastica_.py:121: ConvergenceWarning: FastICA did not converge. Consider increasing tolerance or the maximum number of iterations.\n",
      "  ConvergenceWarning)\n"
     ]
    },
    {
     "data": {
      "application/vnd.jupyter.widget-view+json": {
       "model_id": "090feeae4c2b466f8f60cfec5bf7e61a",
       "version_major": 2,
       "version_minor": 0
      },
      "text/plain": [
       "HBox(children=(IntProgress(value=0, max=219), HTML(value='')))"
      ]
     },
     "metadata": {},
     "output_type": "display_data"
    },
    {
     "name": "stdout",
     "output_type": "stream",
     "text": [
      "(219, 10)\n",
      "[0 0 0 0 0 0 0 0 0 0 0 0 1 0 0 0 0 0 0 1 0 0 0 0 0 0 0 0 0 0 0 0 0 0 0 1 0\n",
      " 1 0 0 0 0 0 0 0 0 0 0 0 0 0 0 0 0 0 0 0 0 0 0 1 0 0 0 0 0 1 0 0 0 0 0 0 0\n",
      " 0 0 1 0 0 1 0 0 0 0 1 0 0 0 0 0 0 0 0 0 0 0 1 0 0 0 0 0 0 0 0 0 0 0 0 0 0\n",
      " 0 0 0 0 0 1 0 0 0 0 0 0 0 0 0 0 0 0 0 1 0 0 0 1 0 0 0 0 0 0 0 0 0 0 0 0 0\n",
      " 0 0 0 1 0 0 0 0 0 0 0 0 0 0 0 0 0 0 1 0 0 1 0 0 0 1 0 0 0 0 0 0 0 1 0 0 0\n",
      " 0 0 0 0 0 0 0 0 1 0 0 0 1 0 0 0 0 0 0 1 0 1 0 0 0 0 0 0 0 0 0 0 0 0]\n"
     ]
    },
    {
     "data": {
      "application/vnd.jupyter.widget-view+json": {
       "model_id": "9cea161caa6a4fc58c56178bcfa5981e",
       "version_major": 2,
       "version_minor": 0
      },
      "text/plain": [
       "HBox(children=(IntProgress(value=0, max=111), HTML(value='')))"
      ]
     },
     "metadata": {},
     "output_type": "display_data"
    },
    {
     "name": "stdout",
     "output_type": "stream",
     "text": [
      "(111, 10)\n",
      "[0 0 1 1 0 1 1 1 1 0 1 0 0 1 1 0 1 0 1 1 0 0 1 0 0 0 0 1 1 0 0 1 1 1 0 0 1\n",
      " 1 0 1 1 1 0 1 0 0 0 1 1 0 0 1 1 1 1 1 1 1 0 1 1 0 1 1 1 1 0 1 0 0 1 1 0 0\n",
      " 1 1 0 1 1 0 1 0 1 1 0 1 1 1 1 0 0 1 0 1 1 0 0 1 0 1 0 0 0 0 1 0 1 1 0 1 0]\n"
     ]
    },
    {
     "name": "stderr",
     "output_type": "stream",
     "text": [
      "/anaconda3/lib/python3.6/site-packages/sklearn/decomposition/fastica_.py:121: ConvergenceWarning: FastICA did not converge. Consider increasing tolerance or the maximum number of iterations.\n",
      "  ConvergenceWarning)\n"
     ]
    },
    {
     "data": {
      "application/vnd.jupyter.widget-view+json": {
       "model_id": "7230cc2e334b417d8761866bc66c87b3",
       "version_major": 2,
       "version_minor": 0
      },
      "text/plain": [
       "HBox(children=(IntProgress(value=0, max=103), HTML(value='')))"
      ]
     },
     "metadata": {},
     "output_type": "display_data"
    },
    {
     "name": "stdout",
     "output_type": "stream",
     "text": [
      "(103, 10)\n",
      "[1 0 1 1 1 1 0 0 0 1 0 1 1 0 1 1 0 1 1 1 1 1 1 1 1 1 1 0 1 1 1 1 1 0 1 1 0\n",
      " 1 1 1 0 1 0 1 1 0 1 0 1 1 0 0 1 1 1 0 1 1 1 1 0 0 1 1 1 1 1 1 0 1 1 1 1 0\n",
      " 1 1 1 1 1 1 1 1 1 0 1 1 1 0 1 1 0 1 1 1 1 1 0 1 1 1 0 1 1]\n"
     ]
    },
    {
     "data": {
      "application/vnd.jupyter.widget-view+json": {
       "model_id": "949f100ecfe44554bc4c081cc78d4ec6",
       "version_major": 2,
       "version_minor": 0
      },
      "text/plain": [
       "HBox(children=(IntProgress(value=0, max=125), HTML(value='')))"
      ]
     },
     "metadata": {},
     "output_type": "display_data"
    },
    {
     "name": "stdout",
     "output_type": "stream",
     "text": [
      "(125, 10)\n",
      "[0 1 0 1 1 1 1 0 1 1 1 0 0 0 0 1 0 0 0 1 1 1 1 0 1 0 1 1 0 1 0 0 1 0 1 0 0\n",
      " 1 1 1 1 1 1 0 1 1 1 0 0 1 0 1 0 0 1 1 1 0 1 1 0 0 1 1 0 1 0 1 0 0 1 1 1 1\n",
      " 0 1 0 1 1 0 0 1 0 0 1 1 1 1 0 0 0 1 1 1 1 1 1 1 0 0 0 0 0 1 1 0 1 0 1 1 1\n",
      " 1 0 1 1 0 1 1 0 1 1 0 1 1 0]\n",
      "[0.44768741030197273, 0.07752015892591928, 0.08316435015591665, 0.08143435162497864, 0.07849253556671038, 0.09072413930901642, 0.12935858253284307, 0.07295104887331061, 0.12349067469727336, 0.09021533329964837]\n"
     ]
    }
   ],
   "source": [
    "# Activation clustering\n",
    "\n",
    "segmented_X = []\n",
    "segmented_y = []\n",
    "\n",
    "activations = []\n",
    "\n",
    "activations_transformed = []\n",
    "clusters_labels = []\n",
    "\n",
    "silhouette_scores = []\n",
    "\n",
    "for class_id in range(len(class_to_name)):\n",
    "    seg_X, seg_y = segment_by_class(X,y,class_id)\n",
    "    \n",
    "    \n",
    "    segmented_X.append(seg_X)\n",
    "    segmented_y.append(seg_y)\n",
    "    \n",
    "    acts = model.get_activations(seg_X)\n",
    "    activations.append(acts)\n",
    "    acts_trans, labels = cluster_activations(acts)\n",
    "    \n",
    "    activations_transformed.append(acts_trans)\n",
    "    clusters_labels.append(labels)\n",
    "    \n",
    "    print(acts_trans.shape)\n",
    "    print(labels)\n",
    "    sil_score = silhouette_score(acts_trans, labels)\n",
    "    silhouette_scores.append(sil_score)\n",
    "    print(silhouette_scores)\n",
    "\n",
    "print(silhouette_scores)\n"
   ]
  },
  {
   "cell_type": "markdown",
   "metadata": {},
   "source": [
    "- Use activation clustering on evaluation set\n",
    "- silhouette_score to see if poisonous examples exist\n",
    "- take smaller cluster as suspected poisonous examples"
   ]
  },
  {
   "cell_type": "code",
   "execution_count": null,
   "metadata": {},
   "outputs": [],
   "source": [
    "# Save predictions for unlabeled test set\n",
    "\n",
    "# Concatenate test examples with training set\n",
    "\n",
    "# Get activations, cluster activations\n",
    "\n",
    "# Compute silouette score\n",
    "\n",
    "# Score > 0.12 => poisoned\n",
    "\n",
    "# Smaller cluster \n",
    "\n",
    "# Visualization (first 2 or 3 components of activations)\n"
   ]
  },
  {
   "cell_type": "code",
   "execution_count": null,
   "metadata": {},
   "outputs": [],
   "source": [
    "# Pre-cluster training set\n",
    "\n",
    "# Save predictions for unlabeled test set, get activations\n",
    "\n",
    "# Dimensionality reduction and KNN from predictions to training clusters\n",
    "\n",
    "\n",
    "\n",
    "\n",
    "\n",
    "# Smaller cluster \n",
    "\n",
    "# Visualization (first 2 or 3 components of activations)\n"
   ]
  },
  {
   "cell_type": "code",
   "execution_count": 153,
   "metadata": {},
   "outputs": [],
   "source": [
    "def generate_activations_plot(clean_activations, poison_activations, dims=3, title=None):\n",
    "    \"\"\"\n",
    "    Generates a scatterplot of the activations\n",
    "    \"\"\"\n",
    "    \n",
    "    if dims == 2:        \n",
    "        if clean_activations is not None:\n",
    "            plt.scatter(clean_activations[:,0], clean_activations[:,1], c='b', marker='o', label='Honest')\n",
    "\n",
    "        if poison_activations is not None:\n",
    "            plt.scatter(poison_activations[:,0], poison_activations[:,1], c='r', marker='o', label='Malicious')\n",
    "\n",
    "        plt.xlabel('PC1')\n",
    "        plt.ylabel('PC2')\n",
    "        if title is not None:\n",
    "            plt.title(title)\n",
    "        plt.legend(bbox_to_anchor=(1.05, 1), loc=2)\n",
    "        plt.tight_layout()\n",
    "\n",
    "        plt.show()\n",
    "        return None\n",
    "    elif dims == 3:\n",
    "        fig = plt.figure()\n",
    "        ax = fig.add_subplot(111, projection='3d')\n",
    "\n",
    "        if clean_activations is not None:\n",
    "            ax.scatter(clean_activations[:,0], clean_activations[:,1], clean_activations[:,2], c='b', marker='o', label='Honest')\n",
    "\n",
    "        if poison_activations is not None:\n",
    "            ax.scatter(poison_activations[:,0], poison_activations[:,1], poison_activations[:,2], c='r', marker='o', label='Malicious')\n",
    "\n",
    "        ax.set_xlabel('PC1')\n",
    "        ax.set_ylabel('PC2')\n",
    "        ax.set_zlabel('PC3')\n",
    "        if title is not None:\n",
    "                plt.title(title)\n",
    "        plt.legend(bbox_to_anchor=(1.05, 1), loc=2)\n",
    "        plt.tight_layout()\n",
    "\n",
    "        plt.show()\n",
    "\n",
    "        return None\n",
    "    else:\n",
    "        return None"
   ]
  },
  {
   "cell_type": "code",
   "execution_count": 151,
   "metadata": {},
   "outputs": [
    {
     "data": {
      "image/png": "[encoded data removed]",
      "text/plain": [
       "<Figure size 432x288 with 1 Axes>"
      ]
     },
     "metadata": {
      "needs_background": "light"
     },
     "output_type": "display_data"
    }
   ],
   "source": [
    "generate_activations_plot(activations_transformed[0],None,dims=2,title=\"Activations for Aaron_Eckhart\")"
   ]
  },
  {
   "cell_type": "code",
   "execution_count": 152,
   "metadata": {},
   "outputs": [
    {
     "data": {
      "image/png": "[encoded data removed]",
      "text/plain": [
       "<Figure size 432x288 with 1 Axes>"
      ]
     },
     "metadata": {
      "needs_background": "light"
     },
     "output_type": "display_data"
    }
   ],
   "source": [
    "generate_activations_plot(activations_transformed[0],None,dims=3,title=\"Activations for Aaron_Eckhart\")"
   ]
  },
  {
   "cell_type": "code",
   "execution_count": null,
   "metadata": {},
   "outputs": [],
   "source": []
  }
 ],
 "metadata": {
  "kernelspec": {
   "display_name": "Python 3",
   "language": "python",
   "name": "python3"
  },
  "language_info": {
   "codemirror_mode": {
    "name": "ipython",
    "version": 3
   },
   "file_extension": ".py",
   "mimetype": "text/x-python",
   "name": "python",
   "nbconvert_exporter": "python",
   "pygments_lexer": "ipython3",
   "version": "3.6.8"
  }
 },
 "nbformat": 4,
 "nbformat_minor": 2
}
