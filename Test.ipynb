{
 "cells": [
  {
   "cell_type": "code",
   "execution_count": 1,
   "metadata": {},
   "outputs": [],
   "source": [
    "import os\n",
    "from pathlib import Path\n",
    "from PIL import Image\n",
    "\n",
    "\n",
    "import torch\n",
    "from torchvision import transforms\n",
    "from torch.autograd import Variable\n",
    "\n",
    "from tqdm import tqdm_notebook as tqdm\n",
    "\n",
    "import sys\n",
    "sys.path.insert(0, './model')\n",
    "\n",
    "import model.classifier as classifier"
   ]
  },
  {
   "cell_type": "code",
   "execution_count": 2,
   "metadata": {},
   "outputs": [
    {
     "data": {
      "text/plain": [
       "tensor([[[[0.2824, 0.2863, 0.2902,  ..., 0.9686, 0.9765, 0.9922],\n",
       "          [0.2863, 0.2941, 0.3020,  ..., 0.9569, 0.9686, 0.9922],\n",
       "          [0.2902, 0.3059, 0.3255,  ..., 0.9373, 0.9569, 0.9843],\n",
       "          ...,\n",
       "          [0.4471, 0.4902, 0.5569,  ..., 0.7412, 0.6980, 0.6863],\n",
       "          [0.4275, 0.4627, 0.5176,  ..., 0.7176, 0.6863, 0.6784],\n",
       "          [0.4392, 0.4588, 0.4980,  ..., 0.7020, 0.6745, 0.6745]],\n",
       "\n",
       "         [[0.1608, 0.1647, 0.1686,  ..., 0.8392, 0.8588, 0.8745],\n",
       "          [0.1647, 0.1725, 0.1804,  ..., 0.8275, 0.8510, 0.8745],\n",
       "          [0.1686, 0.1843, 0.2000,  ..., 0.8078, 0.8392, 0.8667],\n",
       "          ...,\n",
       "          [0.2353, 0.2784, 0.3451,  ..., 0.4784, 0.4314, 0.4196],\n",
       "          [0.2196, 0.2510, 0.3059,  ..., 0.4549, 0.4196, 0.4118],\n",
       "          [0.2314, 0.2549, 0.2863,  ..., 0.4392, 0.4078, 0.4078]],\n",
       "\n",
       "         [[0.0784, 0.0824, 0.0863,  ..., 0.7098, 0.7255, 0.7412],\n",
       "          [0.0824, 0.0902, 0.0980,  ..., 0.6980, 0.7176, 0.7412],\n",
       "          [0.0863, 0.1020, 0.1176,  ..., 0.6784, 0.7059, 0.7333],\n",
       "          ...,\n",
       "          [0.0627, 0.0980, 0.1608,  ..., 0.2745, 0.2392, 0.2275],\n",
       "          [0.0471, 0.0706, 0.1216,  ..., 0.2510, 0.2275, 0.2196],\n",
       "          [0.0588, 0.0706, 0.1020,  ..., 0.2353, 0.2157, 0.2157]]]])"
      ]
     },
     "execution_count": 2,
     "metadata": {},
     "output_type": "execute_result"
    }
   ],
   "source": [
    "# Define a global transformer to appropriately scale images and subsequently convert them to a Tensor.\n",
    "img_size = 224\n",
    "loader = transforms.Compose([\n",
    "  transforms.Resize(img_size),\n",
    "  transforms.CenterCrop(img_size),\n",
    "  transforms.ToTensor(),\n",
    "]) \n",
    "\n",
    "def load_image(filename):\n",
    "    \"\"\"\n",
    "    Simple function to load and preprocess the image.\n",
    "\n",
    "    1. Open the image.\n",
    "    2. Scale/crop it and convert it to a float tensor.\n",
    "    3. Convert it to a variable (all inputs to PyTorch models must be variables).\n",
    "    4. Add another dimension to the start of the Tensor (b/c VGG expects a batch).\n",
    "    5. Move the variable onto the GPU.\n",
    "    \"\"\"\n",
    "    image = Image.open(filename).convert('RGB')\n",
    "    image_tensor = loader(image).float()\n",
    "    image_var = Variable(image_tensor).unsqueeze(0)\n",
    "    return image_var\n",
    "\n",
    "load_image('data/train_data/Drew_Barrymore/aligned_vgg_1c503cf0fb1b3178ca39f7c9919b34ad.jpg')"
   ]
  },
  {
   "cell_type": "code",
   "execution_count": 3,
   "metadata": {},
   "outputs": [
    {
     "name": "stdout",
     "output_type": "stream",
     "text": [
      "Classes:\n",
      "['Zac_Efron', 'Cristiano_Ronaldo', 'Aaron_Eckhart', 'Clive_Owen', 'Alyssa_Milano', 'Christina_Ricci', 'Nicole_Richie', 'Brad_Pitt', 'Julia_Roberts', 'Drew_Barrymore']\n",
      "\n",
      "Training Set Size: 1515\n",
      "\n",
      "Sample Image:\n",
      "data/train_data/Drew_Barrymore/aligned_vgg_1c503cf0fb1b3178ca39f7c9919b34ad.jpg\n",
      "Drew_Barrymore\n"
     ]
    },
    {
     "data": {
      "text/plain": [
       "tensor([[[[0.2824, 0.2863, 0.2902,  ..., 0.9686, 0.9765, 0.9922],\n",
       "          [0.2863, 0.2941, 0.3020,  ..., 0.9569, 0.9686, 0.9922],\n",
       "          [0.2902, 0.3059, 0.3255,  ..., 0.9373, 0.9569, 0.9843],\n",
       "          ...,\n",
       "          [0.4471, 0.4902, 0.5569,  ..., 0.7412, 0.6980, 0.6863],\n",
       "          [0.4275, 0.4627, 0.5176,  ..., 0.7176, 0.6863, 0.6784],\n",
       "          [0.4392, 0.4588, 0.4980,  ..., 0.7020, 0.6745, 0.6745]],\n",
       "\n",
       "         [[0.1608, 0.1647, 0.1686,  ..., 0.8392, 0.8588, 0.8745],\n",
       "          [0.1647, 0.1725, 0.1804,  ..., 0.8275, 0.8510, 0.8745],\n",
       "          [0.1686, 0.1843, 0.2000,  ..., 0.8078, 0.8392, 0.8667],\n",
       "          ...,\n",
       "          [0.2353, 0.2784, 0.3451,  ..., 0.4784, 0.4314, 0.4196],\n",
       "          [0.2196, 0.2510, 0.3059,  ..., 0.4549, 0.4196, 0.4118],\n",
       "          [0.2314, 0.2549, 0.2863,  ..., 0.4392, 0.4078, 0.4078]],\n",
       "\n",
       "         [[0.0784, 0.0824, 0.0863,  ..., 0.7098, 0.7255, 0.7412],\n",
       "          [0.0824, 0.0902, 0.0980,  ..., 0.6980, 0.7176, 0.7412],\n",
       "          [0.0863, 0.1020, 0.1176,  ..., 0.6784, 0.7059, 0.7333],\n",
       "          ...,\n",
       "          [0.0627, 0.0980, 0.1608,  ..., 0.2745, 0.2392, 0.2275],\n",
       "          [0.0471, 0.0706, 0.1216,  ..., 0.2510, 0.2275, 0.2196],\n",
       "          [0.0588, 0.0706, 0.1020,  ..., 0.2353, 0.2157, 0.2157]]]])"
      ]
     },
     "execution_count": 3,
     "metadata": {},
     "output_type": "execute_result"
    }
   ],
   "source": [
    "train_data_folder = './data/train_data'\n",
    "\n",
    "class_to_name = [os.path.basename(f.path) for f in os.scandir(train_data_folder) if f.is_dir()]\n",
    "\n",
    "train_id_to_file = {i : path \n",
    "                    for (i,path) in enumerate(Path(train_data_folder).glob(\"*/*.jpg\"))}\n",
    "\n",
    "train_id_to_class = {i : class_to_name.index(os.path.basename(os.path.dirname(path)))\n",
    "                     for (i,path) in enumerate(Path(train_data_folder).glob(\"*/*.jpg\"))}\n",
    "\n",
    "train_ids = list(train_id_to_file.keys())\n",
    "\n",
    "print(\"Classes:\")\n",
    "print(class_to_name)\n",
    "\n",
    "print(\"\\nTraining Set Size: %s\" % len(train_ids))\n",
    "\n",
    "print(\"\\nSample Image:\")\n",
    "print(train_id_to_file[1514])\n",
    "print(class_to_name[train_id_to_class[1514]])\n",
    "\n",
    "load_image(train_id_to_file[1514])"
   ]
  },
  {
   "cell_type": "code",
   "execution_count": 4,
   "metadata": {},
   "outputs": [
    {
     "name": "stdout",
     "output_type": "stream",
     "text": [
      "FaceClassifier(\n",
      "  (model): Vgg_face_dag(\n",
      "    (conv1_1): Conv2d(3, 64, kernel_size=[3, 3], stride=(1, 1), padding=(1, 1))\n",
      "    (relu1_1): ReLU(inplace)\n",
      "    (conv1_2): Conv2d(64, 64, kernel_size=[3, 3], stride=(1, 1), padding=(1, 1))\n",
      "    (relu1_2): ReLU(inplace)\n",
      "    (pool1): MaxPool2d(kernel_size=[2, 2], stride=[2, 2], padding=0, dilation=1, ceil_mode=False)\n",
      "    (conv2_1): Conv2d(64, 128, kernel_size=[3, 3], stride=(1, 1), padding=(1, 1))\n",
      "    (relu2_1): ReLU(inplace)\n",
      "    (conv2_2): Conv2d(128, 128, kernel_size=[3, 3], stride=(1, 1), padding=(1, 1))\n",
      "    (relu2_2): ReLU(inplace)\n",
      "    (pool2): MaxPool2d(kernel_size=[2, 2], stride=[2, 2], padding=0, dilation=1, ceil_mode=False)\n",
      "    (conv3_1): Conv2d(128, 256, kernel_size=[3, 3], stride=(1, 1), padding=(1, 1))\n",
      "    (relu3_1): ReLU(inplace)\n",
      "    (conv3_2): Conv2d(256, 256, kernel_size=[3, 3], stride=(1, 1), padding=(1, 1))\n",
      "    (relu3_2): ReLU(inplace)\n",
      "    (conv3_3): Conv2d(256, 256, kernel_size=[3, 3], stride=(1, 1), padding=(1, 1))\n",
      "    (relu3_3): ReLU(inplace)\n",
      "    (pool3): MaxPool2d(kernel_size=[2, 2], stride=[2, 2], padding=0, dilation=1, ceil_mode=False)\n",
      "    (conv4_1): Conv2d(256, 512, kernel_size=[3, 3], stride=(1, 1), padding=(1, 1))\n",
      "    (relu4_1): ReLU(inplace)\n",
      "    (conv4_2): Conv2d(512, 512, kernel_size=[3, 3], stride=(1, 1), padding=(1, 1))\n",
      "    (relu4_2): ReLU(inplace)\n",
      "    (conv4_3): Conv2d(512, 512, kernel_size=[3, 3], stride=(1, 1), padding=(1, 1))\n",
      "    (relu4_3): ReLU(inplace)\n",
      "    (pool4): MaxPool2d(kernel_size=[2, 2], stride=[2, 2], padding=0, dilation=1, ceil_mode=False)\n",
      "    (conv5_1): Conv2d(512, 512, kernel_size=[3, 3], stride=(1, 1), padding=(1, 1))\n",
      "    (relu5_1): ReLU(inplace)\n",
      "    (conv5_2): Conv2d(512, 512, kernel_size=[3, 3], stride=(1, 1), padding=(1, 1))\n",
      "    (relu5_2): ReLU(inplace)\n",
      "    (conv5_3): Conv2d(512, 512, kernel_size=[3, 3], stride=(1, 1), padding=(1, 1))\n",
      "    (relu5_3): ReLU(inplace)\n",
      "    (pool5): MaxPool2d(kernel_size=[2, 2], stride=[2, 2], padding=0, dilation=1, ceil_mode=False)\n",
      "    (fc6): Linear(in_features=25088, out_features=4096, bias=True)\n",
      "    (relu6): ReLU(inplace)\n",
      "    (dropout6): Dropout(p=0.5)\n",
      "    (fc7): Linear(in_features=4096, out_features=4096, bias=True)\n",
      "    (relu7): ReLU(inplace)\n",
      "    (dropout7): Dropout(p=0.5)\n",
      "    (fc8): Linear(in_features=4096, out_features=10, bias=True)\n",
      "  )\n",
      ")\n"
     ]
    }
   ],
   "source": [
    "model = classifier.FaceClassifier()\n",
    "print(model)"
   ]
  },
  {
   "cell_type": "code",
   "execution_count": null,
   "metadata": {},
   "outputs": [
    {
     "data": {
      "application/vnd.jupyter.widget-view+json": {
       "model_id": "24756d52f96c4624be4adc61c06b0b96",
       "version_major": 2,
       "version_minor": 0
      },
      "text/plain": [
       "HBox(children=(IntProgress(value=0, max=1515), HTML(value='')))"
      ]
     },
     "metadata": {},
     "output_type": "display_data"
    },
    {
     "name": "stdout",
     "output_type": "stream",
     "text": [
      "\n"
     ]
    },
    {
     "data": {
      "application/vnd.jupyter.widget-view+json": {
       "model_id": "a0fcf2aaf0f14b8e8b0e0dbef585ebe6",
       "version_major": 2,
       "version_minor": 0
      },
      "text/plain": [
       "HBox(children=(IntProgress(value=0, max=3), HTML(value='')))"
      ]
     },
     "metadata": {},
     "output_type": "display_data"
    },
    {
     "data": {
      "application/vnd.jupyter.widget-view+json": {
       "model_id": "0205898c974b485ba3ab3aff5e741f2d",
       "version_major": 2,
       "version_minor": 0
      },
      "text/plain": [
       "HBox(children=(IntProgress(value=0, max=31), HTML(value='')))"
      ]
     },
     "metadata": {},
     "output_type": "display_data"
    },
    {
     "name": "stdout",
     "output_type": "stream",
     "text": [
      "[1,     5] loss: 2.279\n",
      "[1,    10] loss: 2.224\n",
      "[1,    15] loss: 2.166\n"
     ]
    }
   ],
   "source": [
    "# TODO - training\n",
    "\n",
    "images = torch.zeros((len(train_ids),3,img_size,img_size))\n",
    "labels = torch.zeros(len(train_ids)).long()\n",
    "\n",
    "for i,train_id in enumerate(tqdm(train_ids)):\n",
    "    # Prepare the image tensors\n",
    "    images[i] = load_image(train_id_to_file[train_id])\n",
    "    \n",
    "    # Prepare the labels\n",
    "    labels[i] = train_id_to_class[train_id]\n",
    "\n",
    "X = images\n",
    "y = labels\n",
    "\n",
    "\n",
    "model.tune(X, y)\n",
    "\n",
    "torch.save(model.state_dict(), 'model/tuned_classifier.pth')"
   ]
  },
  {
   "cell_type": "code",
   "execution_count": null,
   "metadata": {},
   "outputs": [],
   "source": []
  }
 ],
 "metadata": {
  "kernelspec": {
   "display_name": "Python 3",
   "language": "python",
   "name": "python3"
  },
  "language_info": {
   "codemirror_mode": {
    "name": "ipython",
    "version": 3
   },
   "file_extension": ".py",
   "mimetype": "text/x-python",
   "name": "python",
   "nbconvert_exporter": "python",
   "pygments_lexer": "ipython3",
   "version": "3.6.8"
  }
 },
 "nbformat": 4,
 "nbformat_minor": 2
}
