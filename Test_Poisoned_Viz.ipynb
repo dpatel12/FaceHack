{
 "cells": [
  {
   "cell_type": "code",
   "execution_count": 11,
   "metadata": {},
   "outputs": [],
   "source": [
    "import matplotlib.pyplot as plt\n",
    "from mpl_toolkits.mplot3d import Axes3D\n",
    "\n",
    "import numpy as np\n",
    "import os\n",
    "from pathlib import Path\n",
    "from PIL import Image\n",
    "\n",
    "from sklearn.cluster import KMeans\n",
    "from sklearn.decomposition import FastICA\n",
    "from sklearn.metrics import silhouette_score\n",
    "\n",
    "import torch\n",
    "from torchvision import transforms\n",
    "from torch.autograd import Variable\n",
    "\n",
    "from tqdm import tqdm_notebook as tqdm\n",
    "\n",
    "import sys\n",
    "sys.path.insert(0, './model')\n",
    "\n",
    "import model.classifier as classifier"
   ]
  },
  {
   "cell_type": "code",
   "execution_count": 12,
   "metadata": {},
   "outputs": [
    {
     "data": {
      "text/plain": [
       "tensor([[[[0.7451, 0.7608, 0.7843,  ..., 0.8941, 0.8941, 0.8941],\n",
       "          [0.7490, 0.7647, 0.7882,  ..., 0.8941, 0.8941, 0.8941],\n",
       "          [0.7569, 0.7725, 0.7922,  ..., 0.8941, 0.8941, 0.8941],\n",
       "          ...,\n",
       "          [0.6392, 0.5843, 0.5451,  ..., 0.6118, 0.6431, 0.6706],\n",
       "          [0.6627, 0.6000, 0.5490,  ..., 0.5569, 0.5843, 0.6157],\n",
       "          [0.6784, 0.6078, 0.5529,  ..., 0.5294, 0.5529, 0.5843]],\n",
       "\n",
       "         [[0.6235, 0.6392, 0.6627,  ..., 0.8706, 0.8706, 0.8706],\n",
       "          [0.6275, 0.6431, 0.6667,  ..., 0.8706, 0.8706, 0.8706],\n",
       "          [0.6353, 0.6510, 0.6706,  ..., 0.8706, 0.8706, 0.8706],\n",
       "          ...,\n",
       "          [0.4745, 0.4196, 0.3804,  ..., 0.4627, 0.4941, 0.5216],\n",
       "          [0.4980, 0.4353, 0.3843,  ..., 0.4078, 0.4353, 0.4667],\n",
       "          [0.5137, 0.4431, 0.3882,  ..., 0.3804, 0.4039, 0.4353]],\n",
       "\n",
       "         [[0.4392, 0.4549, 0.4824,  ..., 0.8784, 0.8784, 0.8784],\n",
       "          [0.4431, 0.4588, 0.4863,  ..., 0.8784, 0.8784, 0.8784],\n",
       "          [0.4510, 0.4667, 0.4902,  ..., 0.8784, 0.8784, 0.8784],\n",
       "          ...,\n",
       "          [0.3176, 0.2627, 0.2314,  ..., 0.3176, 0.3490, 0.3765],\n",
       "          [0.3412, 0.2784, 0.2353,  ..., 0.2627, 0.2902, 0.3216],\n",
       "          [0.3569, 0.2863, 0.2392,  ..., 0.2353, 0.2588, 0.2902]]]])"
      ]
     },
     "execution_count": 12,
     "metadata": {},
     "output_type": "execute_result"
    }
   ],
   "source": [
    "base_data_folder = './data/data_poisoned'\n",
    "\n",
    "# Define a global transformer to appropriately scale images and subsequently convert them to a Tensor.\n",
    "img_size = 224\n",
    "loader = transforms.Compose([\n",
    "  transforms.Resize(img_size),\n",
    "  transforms.CenterCrop(img_size),\n",
    "  transforms.ToTensor(),\n",
    "]) \n",
    "\n",
    "def load_image(filename):\n",
    "    \"\"\"\n",
    "    Simple function to load and preprocess the image.\n",
    "\n",
    "    1. Open the image.\n",
    "    2. Scale/crop it and convert it to a float tensor.\n",
    "    3. Convert it to a variable (all inputs to PyTorch models must be variables).\n",
    "    4. Add another dimension to the start of the Tensor (b/c VGG expects a batch).\n",
    "    5. Move the variable onto the GPU.\n",
    "    \"\"\"\n",
    "    image = Image.open(filename).convert('RGB')\n",
    "    image_tensor = loader(image).float()\n",
    "    image_var = Variable(image_tensor).unsqueeze(0)\n",
    "    return image_var\n",
    "\n",
    "load_image('data/data_clean/train_data/Drew_Barrymore/aligned_vgg_bfff48d47d2ec61e678fa23f885df73d.jpg')"
   ]
  },
  {
   "cell_type": "code",
   "execution_count": 13,
   "metadata": {},
   "outputs": [
    {
     "name": "stdout",
     "output_type": "stream",
     "text": [
      "Classes:\n",
      "['Aaron_Eckhart', 'Zac_Efron', 'Nicole_Richie', 'Christina_Ricci', 'Julia_Roberts', 'Drew_Barrymore', 'Brad_Pitt', 'Alyssa_Milano', 'Clive_Owen', 'Cristiano_Ronaldo']\n",
      "\n",
      "Training Set Size: 1364\n",
      "\tClean Training Examples: 1364\n",
      "\tPoisoned Training Examples: 0\n",
      "\n",
      "Validation Set Size: 110\n",
      "\tClean Validation Examples: 100\n",
      "\tPoisoned Validation Examples: 10\n",
      "\n",
      "Sample Images:\n",
      "data/data_clean/train_data/Drew_Barrymore/aligned_vgg_bfff48d47d2ec61e678fa23f885df73d.jpg\n",
      "Drew_Barrymore\n",
      "data/data_clean/eval_data/Zac_Efron/aligned_vgg_0c5e844bc8df7d4742c0a6f790a7e6f1 4.46.24 PM.jpg\n",
      "Zac_Efron\n"
     ]
    },
    {
     "data": {
      "text/plain": [
       "tensor([[[[0.4353, 0.4431, 0.4353,  ..., 0.0275, 0.0314, 0.0353],\n",
       "          [0.4314, 0.4392, 0.4353,  ..., 0.0314, 0.0392, 0.0431],\n",
       "          [0.4275, 0.4392, 0.4392,  ..., 0.0392, 0.0471, 0.0510],\n",
       "          ...,\n",
       "          [0.0431, 0.0471, 0.0510,  ..., 0.0157, 0.0157, 0.0157],\n",
       "          [0.0314, 0.0353, 0.0392,  ..., 0.0157, 0.0157, 0.0157],\n",
       "          [0.0275, 0.0314, 0.0353,  ..., 0.0157, 0.0157, 0.0157]],\n",
       "\n",
       "         [[0.4118, 0.4196, 0.4118,  ..., 0.0275, 0.0314, 0.0353],\n",
       "          [0.4078, 0.4157, 0.4118,  ..., 0.0314, 0.0392, 0.0431],\n",
       "          [0.4039, 0.4157, 0.4157,  ..., 0.0392, 0.0471, 0.0510],\n",
       "          ...,\n",
       "          [0.0510, 0.0549, 0.0549,  ..., 0.0157, 0.0157, 0.0157],\n",
       "          [0.0510, 0.0549, 0.0549,  ..., 0.0157, 0.0157, 0.0157],\n",
       "          [0.0471, 0.0510, 0.0549,  ..., 0.0157, 0.0157, 0.0157]],\n",
       "\n",
       "         [[0.2863, 0.2941, 0.2863,  ..., 0.0353, 0.0392, 0.0431],\n",
       "          [0.2824, 0.2902, 0.2863,  ..., 0.0392, 0.0471, 0.0510],\n",
       "          [0.2784, 0.2902, 0.2902,  ..., 0.0471, 0.0549, 0.0588],\n",
       "          ...,\n",
       "          [0.0471, 0.0510, 0.0627,  ..., 0.0157, 0.0157, 0.0157],\n",
       "          [0.0353, 0.0392, 0.0510,  ..., 0.0157, 0.0157, 0.0157],\n",
       "          [0.0314, 0.0353, 0.0392,  ..., 0.0157, 0.0157, 0.0157]]]])"
      ]
     },
     "execution_count": 13,
     "metadata": {},
     "output_type": "execute_result"
    }
   ],
   "source": [
    "# Load Training Data\n",
    "\n",
    "train_data_folder = base_data_folder + '/train_data'\n",
    "\n",
    "class_to_name = ['Aaron_Eckhart', 'Zac_Efron', 'Nicole_Richie', 'Christina_Ricci', 'Julia_Roberts', 'Drew_Barrymore', 'Brad_Pitt', 'Alyssa_Milano', 'Clive_Owen', 'Cristiano_Ronaldo']\n",
    "\n",
    "#class_to_name = [os.path.basename(f.path) for f in os.scandir(train_data_folder) if f.is_dir()]\n",
    "\n",
    "train_id_to_file = {i : path \n",
    "                    for (i,path) in enumerate(Path(train_data_folder).glob(\"*/*.jpg\"))}\n",
    "\n",
    "train_id_to_class = {i : class_to_name.index(os.path.basename(os.path.dirname(str(path))))\n",
    "                     for (i,path) in enumerate(Path(train_data_folder).glob(\"*/*.jpg\"))}\n",
    "\n",
    "train_ids = list(train_id_to_file.keys())\n",
    "\n",
    "# For Visualization, keep track of the clean and poisoned ids\n",
    "train_ids_clean = [ train_id for train_id in train_ids if \"poison\" not in str(train_id_to_file[train_id])]\n",
    "train_ids_poison = [ train_id for train_id in train_ids if \"poison\" in str(train_id_to_file[train_id])]\n",
    "\n",
    "# Load Validation Data\n",
    "\n",
    "val_data_folder = base_data_folder + '/eval_data'\n",
    "\n",
    "val_id_to_file = {i : path \n",
    "                    for (i,path) in enumerate(Path(val_data_folder).glob(\"*/*.jpg\"))}\n",
    "\n",
    "val_id_to_class = {i : class_to_name.index(os.path.basename(os.path.dirname(str(path))))\n",
    "                     for (i,path) in enumerate(Path(val_data_folder).glob(\"*/*.jpg\"))}\n",
    "\n",
    "val_ids = list(val_id_to_file.keys())\n",
    "\n",
    "# For Visualization, keep track of the clean and poisoned ids\n",
    "val_ids_clean = [ val_id for val_id in val_ids if \"poison\" not in str(val_id_to_file[val_id])]\n",
    "val_ids_poison = [ val_id for val_id in val_ids if \"poison\" in str(val_id_to_file[val_id])]\n",
    "\n",
    "print(\"Classes:\")\n",
    "print(class_to_name)\n",
    "\n",
    "print(\"\\nTraining Set Size: %s\" % len(train_ids))\n",
    "print(\"\\tClean Training Examples: %s\"% len(train_ids_clean))\n",
    "print(\"\\tPoisoned Training Examples: %s\"% len(train_ids_poison))\n",
    "print(\"\\nValidation Set Size: %s\" % len(val_ids))\n",
    "print(\"\\tClean Validation Examples: %s\"% len(val_ids_clean))\n",
    "print(\"\\tPoisoned Validation Examples: %s\"% len(val_ids_poison))\n",
    "\n",
    "print(\"\\nSample Images:\")\n",
    "print(train_id_to_file[len(train_ids)-1])\n",
    "print(class_to_name[train_id_to_class[len(train_ids)-1]])\n",
    "\n",
    "load_image(train_id_to_file[len(train_ids)-1])\n",
    "\n",
    "print(val_id_to_file[0])\n",
    "print(class_to_name[val_id_to_class[0]])\n",
    "\n",
    "load_image(val_id_to_file[0])\n"
   ]
  },
  {
   "cell_type": "code",
   "execution_count": 14,
   "metadata": {},
   "outputs": [
    {
     "name": "stdout",
     "output_type": "stream",
     "text": [
      "FaceClassifier(\n",
      "  (model): Vgg_face_dag(\n",
      "    (conv1_1): Conv2d(3, 64, kernel_size=[3, 3], stride=(1, 1), padding=(1, 1))\n",
      "    (relu1_1): ReLU(inplace)\n",
      "    (conv1_2): Conv2d(64, 64, kernel_size=[3, 3], stride=(1, 1), padding=(1, 1))\n",
      "    (relu1_2): ReLU(inplace)\n",
      "    (pool1): MaxPool2d(kernel_size=[2, 2], stride=[2, 2], padding=0, dilation=1, ceil_mode=False)\n",
      "    (conv2_1): Conv2d(64, 128, kernel_size=[3, 3], stride=(1, 1), padding=(1, 1))\n",
      "    (relu2_1): ReLU(inplace)\n",
      "    (conv2_2): Conv2d(128, 128, kernel_size=[3, 3], stride=(1, 1), padding=(1, 1))\n",
      "    (relu2_2): ReLU(inplace)\n",
      "    (pool2): MaxPool2d(kernel_size=[2, 2], stride=[2, 2], padding=0, dilation=1, ceil_mode=False)\n",
      "    (conv3_1): Conv2d(128, 256, kernel_size=[3, 3], stride=(1, 1), padding=(1, 1))\n",
      "    (relu3_1): ReLU(inplace)\n",
      "    (conv3_2): Conv2d(256, 256, kernel_size=[3, 3], stride=(1, 1), padding=(1, 1))\n",
      "    (relu3_2): ReLU(inplace)\n",
      "    (conv3_3): Conv2d(256, 256, kernel_size=[3, 3], stride=(1, 1), padding=(1, 1))\n",
      "    (relu3_3): ReLU(inplace)\n",
      "    (pool3): MaxPool2d(kernel_size=[2, 2], stride=[2, 2], padding=0, dilation=1, ceil_mode=False)\n",
      "    (conv4_1): Conv2d(256, 512, kernel_size=[3, 3], stride=(1, 1), padding=(1, 1))\n",
      "    (relu4_1): ReLU(inplace)\n",
      "    (conv4_2): Conv2d(512, 512, kernel_size=[3, 3], stride=(1, 1), padding=(1, 1))\n",
      "    (relu4_2): ReLU(inplace)\n",
      "    (conv4_3): Conv2d(512, 512, kernel_size=[3, 3], stride=(1, 1), padding=(1, 1))\n",
      "    (relu4_3): ReLU(inplace)\n",
      "    (pool4): MaxPool2d(kernel_size=[2, 2], stride=[2, 2], padding=0, dilation=1, ceil_mode=False)\n",
      "    (conv5_1): Conv2d(512, 512, kernel_size=[3, 3], stride=(1, 1), padding=(1, 1))\n",
      "    (relu5_1): ReLU(inplace)\n",
      "    (conv5_2): Conv2d(512, 512, kernel_size=[3, 3], stride=(1, 1), padding=(1, 1))\n",
      "    (relu5_2): ReLU(inplace)\n",
      "    (conv5_3): Conv2d(512, 512, kernel_size=[3, 3], stride=(1, 1), padding=(1, 1))\n",
      "    (relu5_3): ReLU(inplace)\n",
      "    (pool5): MaxPool2d(kernel_size=[2, 2], stride=[2, 2], padding=0, dilation=1, ceil_mode=False)\n",
      "    (fc6): Linear(in_features=25088, out_features=4096, bias=True)\n",
      "    (relu6): ReLU(inplace)\n",
      "    (dropout6): Dropout(p=0.5)\n",
      "    (fc7): Linear(in_features=4096, out_features=4096, bias=True)\n",
      "    (relu7): ReLU(inplace)\n",
      "    (dropout7): Dropout(p=0.5)\n",
      "    (fc8): Linear(in_features=4096, out_features=10, bias=True)\n",
      "  )\n",
      ")\n"
     ]
    }
   ],
   "source": [
    "# Create the model\n",
    "\n",
    "model = classifier.FaceClassifier()\n",
    "\n",
    "if torch.cuda.is_available():\n",
    "    model = model.cuda()\n",
    "    \n",
    "print(model)"
   ]
  },
  {
   "cell_type": "code",
   "execution_count": 15,
   "metadata": {},
   "outputs": [
    {
     "name": "stdout",
     "output_type": "stream",
     "text": [
      "Loading all training images...\n"
     ]
    },
    {
     "data": {
      "application/vnd.jupyter.widget-view+json": {
       "model_id": "d9e87b456a234f3885f5d9d7fba35923",
       "version_major": 2,
       "version_minor": 0
      },
      "text/plain": [
       "HBox(children=(IntProgress(value=0, max=1364), HTML(value='')))"
      ]
     },
     "metadata": {},
     "output_type": "display_data"
    },
    {
     "name": "stdout",
     "output_type": "stream",
     "text": [
      "\n",
      "Loading all validation images...\n"
     ]
    },
    {
     "data": {
      "application/vnd.jupyter.widget-view+json": {
       "model_id": "f1f1f6da52334b0d87d4cf6100ad2081",
       "version_major": 2,
       "version_minor": 0
      },
      "text/plain": [
       "HBox(children=(IntProgress(value=0, max=110), HTML(value='')))"
      ]
     },
     "metadata": {},
     "output_type": "display_data"
    },
    {
     "name": "stdout",
     "output_type": "stream",
     "text": [
      "\n"
     ]
    }
   ],
   "source": [
    "# Load Training Images and Labels\n",
    "\n",
    "print('Loading all training images...')\n",
    "\n",
    "images = Variable(torch.zeros((len(train_ids),3,img_size,img_size)))\n",
    "labels = Variable(torch.zeros(len(train_ids)).long())\n",
    "\n",
    "for i,train_id in enumerate(tqdm(train_ids)):\n",
    "    # Prepare the image tensors\n",
    "    images[i] = load_image(train_id_to_file[train_id])\n",
    "    \n",
    "    # Prepare the labels\n",
    "    labels[i] = train_id_to_class[train_id]\n",
    "\n",
    "# Load Validation Images and Labels\n",
    "\n",
    "print('Loading all validation images...')\n",
    "\n",
    "val_images = Variable(torch.zeros((len(val_ids),3,img_size,img_size)))\n",
    "val_labels = Variable(torch.zeros(len(val_ids)).long())\n",
    "\n",
    "for i,val_id in enumerate(tqdm(val_ids)):\n",
    "    # Prepare the image tensors\n",
    "    val_images[i] = load_image(val_id_to_file[val_id])\n",
    "    \n",
    "    # Prepare the labels\n",
    "    val_labels[i] = val_id_to_class[val_id]\n",
    "\n",
    "X = images\n",
    "y = labels\n",
    "\n",
    "X_val = val_images\n",
    "y_val = val_labels"
   ]
  },
  {
   "cell_type": "code",
   "execution_count": 16,
   "metadata": {},
   "outputs": [
    {
     "name": "stdout",
     "output_type": "stream",
     "text": [
      "For visualization: Loading all clean training images...\n"
     ]
    },
    {
     "data": {
      "application/vnd.jupyter.widget-view+json": {
       "model_id": "eea4337410ce4a42a61cdcc3d7f26ea5",
       "version_major": 2,
       "version_minor": 0
      },
      "text/plain": [
       "HBox(children=(IntProgress(value=0, max=1364), HTML(value='')))"
      ]
     },
     "metadata": {},
     "output_type": "display_data"
    },
    {
     "name": "stdout",
     "output_type": "stream",
     "text": [
      "\n",
      "For visualization: Loading all poisoned training images...\n"
     ]
    },
    {
     "data": {
      "application/vnd.jupyter.widget-view+json": {
       "model_id": "05b696b8542c41abb6f686569a02853b",
       "version_major": 2,
       "version_minor": 0
      },
      "text/plain": [
       "HBox(children=(IntProgress(value=1, bar_style='info', max=1), HTML(value='')))"
      ]
     },
     "metadata": {},
     "output_type": "display_data"
    },
    {
     "name": "stdout",
     "output_type": "stream",
     "text": [
      "\n",
      "For visualization: Loading all clean validation images...\n"
     ]
    },
    {
     "data": {
      "application/vnd.jupyter.widget-view+json": {
       "model_id": "dcf0d05ed66e49928fd19dd461c6bdb1",
       "version_major": 2,
       "version_minor": 0
      },
      "text/plain": [
       "HBox(children=(IntProgress(value=0), HTML(value='')))"
      ]
     },
     "metadata": {},
     "output_type": "display_data"
    },
    {
     "name": "stdout",
     "output_type": "stream",
     "text": [
      "\n",
      "For visualization: Loading all poisoned validation images...\n"
     ]
    },
    {
     "data": {
      "application/vnd.jupyter.widget-view+json": {
       "model_id": "5e2ea4bf68754518850fc8458ba94fd3",
       "version_major": 2,
       "version_minor": 0
      },
      "text/plain": [
       "HBox(children=(IntProgress(value=0, max=10), HTML(value='')))"
      ]
     },
     "metadata": {},
     "output_type": "display_data"
    },
    {
     "name": "stdout",
     "output_type": "stream",
     "text": [
      "\n"
     ]
    }
   ],
   "source": [
    "# Load Training Images and Labels\n",
    "\n",
    "print('For visualization: Loading all clean training images...')\n",
    "\n",
    "images_clean = Variable(torch.zeros((len(train_ids_clean),3,img_size,img_size)))\n",
    "labels_clean = Variable(torch.zeros(len(train_ids_clean)).long())\n",
    "\n",
    "for i,train_id in enumerate(tqdm(train_ids_clean)):\n",
    "    # Prepare the image tensors\n",
    "    images_clean[i] = load_image(train_id_to_file[train_id])\n",
    "    \n",
    "    # Prepare the labels\n",
    "    labels_clean[i] = train_id_to_class[train_id]\n",
    "\n",
    "print('For visualization: Loading all poisoned training images...')\n",
    "\n",
    "images_poison = Variable(torch.zeros((len(train_ids_poison),3,img_size,img_size)))\n",
    "labels_poison = Variable(torch.zeros(len(train_ids_poison)).long())\n",
    "\n",
    "for i,train_id in enumerate(tqdm(train_ids_poison)):\n",
    "    # Prepare the image tensors\n",
    "    images_poison[i] = load_image(train_id_to_file[train_id])\n",
    "    \n",
    "    # Prepare the labels\n",
    "    labels_poison[i] = train_id_to_class[train_id]\n",
    "    \n",
    "# Load Validation Images and Labels\n",
    "\n",
    "print('For visualization: Loading all clean validation images...')\n",
    "\n",
    "val_images_clean = Variable(torch.zeros((len(val_ids_clean),3,img_size,img_size)))\n",
    "val_labels_clean = Variable(torch.zeros(len(val_ids_clean)).long())\n",
    "\n",
    "for i,val_id in enumerate(tqdm(val_ids_clean)):\n",
    "    # Prepare the image tensors\n",
    "    val_images_clean[i] = load_image(val_id_to_file[val_id])\n",
    "    \n",
    "    # Prepare the labels\n",
    "    val_labels_clean[i] = val_id_to_class[val_id]\n",
    "    \n",
    "print('For visualization: Loading all poisoned validation images...')\n",
    "\n",
    "val_images_poison = Variable(torch.zeros((len(val_ids_poison),3,img_size,img_size)))\n",
    "val_labels_poison = Variable(torch.zeros(len(val_ids_poison)).long())\n",
    "\n",
    "for i,val_id in enumerate(tqdm(val_ids_poison)):\n",
    "    # Prepare the image tensors\n",
    "    val_images_poison[i] = load_image(val_id_to_file[val_id])\n",
    "    \n",
    "    # Prepare the labels\n",
    "    val_labels_poison[i] = val_id_to_class[val_id]\n",
    "\n",
    "X_clean = images_clean\n",
    "y_clean = labels_clean\n",
    "\n",
    "X_poison = images_poison\n",
    "y_poison = labels_poison\n",
    "\n",
    "X_val_clean = val_images_clean\n",
    "y_val_clean = val_labels_clean\n",
    "\n",
    "X_val_poison = val_images_poison\n",
    "y_val_poison = val_labels_poison"
   ]
  },
  {
   "cell_type": "code",
   "execution_count": 17,
   "metadata": {},
   "outputs": [],
   "source": [
    "# # Fine-tune and save the model\n",
    "\n",
    "# print('Fine-tuning the model...')\n",
    "\n",
    "# model.tune(X, y, X_val, y_val)\n",
    "\n",
    "# print('Saving the model...')\n",
    "\n",
    "# filename = 'model/tuned_classifier.pth'\n",
    "# torch.save(model.state_dict(), filename)\n",
    "\n",
    "# print('Model saved as %s' % filename)"
   ]
  },
  {
   "cell_type": "code",
   "execution_count": 18,
   "metadata": {},
   "outputs": [
    {
     "name": "stdout",
     "output_type": "stream",
     "text": [
      "FaceClassifier(\n",
      "  (model): Vgg_face_dag(\n",
      "    (conv1_1): Conv2d(3, 64, kernel_size=[3, 3], stride=(1, 1), padding=(1, 1))\n",
      "    (relu1_1): ReLU(inplace)\n",
      "    (conv1_2): Conv2d(64, 64, kernel_size=[3, 3], stride=(1, 1), padding=(1, 1))\n",
      "    (relu1_2): ReLU(inplace)\n",
      "    (pool1): MaxPool2d(kernel_size=[2, 2], stride=[2, 2], padding=0, dilation=1, ceil_mode=False)\n",
      "    (conv2_1): Conv2d(64, 128, kernel_size=[3, 3], stride=(1, 1), padding=(1, 1))\n",
      "    (relu2_1): ReLU(inplace)\n",
      "    (conv2_2): Conv2d(128, 128, kernel_size=[3, 3], stride=(1, 1), padding=(1, 1))\n",
      "    (relu2_2): ReLU(inplace)\n",
      "    (pool2): MaxPool2d(kernel_size=[2, 2], stride=[2, 2], padding=0, dilation=1, ceil_mode=False)\n",
      "    (conv3_1): Conv2d(128, 256, kernel_size=[3, 3], stride=(1, 1), padding=(1, 1))\n",
      "    (relu3_1): ReLU(inplace)\n",
      "    (conv3_2): Conv2d(256, 256, kernel_size=[3, 3], stride=(1, 1), padding=(1, 1))\n",
      "    (relu3_2): ReLU(inplace)\n",
      "    (conv3_3): Conv2d(256, 256, kernel_size=[3, 3], stride=(1, 1), padding=(1, 1))\n",
      "    (relu3_3): ReLU(inplace)\n",
      "    (pool3): MaxPool2d(kernel_size=[2, 2], stride=[2, 2], padding=0, dilation=1, ceil_mode=False)\n",
      "    (conv4_1): Conv2d(256, 512, kernel_size=[3, 3], stride=(1, 1), padding=(1, 1))\n",
      "    (relu4_1): ReLU(inplace)\n",
      "    (conv4_2): Conv2d(512, 512, kernel_size=[3, 3], stride=(1, 1), padding=(1, 1))\n",
      "    (relu4_2): ReLU(inplace)\n",
      "    (conv4_3): Conv2d(512, 512, kernel_size=[3, 3], stride=(1, 1), padding=(1, 1))\n",
      "    (relu4_3): ReLU(inplace)\n",
      "    (pool4): MaxPool2d(kernel_size=[2, 2], stride=[2, 2], padding=0, dilation=1, ceil_mode=False)\n",
      "    (conv5_1): Conv2d(512, 512, kernel_size=[3, 3], stride=(1, 1), padding=(1, 1))\n",
      "    (relu5_1): ReLU(inplace)\n",
      "    (conv5_2): Conv2d(512, 512, kernel_size=[3, 3], stride=(1, 1), padding=(1, 1))\n",
      "    (relu5_2): ReLU(inplace)\n",
      "    (conv5_3): Conv2d(512, 512, kernel_size=[3, 3], stride=(1, 1), padding=(1, 1))\n",
      "    (relu5_3): ReLU(inplace)\n",
      "    (pool5): MaxPool2d(kernel_size=[2, 2], stride=[2, 2], padding=0, dilation=1, ceil_mode=False)\n",
      "    (fc6): Linear(in_features=25088, out_features=4096, bias=True)\n",
      "    (relu6): ReLU(inplace)\n",
      "    (dropout6): Dropout(p=0.5)\n",
      "    (fc7): Linear(in_features=4096, out_features=4096, bias=True)\n",
      "    (relu7): ReLU(inplace)\n",
      "    (dropout7): Dropout(p=0.5)\n",
      "    (fc8): Linear(in_features=4096, out_features=10, bias=True)\n",
      "  )\n",
      ")\n"
     ]
    }
   ],
   "source": [
    "# Load the model\n",
    "\n",
    "model = classifier.FaceClassifier()\n",
    "\n",
    "if torch.cuda.is_available():\n",
    "    model = model.cuda()\n",
    "    \n",
    "model.load_state_dict(torch.load('model/poison_classifier_Aaron_Eckhart_Nicole_Richie_3.pth', map_location='cpu'))\n",
    "\n",
    "model = model.eval()    \n",
    "\n",
    "print(model)"
   ]
  },
  {
   "cell_type": "code",
   "execution_count": 19,
   "metadata": {},
   "outputs": [],
   "source": [
    "# Define a function for clustering activations\n",
    "\n",
    "def cluster_activations(activations, activations_clean, activations_poison, n_dims=10):\n",
    "    \"\"\"\n",
    "    Cluster the activations after reducing dimensions to n_dims\n",
    "    \"\"\"\n",
    "    \n",
    "    transformer = FastICA(n_components=n_dims, max_iter=600, tol=0.0003, random_state=10)\n",
    "    activations_transformed = transformer.fit_transform(activations)\n",
    "    \n",
    "    activations_transformed_clean = None\n",
    "    if activations_clean is not None and activations_clean.shape[0] > 0:\n",
    "        activations_transformed_clean = transformer.transform(activations_clean)\n",
    "    \n",
    "    activations_transformed_poison = None\n",
    "    if activations_poison is not None and activations_poison.shape[0] > 0:\n",
    "        activations_transformed_poison = transformer.transform(activations_poison)\n",
    "    \n",
    "    cluster_labels = KMeans(n_clusters=2, random_state=10).fit_predict(activations_transformed)\n",
    "    \n",
    "    return activations_transformed, activations_transformed_clean, activations_transformed_poison, cluster_labels\n",
    "\n",
    "# Define a function for segmenting the dataset by class\n",
    "\n",
    "def segment_by_class(X, y, class_id):\n",
    "    \"\"\"\n",
    "    Returns only the items from X and y that are in the given class_id\n",
    "    \"\"\"\n",
    "    \n",
    "    n = np.sum((y == class_id).numpy())\n",
    "    \n",
    "    X_segment = Variable(torch.zeros(n,3,img_size,img_size))\n",
    "    y_segment = Variable(torch.zeros(n).long())\n",
    "    \n",
    "    index = 0\n",
    "    \n",
    "    for i, label in enumerate(y):\n",
    "        if label == class_id:\n",
    "            X_segment[index] = X[i]\n",
    "            y_segment[index] = y[i]\n",
    "            index += 1\n",
    "        \n",
    "    return X_segment, y_segment"
   ]
  },
  {
   "cell_type": "code",
   "execution_count": 20,
   "metadata": {},
   "outputs": [
    {
     "name": "stdout",
     "output_type": "stream",
     "text": [
      "Clustering on Evaluation Set\n",
      "\n",
      "Class: Aaron_Eckhart\n"
     ]
    },
    {
     "data": {
      "application/vnd.jupyter.widget-view+json": {
       "model_id": "24be8a2552ed4dd690c885009909bcda",
       "version_major": 2,
       "version_minor": 0
      },
      "text/plain": [
       "HBox(children=(IntProgress(value=0, max=10), HTML(value='')))"
      ]
     },
     "metadata": {},
     "output_type": "display_data"
    },
    {
     "name": "stdout",
     "output_type": "stream",
     "text": [
      "\n"
     ]
    },
    {
     "data": {
      "application/vnd.jupyter.widget-view+json": {
       "model_id": "d4a058df39d64622b38c074df1e9914d",
       "version_major": 2,
       "version_minor": 0
      },
      "text/plain": [
       "HBox(children=(IntProgress(value=0, max=10), HTML(value='')))"
      ]
     },
     "metadata": {},
     "output_type": "display_data"
    },
    {
     "name": "stdout",
     "output_type": "stream",
     "text": [
      "\n"
     ]
    },
    {
     "data": {
      "application/vnd.jupyter.widget-view+json": {
       "model_id": "2ae9961598254127b4ffcac6dc121b33",
       "version_major": 2,
       "version_minor": 0
      },
      "text/plain": [
       "HBox(children=(IntProgress(value=1, bar_style='info', max=1), HTML(value='')))"
      ]
     },
     "metadata": {},
     "output_type": "display_data"
    },
    {
     "name": "stdout",
     "output_type": "stream",
     "text": [
      "\n",
      "\tSilhouette Score: 0.09762860752953828\n",
      "\n",
      "Class: Zac_Efron\n"
     ]
    },
    {
     "data": {
      "application/vnd.jupyter.widget-view+json": {
       "model_id": "1b177df7bb5f4983a5b1f164863695c4",
       "version_major": 2,
       "version_minor": 0
      },
      "text/plain": [
       "HBox(children=(IntProgress(value=0, max=10), HTML(value='')))"
      ]
     },
     "metadata": {},
     "output_type": "display_data"
    },
    {
     "name": "stdout",
     "output_type": "stream",
     "text": [
      "\n"
     ]
    },
    {
     "data": {
      "application/vnd.jupyter.widget-view+json": {
       "model_id": "6b5a48a60ad54b749e3aedad4b88eeb0",
       "version_major": 2,
       "version_minor": 0
      },
      "text/plain": [
       "HBox(children=(IntProgress(value=0, max=10), HTML(value='')))"
      ]
     },
     "metadata": {},
     "output_type": "display_data"
    },
    {
     "name": "stdout",
     "output_type": "stream",
     "text": [
      "\n"
     ]
    },
    {
     "data": {
      "application/vnd.jupyter.widget-view+json": {
       "model_id": "e9da5bbe7f744f308c68fcafb43e6228",
       "version_major": 2,
       "version_minor": 0
      },
      "text/plain": [
       "HBox(children=(IntProgress(value=1, bar_style='info', max=1), HTML(value='')))"
      ]
     },
     "metadata": {},
     "output_type": "display_data"
    },
    {
     "name": "stdout",
     "output_type": "stream",
     "text": [
      "\n",
      "\tSilhouette Score: 0.03985766752547465\n",
      "\n",
      "Class: Nicole_Richie\n"
     ]
    },
    {
     "data": {
      "application/vnd.jupyter.widget-view+json": {
       "model_id": "5521b7acf906455990ee27da2034b1c9",
       "version_major": 2,
       "version_minor": 0
      },
      "text/plain": [
       "HBox(children=(IntProgress(value=0, max=20), HTML(value='')))"
      ]
     },
     "metadata": {},
     "output_type": "display_data"
    },
    {
     "name": "stdout",
     "output_type": "stream",
     "text": [
      "\n"
     ]
    },
    {
     "data": {
      "application/vnd.jupyter.widget-view+json": {
       "model_id": "028ba506d8bb4877b79b48bac664e81f",
       "version_major": 2,
       "version_minor": 0
      },
      "text/plain": [
       "HBox(children=(IntProgress(value=0, max=10), HTML(value='')))"
      ]
     },
     "metadata": {},
     "output_type": "display_data"
    },
    {
     "name": "stdout",
     "output_type": "stream",
     "text": [
      "\n"
     ]
    },
    {
     "data": {
      "application/vnd.jupyter.widget-view+json": {
       "model_id": "066d37a5209f41a4bbe61cb4d778a15d",
       "version_major": 2,
       "version_minor": 0
      },
      "text/plain": [
       "HBox(children=(IntProgress(value=0, max=10), HTML(value='')))"
      ]
     },
     "metadata": {},
     "output_type": "display_data"
    },
    {
     "name": "stdout",
     "output_type": "stream",
     "text": [
      "\n",
      "\tSilhouette Score: 0.10856500279688971\n",
      "\n",
      "Class: Christina_Ricci\n"
     ]
    },
    {
     "data": {
      "application/vnd.jupyter.widget-view+json": {
       "model_id": "a7917ad31da04ad4a3052140fd5c6dca",
       "version_major": 2,
       "version_minor": 0
      },
      "text/plain": [
       "HBox(children=(IntProgress(value=0, max=10), HTML(value='')))"
      ]
     },
     "metadata": {},
     "output_type": "display_data"
    },
    {
     "name": "stdout",
     "output_type": "stream",
     "text": [
      "\n"
     ]
    },
    {
     "data": {
      "application/vnd.jupyter.widget-view+json": {
       "model_id": "075319a0dd3047cbb25f473dce02cfb2",
       "version_major": 2,
       "version_minor": 0
      },
      "text/plain": [
       "HBox(children=(IntProgress(value=0, max=10), HTML(value='')))"
      ]
     },
     "metadata": {},
     "output_type": "display_data"
    },
    {
     "name": "stdout",
     "output_type": "stream",
     "text": [
      "\n"
     ]
    },
    {
     "data": {
      "application/vnd.jupyter.widget-view+json": {
       "model_id": "f0e98276e2b8477ea8bc413931667c1e",
       "version_major": 2,
       "version_minor": 0
      },
      "text/plain": [
       "HBox(children=(IntProgress(value=1, bar_style='info', max=1), HTML(value='')))"
      ]
     },
     "metadata": {},
     "output_type": "display_data"
    },
    {
     "name": "stdout",
     "output_type": "stream",
     "text": [
      "\n",
      "\tSilhouette Score: 0.07001655600305348\n",
      "\n",
      "Class: Julia_Roberts\n"
     ]
    },
    {
     "data": {
      "application/vnd.jupyter.widget-view+json": {
       "model_id": "a3b7639a29624a56a28d0dae748041f5",
       "version_major": 2,
       "version_minor": 0
      },
      "text/plain": [
       "HBox(children=(IntProgress(value=0, max=10), HTML(value='')))"
      ]
     },
     "metadata": {},
     "output_type": "display_data"
    },
    {
     "name": "stdout",
     "output_type": "stream",
     "text": [
      "\n"
     ]
    },
    {
     "data": {
      "application/vnd.jupyter.widget-view+json": {
       "model_id": "3f98aa3858104c2cb33184a233c03aae",
       "version_major": 2,
       "version_minor": 0
      },
      "text/plain": [
       "HBox(children=(IntProgress(value=0, max=10), HTML(value='')))"
      ]
     },
     "metadata": {},
     "output_type": "display_data"
    },
    {
     "name": "stdout",
     "output_type": "stream",
     "text": [
      "\n"
     ]
    },
    {
     "data": {
      "application/vnd.jupyter.widget-view+json": {
       "model_id": "57c2f7881710470589973c071672e6e3",
       "version_major": 2,
       "version_minor": 0
      },
      "text/plain": [
       "HBox(children=(IntProgress(value=1, bar_style='info', max=1), HTML(value='')))"
      ]
     },
     "metadata": {},
     "output_type": "display_data"
    },
    {
     "name": "stdout",
     "output_type": "stream",
     "text": [
      "\n",
      "\tSilhouette Score: 0.037131861802468\n",
      "\n",
      "Class: Drew_Barrymore\n"
     ]
    },
    {
     "name": "stderr",
     "output_type": "stream",
     "text": [
      "/anaconda3/lib/python3.6/site-packages/sklearn/decomposition/fastica_.py:121: ConvergenceWarning: FastICA did not converge. Consider increasing tolerance or the maximum number of iterations.\n",
      "  ConvergenceWarning)\n"
     ]
    },
    {
     "data": {
      "application/vnd.jupyter.widget-view+json": {
       "model_id": "f065757249fc4fcbbe1d7d9c40fff8cb",
       "version_major": 2,
       "version_minor": 0
      },
      "text/plain": [
       "HBox(children=(IntProgress(value=0, max=10), HTML(value='')))"
      ]
     },
     "metadata": {},
     "output_type": "display_data"
    },
    {
     "name": "stdout",
     "output_type": "stream",
     "text": [
      "\n"
     ]
    },
    {
     "data": {
      "application/vnd.jupyter.widget-view+json": {
       "model_id": "856e2397dd71448794983bb61ad05334",
       "version_major": 2,
       "version_minor": 0
      },
      "text/plain": [
       "HBox(children=(IntProgress(value=0, max=10), HTML(value='')))"
      ]
     },
     "metadata": {},
     "output_type": "display_data"
    },
    {
     "name": "stdout",
     "output_type": "stream",
     "text": [
      "\n"
     ]
    },
    {
     "data": {
      "application/vnd.jupyter.widget-view+json": {
       "model_id": "e2bc1f3ed63049ad895cb4b1b558eea3",
       "version_major": 2,
       "version_minor": 0
      },
      "text/plain": [
       "HBox(children=(IntProgress(value=1, bar_style='info', max=1), HTML(value='')))"
      ]
     },
     "metadata": {},
     "output_type": "display_data"
    },
    {
     "name": "stdout",
     "output_type": "stream",
     "text": [
      "\n",
      "\tSilhouette Score: 0.025625033388502427\n",
      "\n",
      "Class: Brad_Pitt\n"
     ]
    },
    {
     "data": {
      "application/vnd.jupyter.widget-view+json": {
       "model_id": "832a1b6d10a140ff882dae45c31c52eb",
       "version_major": 2,
       "version_minor": 0
      },
      "text/plain": [
       "HBox(children=(IntProgress(value=0, max=10), HTML(value='')))"
      ]
     },
     "metadata": {},
     "output_type": "display_data"
    },
    {
     "name": "stdout",
     "output_type": "stream",
     "text": [
      "\n"
     ]
    },
    {
     "data": {
      "application/vnd.jupyter.widget-view+json": {
       "model_id": "b9c39e80612b46e4af303cfb30d8943d",
       "version_major": 2,
       "version_minor": 0
      },
      "text/plain": [
       "HBox(children=(IntProgress(value=0, max=10), HTML(value='')))"
      ]
     },
     "metadata": {},
     "output_type": "display_data"
    },
    {
     "name": "stdout",
     "output_type": "stream",
     "text": [
      "\n"
     ]
    },
    {
     "data": {
      "application/vnd.jupyter.widget-view+json": {
       "model_id": "d843f8d499bb4351a1011daf979edf66",
       "version_major": 2,
       "version_minor": 0
      },
      "text/plain": [
       "HBox(children=(IntProgress(value=1, bar_style='info', max=1), HTML(value='')))"
      ]
     },
     "metadata": {},
     "output_type": "display_data"
    },
    {
     "name": "stdout",
     "output_type": "stream",
     "text": [
      "\n",
      "\tSilhouette Score: 0.43310672570514885\n",
      "\n",
      "Class: Alyssa_Milano\n"
     ]
    },
    {
     "name": "stderr",
     "output_type": "stream",
     "text": [
      "/anaconda3/lib/python3.6/site-packages/sklearn/decomposition/fastica_.py:121: ConvergenceWarning: FastICA did not converge. Consider increasing tolerance or the maximum number of iterations.\n",
      "  ConvergenceWarning)\n"
     ]
    },
    {
     "data": {
      "application/vnd.jupyter.widget-view+json": {
       "model_id": "35839354c5154f59963b214ee8f01b95",
       "version_major": 2,
       "version_minor": 0
      },
      "text/plain": [
       "HBox(children=(IntProgress(value=0, max=10), HTML(value='')))"
      ]
     },
     "metadata": {},
     "output_type": "display_data"
    },
    {
     "name": "stdout",
     "output_type": "stream",
     "text": [
      "\n"
     ]
    },
    {
     "data": {
      "application/vnd.jupyter.widget-view+json": {
       "model_id": "03cc8ce184034607ae2a21936ff1884a",
       "version_major": 2,
       "version_minor": 0
      },
      "text/plain": [
       "HBox(children=(IntProgress(value=0, max=10), HTML(value='')))"
      ]
     },
     "metadata": {},
     "output_type": "display_data"
    },
    {
     "name": "stdout",
     "output_type": "stream",
     "text": [
      "\n"
     ]
    },
    {
     "data": {
      "application/vnd.jupyter.widget-view+json": {
       "model_id": "ff7be234621a4f4f93e0786720ae994d",
       "version_major": 2,
       "version_minor": 0
      },
      "text/plain": [
       "HBox(children=(IntProgress(value=1, bar_style='info', max=1), HTML(value='')))"
      ]
     },
     "metadata": {},
     "output_type": "display_data"
    },
    {
     "name": "stdout",
     "output_type": "stream",
     "text": [
      "\n",
      "\tSilhouette Score: 0.08420593467355504\n",
      "\n",
      "Class: Clive_Owen\n"
     ]
    },
    {
     "name": "stderr",
     "output_type": "stream",
     "text": [
      "/anaconda3/lib/python3.6/site-packages/sklearn/decomposition/fastica_.py:121: ConvergenceWarning: FastICA did not converge. Consider increasing tolerance or the maximum number of iterations.\n",
      "  ConvergenceWarning)\n"
     ]
    },
    {
     "data": {
      "application/vnd.jupyter.widget-view+json": {
       "model_id": "c96eb1179f8248d3b1657f997633e76a",
       "version_major": 2,
       "version_minor": 0
      },
      "text/plain": [
       "HBox(children=(IntProgress(value=0, max=10), HTML(value='')))"
      ]
     },
     "metadata": {},
     "output_type": "display_data"
    },
    {
     "name": "stdout",
     "output_type": "stream",
     "text": [
      "\n"
     ]
    },
    {
     "data": {
      "application/vnd.jupyter.widget-view+json": {
       "model_id": "caac439931bf482580e1461d078bbb8e",
       "version_major": 2,
       "version_minor": 0
      },
      "text/plain": [
       "HBox(children=(IntProgress(value=0, max=10), HTML(value='')))"
      ]
     },
     "metadata": {},
     "output_type": "display_data"
    },
    {
     "name": "stdout",
     "output_type": "stream",
     "text": [
      "\n"
     ]
    },
    {
     "data": {
      "application/vnd.jupyter.widget-view+json": {
       "model_id": "f9e2154c7b9c450fabfaafaa0e85db90",
       "version_major": 2,
       "version_minor": 0
      },
      "text/plain": [
       "HBox(children=(IntProgress(value=1, bar_style='info', max=1), HTML(value='')))"
      ]
     },
     "metadata": {},
     "output_type": "display_data"
    },
    {
     "name": "stdout",
     "output_type": "stream",
     "text": [
      "\n",
      "\tSilhouette Score: 0.2560422453633954\n",
      "\n",
      "Class: Cristiano_Ronaldo\n"
     ]
    },
    {
     "data": {
      "application/vnd.jupyter.widget-view+json": {
       "model_id": "cc1253eb32d54f35ac97b02a8f3a68bc",
       "version_major": 2,
       "version_minor": 0
      },
      "text/plain": [
       "HBox(children=(IntProgress(value=0, max=10), HTML(value='')))"
      ]
     },
     "metadata": {},
     "output_type": "display_data"
    },
    {
     "name": "stdout",
     "output_type": "stream",
     "text": [
      "\n"
     ]
    },
    {
     "data": {
      "application/vnd.jupyter.widget-view+json": {
       "model_id": "4981a9832ea44f1d99f9867719c48051",
       "version_major": 2,
       "version_minor": 0
      },
      "text/plain": [
       "HBox(children=(IntProgress(value=0, max=10), HTML(value='')))"
      ]
     },
     "metadata": {},
     "output_type": "display_data"
    },
    {
     "name": "stdout",
     "output_type": "stream",
     "text": [
      "\n"
     ]
    },
    {
     "data": {
      "application/vnd.jupyter.widget-view+json": {
       "model_id": "cfa0bd6b328e4693a53b4d27cefb84ae",
       "version_major": 2,
       "version_minor": 0
      },
      "text/plain": [
       "HBox(children=(IntProgress(value=1, bar_style='info', max=1), HTML(value='')))"
      ]
     },
     "metadata": {},
     "output_type": "display_data"
    },
    {
     "name": "stdout",
     "output_type": "stream",
     "text": [
      "\n",
      "\tSilhouette Score: 0.11421463831272607\n",
      "\n",
      "Silhouette Score Summary:\n",
      "\tAaron_Eckhart : 0.09762860752953828\n",
      "\tZac_Efron : 0.03985766752547465\n",
      "\tNicole_Richie : 0.10856500279688971\n",
      "\tChristina_Ricci : 0.07001655600305348\n",
      "\tJulia_Roberts : 0.037131861802468\n",
      "\tDrew_Barrymore : 0.025625033388502427\n",
      "\tBrad_Pitt : 0.43310672570514885\n",
      "\tAlyssa_Milano : 0.08420593467355504\n",
      "\tClive_Owen : 0.2560422453633954\n",
      "\tCristiano_Ronaldo : 0.11421463831272607\n"
     ]
    }
   ],
   "source": [
    "# Activation clustering\n",
    "\n",
    "cluster_training_set = True\n",
    "\n",
    "if cluster_training_set == True:\n",
    "    print(\"Clustering on Training Set\")\n",
    "    X_to_cluster = X\n",
    "    y_to_cluster = y\n",
    "    X_to_cluster_clean = X_clean\n",
    "    y_to_cluster_clean = y_clean\n",
    "    X_to_cluster_poison = X_poison\n",
    "    y_to_cluster_poison = y_poison\n",
    "else:\n",
    "    print(\"Clustering on Evaluation Set\")\n",
    "    X_to_cluster = X_val\n",
    "    y_to_cluster = y_val\n",
    "    X_to_cluster_clean = X_val_clean\n",
    "    y_to_cluster_clean = y_val_clean\n",
    "    X_to_cluster_poison = X_val_poison\n",
    "    y_to_cluster_poison = y_val_poison\n",
    "        \n",
    "segmented_X = []\n",
    "segmented_y = []\n",
    "\n",
    "activations = []\n",
    "\n",
    "activations_transformed = []\n",
    "activations_transformed_clean = []\n",
    "activations_transformed_poison = []\n",
    "\n",
    "clusters_labels = []\n",
    "\n",
    "silhouette_scores = []\n",
    "\n",
    "for class_id in range(len(class_to_name)):\n",
    "    print('\\nClass: %s' % class_to_name[class_id])\n",
    "    seg_X, seg_y = segment_by_class(X_to_cluster,y_to_cluster,class_id)\n",
    "    \n",
    "    seg_X_clean, seg_y_clean = segment_by_class(X_to_cluster_clean,y_to_cluster_clean,class_id)\n",
    "    seg_X_poison, seg_y_poison = segment_by_class(X_to_cluster_poison,y_to_cluster_poison,class_id)\n",
    "    \n",
    "    segmented_X.append(seg_X)\n",
    "    segmented_y.append(seg_y)\n",
    "    \n",
    "    acts = model.get_activations(seg_X)\n",
    "    acts_clean = model.get_activations(seg_X_clean)\n",
    "    acts_poison = model.get_activations(seg_X_poison)\n",
    "    activations.append(acts)\n",
    "    \n",
    "    acts_trans, acts_trans_clean, acts_trans_poison, labels = cluster_activations(acts, acts_clean, acts_poison)\n",
    "        \n",
    "    activations_transformed.append(acts_trans)\n",
    "    activations_transformed_clean.append(acts_trans_clean)\n",
    "    activations_transformed_poison.append(acts_trans_poison)\n",
    "    clusters_labels.append(labels)\n",
    "    \n",
    "    sil_score = silhouette_score(acts_trans, labels)\n",
    "    silhouette_scores.append(sil_score)\n",
    "    \n",
    "    print(\"\\tSilhouette Score: %s\" % sil_score)\n",
    "\n",
    "print(\"\\nSilhouette Score Summary:\")\n",
    "for class_id in range(len(class_to_name)):\n",
    "    print(\"\\t%s : %s\" %(class_to_name[class_id], silhouette_scores[class_id]))"
   ]
  },
  {
   "cell_type": "markdown",
   "metadata": {},
   "source": [
    "- Use activation clustering on evaluation set\n",
    "- silhouette_score to see if poisonous examples exist\n",
    "- take smaller cluster as suspected poisonous examples\n",
    "\n",
    "- Save predictions for unlabeled test set\n",
    "- Concatenate test examples with training set\n",
    "- Get activations, cluster activations\n",
    "- Compute silouette score\n",
    "- Score > 0.12 => poisoned\n",
    "- Smaller cluster \n",
    "- Visualization (first 2 or 3 components of activations)\n",
    "\n",
    "- Pre-cluster training set\n",
    "- Save predictions for unlabeled test set, get activations\n",
    "- Dimensionality reduction and KNN from predictions to training clusters\n",
    "- Smaller cluster \n",
    "- Visualization (first 2 or 3 components of activations)"
   ]
  },
  {
   "cell_type": "code",
   "execution_count": 21,
   "metadata": {},
   "outputs": [],
   "source": [
    "def generate_activations_plot(clean_activations, poison_activations, dims=3, title=None):\n",
    "    \"\"\"\n",
    "    Generates a scatterplot of the activations\n",
    "    \"\"\"\n",
    "    \n",
    "    if dims == 2:        \n",
    "        if clean_activations is not None:\n",
    "            plt.scatter(clean_activations[:,0], clean_activations[:,1], c='b', marker='o', label='Honest')\n",
    "\n",
    "        if poison_activations is not None:\n",
    "            plt.scatter(poison_activations[:,0], poison_activations[:,1], c='r', marker='o', label='Malicious')\n",
    "\n",
    "        plt.xlabel('PC1')\n",
    "        plt.ylabel('PC2')\n",
    "        if title is not None:\n",
    "            plt.title(title)\n",
    "        plt.legend(bbox_to_anchor=(1.05, 1), loc=2)\n",
    "        plt.tight_layout()\n",
    "\n",
    "        plt.show()\n",
    "        return None\n",
    "    elif dims == 3:\n",
    "        fig = plt.figure()\n",
    "        ax = fig.add_subplot(111, projection='3d')\n",
    "\n",
    "        if clean_activations is not None:\n",
    "            ax.scatter(clean_activations[:,0], clean_activations[:,1], clean_activations[:,2], c='b', marker='o', label='Honest')\n",
    "\n",
    "        if poison_activations is not None:\n",
    "            ax.scatter(poison_activations[:,0], poison_activations[:,1], poison_activations[:,2], c='r', marker='o', label='Malicious')\n",
    "\n",
    "        ax.set_xlabel('PC1')\n",
    "        ax.set_ylabel('PC2')\n",
    "        ax.set_zlabel('PC3')\n",
    "        if title is not None:\n",
    "                plt.title(title)\n",
    "        plt.legend(bbox_to_anchor=(1.05, 1), loc=2)\n",
    "        plt.tight_layout()\n",
    "\n",
    "        plt.show()\n",
    "        return None\n",
    "    else:\n",
    "        return None"
   ]
  },
  {
   "cell_type": "code",
   "execution_count": 22,
   "metadata": {},
   "outputs": [],
   "source": [
    "# # Sample plots\n",
    "# generate_activations_plot(activations_transformed[0],None,dims=2,title=\"Activations for Aaron_Eckhart\")\n",
    "# generate_activations_plot(activations_transformed[0],None,dims=3,title=\"Activations for Aaron_Eckhart\")"
   ]
  },
  {
   "cell_type": "code",
   "execution_count": 23,
   "metadata": {},
   "outputs": [
    {
     "data": {
      "image/png": "[encoded data removed]",
      "text/plain": [
       "<Figure size 432x288 with 1 Axes>"
      ]
     },
     "metadata": {
      "needs_background": "light"
     },
     "output_type": "display_data"
    },
    {
     "data": {
      "image/png": "[encoded data removed]",
      "text/plain": [
       "<Figure size 432x288 with 1 Axes>"
      ]
     },
     "metadata": {
      "needs_background": "light"
     },
     "output_type": "display_data"
    },
    {
     "data": {
      "image/png": "[encoded data removed]",
      "text/plain": [
       "<Figure size 432x288 with 1 Axes>"
      ]
     },
     "metadata": {
      "needs_background": "light"
     },
     "output_type": "display_data"
    },
    {
     "data": {
      "image/png": "[encoded data removed]",
      "text/plain": [
       "<Figure size 432x288 with 1 Axes>"
      ]
     },
     "metadata": {
      "needs_background": "light"
     },
     "output_type": "display_data"
    },
    {
     "data": {
      "image/png": "[encoded data removed]",
      "text/plain": [
       "<Figure size 432x288 with 1 Axes>"
      ]
     },
     "metadata": {
      "needs_background": "light"
     },
     "output_type": "display_data"
    },
    {
     "data": {
      "image/png": "[encoded data removed]",
      "text/plain": [
       "<Figure size 432x288 with 1 Axes>"
      ]
     },
     "metadata": {
      "needs_background": "light"
     },
     "output_type": "display_data"
    },
    {
     "data": {
      "image/png": "[encoded data removed]",
      "text/plain": [
       "<Figure size 432x288 with 1 Axes>"
      ]
     },
     "metadata": {
      "needs_background": "light"
     },
     "output_type": "display_data"
    },
    {
     "data": {
      "image/png": "[encoded data removed]",
      "text/plain": [
       "<Figure size 432x288 with 1 Axes>"
      ]
     },
     "metadata": {
      "needs_background": "light"
     },
     "output_type": "display_data"
    },
    {
     "data": {
      "image/png": "[encoded data removed]",
      "text/plain": [
       "<Figure size 432x288 with 1 Axes>"
      ]
     },
     "metadata": {
      "needs_background": "light"
     },
     "output_type": "display_data"
    },
    {
     "data": {
      "image/png": "[encoded data removed]",
      "text/plain": [
       "<Figure size 432x288 with 1 Axes>"
      ]
     },
     "metadata": {
      "needs_background": "light"
     },
     "output_type": "display_data"
    }
   ],
   "source": [
    "# Generating plots\n",
    "\n",
    "for class_id in range(len(class_to_name)):\n",
    "    generate_activations_plot(activations_transformed_clean[class_id],activations_transformed_poison[class_id],dims=2,title=\"Activations for %s\" % class_to_name[class_id])\n",
    "    "
   ]
  },
  {
   "cell_type": "code",
   "execution_count": null,
   "metadata": {},
   "outputs": [],
   "source": []
  }
 ],
 "metadata": {
  "kernelspec": {
   "display_name": "Python 3",
   "language": "python",
   "name": "python3"
  },
  "language_info": {
   "codemirror_mode": {
    "name": "ipython",
    "version": 3
   },
   "file_extension": ".py",
   "mimetype": "text/x-python",
   "name": "python",
   "nbconvert_exporter": "python",
   "pygments_lexer": "ipython3",
   "version": "3.6.8"
  }
 },
 "nbformat": 4,
 "nbformat_minor": 2
}
